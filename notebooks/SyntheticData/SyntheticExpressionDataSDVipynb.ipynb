{
  "nbformat": 4,
  "nbformat_minor": 0,
  "metadata": {
    "colab": {
      "provenance": []
    },
    "kernelspec": {
      "name": "python3",
      "display_name": "Python 3"
    },
    "language_info": {
      "name": "python"
    }
  },
  "cells": [
    {
      "cell_type": "markdown",
      "source": [
        "<a href=\"https://github.com/isb-cgc/ML-Develop/tree/main/notebooks/SyntheticData/SyntheticExpressionDataSDV.ipynb\" target=\"_parent\"><img src=\"https://colab.research.google.com/assets/colab-badge.svg\" alt=\"Open In Colab\"/></a>"
      ],
      "metadata": {
        "id": "5Dh4OVAhYJDy"
      }
    },
    {
      "cell_type": "markdown",
      "source": [
        "# Generating Synthetic Gene Expression Data Using Synthetic Data Vault\n",
        "\n",
        "Check out other ML/AI notebooks at [ML-Develop Repository](https://github.com/isb-cgc/ML-Develop/tree/main/notebooks)!\n",
        "\n",
        "```\n",
        "Title: Generating Synthetic Gene Expression Data Using Synthetic Data Vault  \n",
        "Author: Jacob Wilson  \n",
        "Created: 2025-06-06\n",
        "URL: https://github.com/isb-cgc/ML-Develop/tree/main/notebooks/SyntheticData/SyntheticExpressionDataSDV  \n",
        "Purpose: We will use the Python library Synthetic Data Vault (SDV) to generate synthetic gene expression data using TCGA as the source.\n",
        "```\n",
        "\n",
        "Synthetic Data Vault (SDV) is an extensive Python library that helps users create synthetic tabular data. It utilizes machine learning and statistical methods to model the structure and statistical nature of a given dataset. For more information, see the documentation provided for Synthetic Data Vault, [https://docs.sdv.dev/sdv](https://docs.sdv.dev/sdv)."
      ],
      "metadata": {
        "id": "9HBIyVoJYLBU"
      }
    },
    {
      "cell_type": "markdown",
      "source": [
        "## Install the SDV Python library"
      ],
      "metadata": {
        "id": "P953-dI0w6uB"
      }
    },
    {
      "cell_type": "code",
      "source": [
        "%pip install sdv"
      ],
      "metadata": {
        "colab": {
          "base_uri": "https://localhost:8080/"
        },
        "collapsed": true,
        "id": "WAbmzwVgYQ9f",
        "outputId": "cf4c472c-e4a1-463d-95a2-fdae3dbdf766"
      },
      "execution_count": 1,
      "outputs": [
        {
          "output_type": "stream",
          "name": "stdout",
          "text": [
            "Collecting sdv\n",
            "  Downloading sdv-1.22.1-py3-none-any.whl.metadata (14 kB)\n",
            "Collecting boto3<2.0.0,>=1.28 (from sdv)\n",
            "  Downloading boto3-1.38.30-py3-none-any.whl.metadata (6.6 kB)\n",
            "Collecting botocore<2.0.0,>=1.31 (from sdv)\n",
            "  Downloading botocore-1.38.30-py3-none-any.whl.metadata (5.7 kB)\n",
            "Requirement already satisfied: cloudpickle>=2.1.0 in /usr/local/lib/python3.11/dist-packages (from sdv) (3.1.1)\n",
            "Requirement already satisfied: graphviz>=0.13.2 in /usr/local/lib/python3.11/dist-packages (from sdv) (0.20.3)\n",
            "Requirement already satisfied: numpy>=1.24.0 in /usr/local/lib/python3.11/dist-packages (from sdv) (2.0.2)\n",
            "Requirement already satisfied: pandas>=1.5.0 in /usr/local/lib/python3.11/dist-packages (from sdv) (2.2.2)\n",
            "Requirement already satisfied: tqdm>=4.29 in /usr/local/lib/python3.11/dist-packages (from sdv) (4.67.1)\n",
            "Collecting copulas>=0.12.1 (from sdv)\n",
            "  Downloading copulas-0.12.2-py3-none-any.whl.metadata (9.4 kB)\n",
            "Collecting ctgan>=0.11.0 (from sdv)\n",
            "  Downloading ctgan-0.11.0-py3-none-any.whl.metadata (10 kB)\n",
            "Collecting deepecho>=0.7.0 (from sdv)\n",
            "  Downloading deepecho-0.7.0-py3-none-any.whl.metadata (10 kB)\n",
            "Collecting rdt>=1.17.0 (from sdv)\n",
            "  Downloading rdt-1.17.0-py3-none-any.whl.metadata (10 kB)\n",
            "Collecting sdmetrics>=0.21.0 (from sdv)\n",
            "  Downloading sdmetrics-0.21.0-py3-none-any.whl.metadata (9.4 kB)\n",
            "Requirement already satisfied: platformdirs>=4.0 in /usr/local/lib/python3.11/dist-packages (from sdv) (4.3.8)\n",
            "Requirement already satisfied: pyyaml>=6.0.1 in /usr/local/lib/python3.11/dist-packages (from sdv) (6.0.2)\n",
            "Collecting jmespath<2.0.0,>=0.7.1 (from boto3<2.0.0,>=1.28->sdv)\n",
            "  Downloading jmespath-1.0.1-py3-none-any.whl.metadata (7.6 kB)\n",
            "Collecting s3transfer<0.14.0,>=0.13.0 (from boto3<2.0.0,>=1.28->sdv)\n",
            "  Downloading s3transfer-0.13.0-py3-none-any.whl.metadata (1.7 kB)\n",
            "Requirement already satisfied: python-dateutil<3.0.0,>=2.1 in /usr/local/lib/python3.11/dist-packages (from botocore<2.0.0,>=1.31->sdv) (2.9.0.post0)\n",
            "Requirement already satisfied: urllib3!=2.2.0,<3,>=1.25.4 in /usr/local/lib/python3.11/dist-packages (from botocore<2.0.0,>=1.31->sdv) (2.4.0)\n",
            "Requirement already satisfied: plotly>=5.10.0 in /usr/local/lib/python3.11/dist-packages (from copulas>=0.12.1->sdv) (5.24.1)\n",
            "Requirement already satisfied: scipy>=1.9.2 in /usr/local/lib/python3.11/dist-packages (from copulas>=0.12.1->sdv) (1.15.3)\n",
            "Requirement already satisfied: torch>=2.0.0 in /usr/local/lib/python3.11/dist-packages (from ctgan>=0.11.0->sdv) (2.6.0+cu124)\n",
            "Requirement already satisfied: pytz>=2020.1 in /usr/local/lib/python3.11/dist-packages (from pandas>=1.5.0->sdv) (2025.2)\n",
            "Requirement already satisfied: tzdata>=2022.7 in /usr/local/lib/python3.11/dist-packages (from pandas>=1.5.0->sdv) (2025.2)\n",
            "Requirement already satisfied: scikit-learn>=1.1.3 in /usr/local/lib/python3.11/dist-packages (from rdt>=1.17.0->sdv) (1.6.1)\n",
            "Collecting Faker>=17 (from rdt>=1.17.0->sdv)\n",
            "  Downloading faker-37.3.0-py3-none-any.whl.metadata (15 kB)\n",
            "Requirement already satisfied: tenacity>=6.2.0 in /usr/local/lib/python3.11/dist-packages (from plotly>=5.10.0->copulas>=0.12.1->sdv) (9.1.2)\n",
            "Requirement already satisfied: packaging in /usr/local/lib/python3.11/dist-packages (from plotly>=5.10.0->copulas>=0.12.1->sdv) (24.2)\n",
            "Requirement already satisfied: six>=1.5 in /usr/local/lib/python3.11/dist-packages (from python-dateutil<3.0.0,>=2.1->botocore<2.0.0,>=1.31->sdv) (1.17.0)\n",
            "Requirement already satisfied: joblib>=1.2.0 in /usr/local/lib/python3.11/dist-packages (from scikit-learn>=1.1.3->rdt>=1.17.0->sdv) (1.5.1)\n",
            "Requirement already satisfied: threadpoolctl>=3.1.0 in /usr/local/lib/python3.11/dist-packages (from scikit-learn>=1.1.3->rdt>=1.17.0->sdv) (3.6.0)\n",
            "Requirement already satisfied: filelock in /usr/local/lib/python3.11/dist-packages (from torch>=2.0.0->ctgan>=0.11.0->sdv) (3.18.0)\n",
            "Requirement already satisfied: typing-extensions>=4.10.0 in /usr/local/lib/python3.11/dist-packages (from torch>=2.0.0->ctgan>=0.11.0->sdv) (4.13.2)\n",
            "Requirement already satisfied: networkx in /usr/local/lib/python3.11/dist-packages (from torch>=2.0.0->ctgan>=0.11.0->sdv) (3.5)\n",
            "Requirement already satisfied: jinja2 in /usr/local/lib/python3.11/dist-packages (from torch>=2.0.0->ctgan>=0.11.0->sdv) (3.1.6)\n",
            "Requirement already satisfied: fsspec in /usr/local/lib/python3.11/dist-packages (from torch>=2.0.0->ctgan>=0.11.0->sdv) (2025.3.2)\n",
            "Collecting nvidia-cuda-nvrtc-cu12==12.4.127 (from torch>=2.0.0->ctgan>=0.11.0->sdv)\n",
            "  Downloading nvidia_cuda_nvrtc_cu12-12.4.127-py3-none-manylinux2014_x86_64.whl.metadata (1.5 kB)\n",
            "Collecting nvidia-cuda-runtime-cu12==12.4.127 (from torch>=2.0.0->ctgan>=0.11.0->sdv)\n",
            "  Downloading nvidia_cuda_runtime_cu12-12.4.127-py3-none-manylinux2014_x86_64.whl.metadata (1.5 kB)\n",
            "Collecting nvidia-cuda-cupti-cu12==12.4.127 (from torch>=2.0.0->ctgan>=0.11.0->sdv)\n",
            "  Downloading nvidia_cuda_cupti_cu12-12.4.127-py3-none-manylinux2014_x86_64.whl.metadata (1.6 kB)\n",
            "Collecting nvidia-cudnn-cu12==9.1.0.70 (from torch>=2.0.0->ctgan>=0.11.0->sdv)\n",
            "  Downloading nvidia_cudnn_cu12-9.1.0.70-py3-none-manylinux2014_x86_64.whl.metadata (1.6 kB)\n",
            "Collecting nvidia-cublas-cu12==12.4.5.8 (from torch>=2.0.0->ctgan>=0.11.0->sdv)\n",
            "  Downloading nvidia_cublas_cu12-12.4.5.8-py3-none-manylinux2014_x86_64.whl.metadata (1.5 kB)\n",
            "Collecting nvidia-cufft-cu12==11.2.1.3 (from torch>=2.0.0->ctgan>=0.11.0->sdv)\n",
            "  Downloading nvidia_cufft_cu12-11.2.1.3-py3-none-manylinux2014_x86_64.whl.metadata (1.5 kB)\n",
            "Collecting nvidia-curand-cu12==10.3.5.147 (from torch>=2.0.0->ctgan>=0.11.0->sdv)\n",
            "  Downloading nvidia_curand_cu12-10.3.5.147-py3-none-manylinux2014_x86_64.whl.metadata (1.5 kB)\n",
            "Collecting nvidia-cusolver-cu12==11.6.1.9 (from torch>=2.0.0->ctgan>=0.11.0->sdv)\n",
            "  Downloading nvidia_cusolver_cu12-11.6.1.9-py3-none-manylinux2014_x86_64.whl.metadata (1.6 kB)\n",
            "Collecting nvidia-cusparse-cu12==12.3.1.170 (from torch>=2.0.0->ctgan>=0.11.0->sdv)\n",
            "  Downloading nvidia_cusparse_cu12-12.3.1.170-py3-none-manylinux2014_x86_64.whl.metadata (1.6 kB)\n",
            "Requirement already satisfied: nvidia-cusparselt-cu12==0.6.2 in /usr/local/lib/python3.11/dist-packages (from torch>=2.0.0->ctgan>=0.11.0->sdv) (0.6.2)\n",
            "Requirement already satisfied: nvidia-nccl-cu12==2.21.5 in /usr/local/lib/python3.11/dist-packages (from torch>=2.0.0->ctgan>=0.11.0->sdv) (2.21.5)\n",
            "Requirement already satisfied: nvidia-nvtx-cu12==12.4.127 in /usr/local/lib/python3.11/dist-packages (from torch>=2.0.0->ctgan>=0.11.0->sdv) (12.4.127)\n",
            "Collecting nvidia-nvjitlink-cu12==12.4.127 (from torch>=2.0.0->ctgan>=0.11.0->sdv)\n",
            "  Downloading nvidia_nvjitlink_cu12-12.4.127-py3-none-manylinux2014_x86_64.whl.metadata (1.5 kB)\n",
            "Requirement already satisfied: triton==3.2.0 in /usr/local/lib/python3.11/dist-packages (from torch>=2.0.0->ctgan>=0.11.0->sdv) (3.2.0)\n",
            "Requirement already satisfied: sympy==1.13.1 in /usr/local/lib/python3.11/dist-packages (from torch>=2.0.0->ctgan>=0.11.0->sdv) (1.13.1)\n",
            "Requirement already satisfied: mpmath<1.4,>=1.1.0 in /usr/local/lib/python3.11/dist-packages (from sympy==1.13.1->torch>=2.0.0->ctgan>=0.11.0->sdv) (1.3.0)\n",
            "Requirement already satisfied: MarkupSafe>=2.0 in /usr/local/lib/python3.11/dist-packages (from jinja2->torch>=2.0.0->ctgan>=0.11.0->sdv) (3.0.2)\n",
            "Downloading sdv-1.22.1-py3-none-any.whl (180 kB)\n",
            "\u001b[2K   \u001b[90m━━━━━━━━━━━━━━━━━━━━━━━━━━━━━━━━━━━━━━━━\u001b[0m \u001b[32m180.2/180.2 kB\u001b[0m \u001b[31m4.3 MB/s\u001b[0m eta \u001b[36m0:00:00\u001b[0m\n",
            "\u001b[?25hDownloading boto3-1.38.30-py3-none-any.whl (139 kB)\n",
            "\u001b[2K   \u001b[90m━━━━━━━━━━━━━━━━━━━━━━━━━━━━━━━━━━━━━━━━\u001b[0m \u001b[32m139.9/139.9 kB\u001b[0m \u001b[31m7.1 MB/s\u001b[0m eta \u001b[36m0:00:00\u001b[0m\n",
            "\u001b[?25hDownloading botocore-1.38.30-py3-none-any.whl (13.6 MB)\n",
            "\u001b[2K   \u001b[90m━━━━━━━━━━━━━━━━━━━━━━━━━━━━━━━━━━━━━━━━\u001b[0m \u001b[32m13.6/13.6 MB\u001b[0m \u001b[31m42.1 MB/s\u001b[0m eta \u001b[36m0:00:00\u001b[0m\n",
            "\u001b[?25hDownloading copulas-0.12.2-py3-none-any.whl (52 kB)\n",
            "\u001b[2K   \u001b[90m━━━━━━━━━━━━━━━━━━━━━━━━━━━━━━━━━━━━━━━━\u001b[0m \u001b[32m52.5/52.5 kB\u001b[0m \u001b[31m2.6 MB/s\u001b[0m eta \u001b[36m0:00:00\u001b[0m\n",
            "\u001b[?25hDownloading ctgan-0.11.0-py3-none-any.whl (24 kB)\n",
            "Downloading deepecho-0.7.0-py3-none-any.whl (27 kB)\n",
            "Downloading rdt-1.17.0-py3-none-any.whl (73 kB)\n",
            "\u001b[2K   \u001b[90m━━━━━━━━━━━━━━━━━━━━━━━━━━━━━━━━━━━━━━━━\u001b[0m \u001b[32m73.8/73.8 kB\u001b[0m \u001b[31m4.6 MB/s\u001b[0m eta \u001b[36m0:00:00\u001b[0m\n",
            "\u001b[?25hDownloading sdmetrics-0.21.0-py3-none-any.whl (193 kB)\n",
            "\u001b[2K   \u001b[90m━━━━━━━━━━━━━━━━━━━━━━━━━━━━━━━━━━━━━━━━\u001b[0m \u001b[32m193.5/193.5 kB\u001b[0m \u001b[31m10.4 MB/s\u001b[0m eta \u001b[36m0:00:00\u001b[0m\n",
            "\u001b[?25hDownloading faker-37.3.0-py3-none-any.whl (1.9 MB)\n",
            "\u001b[2K   \u001b[90m━━━━━━━━━━━━━━━━━━━━━━━━━━━━━━━━━━━━━━━━\u001b[0m \u001b[32m1.9/1.9 MB\u001b[0m \u001b[31m42.0 MB/s\u001b[0m eta \u001b[36m0:00:00\u001b[0m\n",
            "\u001b[?25hDownloading jmespath-1.0.1-py3-none-any.whl (20 kB)\n",
            "Downloading s3transfer-0.13.0-py3-none-any.whl (85 kB)\n",
            "\u001b[2K   \u001b[90m━━━━━━━━━━━━━━━━━━━━━━━━━━━━━━━━━━━━━━━━\u001b[0m \u001b[32m85.2/85.2 kB\u001b[0m \u001b[31m5.0 MB/s\u001b[0m eta \u001b[36m0:00:00\u001b[0m\n",
            "\u001b[?25hDownloading nvidia_cublas_cu12-12.4.5.8-py3-none-manylinux2014_x86_64.whl (363.4 MB)\n",
            "\u001b[2K   \u001b[90m━━━━━━━━━━━━━━━━━━━━━━━━━━━━━━━━━━━━━━━━\u001b[0m \u001b[32m363.4/363.4 MB\u001b[0m \u001b[31m4.3 MB/s\u001b[0m eta \u001b[36m0:00:00\u001b[0m\n",
            "\u001b[?25hDownloading nvidia_cuda_cupti_cu12-12.4.127-py3-none-manylinux2014_x86_64.whl (13.8 MB)\n",
            "\u001b[2K   \u001b[90m━━━━━━━━━━━━━━━━━━━━━━━━━━━━━━━━━━━━━━━━\u001b[0m \u001b[32m13.8/13.8 MB\u001b[0m \u001b[31m91.4 MB/s\u001b[0m eta \u001b[36m0:00:00\u001b[0m\n",
            "\u001b[?25hDownloading nvidia_cuda_nvrtc_cu12-12.4.127-py3-none-manylinux2014_x86_64.whl (24.6 MB)\n",
            "\u001b[2K   \u001b[90m━━━━━━━━━━━━━━━━━━━━━━━━━━━━━━━━━━━━━━━━\u001b[0m \u001b[32m24.6/24.6 MB\u001b[0m \u001b[31m71.9 MB/s\u001b[0m eta \u001b[36m0:00:00\u001b[0m\n",
            "\u001b[?25hDownloading nvidia_cuda_runtime_cu12-12.4.127-py3-none-manylinux2014_x86_64.whl (883 kB)\n",
            "\u001b[2K   \u001b[90m━━━━━━━━━━━━━━━━━━━━━━━━━━━━━━━━━━━━━━━━\u001b[0m \u001b[32m883.7/883.7 kB\u001b[0m \u001b[31m46.6 MB/s\u001b[0m eta \u001b[36m0:00:00\u001b[0m\n",
            "\u001b[?25hDownloading nvidia_cudnn_cu12-9.1.0.70-py3-none-manylinux2014_x86_64.whl (664.8 MB)\n",
            "\u001b[2K   \u001b[90m━━━━━━━━━━━━━━━━━━━━━━━━━━━━━━━━━━━━━━━━\u001b[0m \u001b[32m664.8/664.8 MB\u001b[0m \u001b[31m2.1 MB/s\u001b[0m eta \u001b[36m0:00:00\u001b[0m\n",
            "\u001b[?25hDownloading nvidia_cufft_cu12-11.2.1.3-py3-none-manylinux2014_x86_64.whl (211.5 MB)\n",
            "\u001b[2K   \u001b[90m━━━━━━━━━━━━━━━━━━━━━━━━━━━━━━━━━━━━━━━━\u001b[0m \u001b[32m211.5/211.5 MB\u001b[0m \u001b[31m5.4 MB/s\u001b[0m eta \u001b[36m0:00:00\u001b[0m\n",
            "\u001b[?25hDownloading nvidia_curand_cu12-10.3.5.147-py3-none-manylinux2014_x86_64.whl (56.3 MB)\n",
            "\u001b[2K   \u001b[90m━━━━━━━━━━━━━━━━━━━━━━━━━━━━━━━━━━━━━━━━\u001b[0m \u001b[32m56.3/56.3 MB\u001b[0m \u001b[31m11.6 MB/s\u001b[0m eta \u001b[36m0:00:00\u001b[0m\n",
            "\u001b[?25hDownloading nvidia_cusolver_cu12-11.6.1.9-py3-none-manylinux2014_x86_64.whl (127.9 MB)\n",
            "\u001b[2K   \u001b[90m━━━━━━━━━━━━━━━━━━━━━━━━━━━━━━━━━━━━━━━━\u001b[0m \u001b[32m127.9/127.9 MB\u001b[0m \u001b[31m7.2 MB/s\u001b[0m eta \u001b[36m0:00:00\u001b[0m\n",
            "\u001b[?25hDownloading nvidia_cusparse_cu12-12.3.1.170-py3-none-manylinux2014_x86_64.whl (207.5 MB)\n",
            "\u001b[2K   \u001b[90m━━━━━━━━━━━━━━━━━━━━━━━━━━━━━━━━━━━━━━━━\u001b[0m \u001b[32m207.5/207.5 MB\u001b[0m \u001b[31m5.8 MB/s\u001b[0m eta \u001b[36m0:00:00\u001b[0m\n",
            "\u001b[?25hDownloading nvidia_nvjitlink_cu12-12.4.127-py3-none-manylinux2014_x86_64.whl (21.1 MB)\n",
            "\u001b[2K   \u001b[90m━━━━━━━━━━━━━━━━━━━━━━━━━━━━━━━━━━━━━━━━\u001b[0m \u001b[32m21.1/21.1 MB\u001b[0m \u001b[31m78.3 MB/s\u001b[0m eta \u001b[36m0:00:00\u001b[0m\n",
            "\u001b[?25hInstalling collected packages: nvidia-nvjitlink-cu12, nvidia-curand-cu12, nvidia-cufft-cu12, nvidia-cuda-runtime-cu12, nvidia-cuda-nvrtc-cu12, nvidia-cuda-cupti-cu12, nvidia-cublas-cu12, jmespath, Faker, nvidia-cusparse-cu12, nvidia-cudnn-cu12, botocore, s3transfer, rdt, nvidia-cusolver-cu12, copulas, sdmetrics, boto3, deepecho, ctgan, sdv\n",
            "  Attempting uninstall: nvidia-nvjitlink-cu12\n",
            "    Found existing installation: nvidia-nvjitlink-cu12 12.5.82\n",
            "    Uninstalling nvidia-nvjitlink-cu12-12.5.82:\n",
            "      Successfully uninstalled nvidia-nvjitlink-cu12-12.5.82\n",
            "  Attempting uninstall: nvidia-curand-cu12\n",
            "    Found existing installation: nvidia-curand-cu12 10.3.6.82\n",
            "    Uninstalling nvidia-curand-cu12-10.3.6.82:\n",
            "      Successfully uninstalled nvidia-curand-cu12-10.3.6.82\n",
            "  Attempting uninstall: nvidia-cufft-cu12\n",
            "    Found existing installation: nvidia-cufft-cu12 11.2.3.61\n",
            "    Uninstalling nvidia-cufft-cu12-11.2.3.61:\n",
            "      Successfully uninstalled nvidia-cufft-cu12-11.2.3.61\n",
            "  Attempting uninstall: nvidia-cuda-runtime-cu12\n",
            "    Found existing installation: nvidia-cuda-runtime-cu12 12.5.82\n",
            "    Uninstalling nvidia-cuda-runtime-cu12-12.5.82:\n",
            "      Successfully uninstalled nvidia-cuda-runtime-cu12-12.5.82\n",
            "  Attempting uninstall: nvidia-cuda-nvrtc-cu12\n",
            "    Found existing installation: nvidia-cuda-nvrtc-cu12 12.5.82\n",
            "    Uninstalling nvidia-cuda-nvrtc-cu12-12.5.82:\n",
            "      Successfully uninstalled nvidia-cuda-nvrtc-cu12-12.5.82\n",
            "  Attempting uninstall: nvidia-cuda-cupti-cu12\n",
            "    Found existing installation: nvidia-cuda-cupti-cu12 12.5.82\n",
            "    Uninstalling nvidia-cuda-cupti-cu12-12.5.82:\n",
            "      Successfully uninstalled nvidia-cuda-cupti-cu12-12.5.82\n",
            "  Attempting uninstall: nvidia-cublas-cu12\n",
            "    Found existing installation: nvidia-cublas-cu12 12.5.3.2\n",
            "    Uninstalling nvidia-cublas-cu12-12.5.3.2:\n",
            "      Successfully uninstalled nvidia-cublas-cu12-12.5.3.2\n",
            "  Attempting uninstall: nvidia-cusparse-cu12\n",
            "    Found existing installation: nvidia-cusparse-cu12 12.5.1.3\n",
            "    Uninstalling nvidia-cusparse-cu12-12.5.1.3:\n",
            "      Successfully uninstalled nvidia-cusparse-cu12-12.5.1.3\n",
            "  Attempting uninstall: nvidia-cudnn-cu12\n",
            "    Found existing installation: nvidia-cudnn-cu12 9.3.0.75\n",
            "    Uninstalling nvidia-cudnn-cu12-9.3.0.75:\n",
            "      Successfully uninstalled nvidia-cudnn-cu12-9.3.0.75\n",
            "  Attempting uninstall: nvidia-cusolver-cu12\n",
            "    Found existing installation: nvidia-cusolver-cu12 11.6.3.83\n",
            "    Uninstalling nvidia-cusolver-cu12-11.6.3.83:\n",
            "      Successfully uninstalled nvidia-cusolver-cu12-11.6.3.83\n",
            "Successfully installed Faker-37.3.0 boto3-1.38.30 botocore-1.38.30 copulas-0.12.2 ctgan-0.11.0 deepecho-0.7.0 jmespath-1.0.1 nvidia-cublas-cu12-12.4.5.8 nvidia-cuda-cupti-cu12-12.4.127 nvidia-cuda-nvrtc-cu12-12.4.127 nvidia-cuda-runtime-cu12-12.4.127 nvidia-cudnn-cu12-9.1.0.70 nvidia-cufft-cu12-11.2.1.3 nvidia-curand-cu12-10.3.5.147 nvidia-cusolver-cu12-11.6.1.9 nvidia-cusparse-cu12-12.3.1.170 nvidia-nvjitlink-cu12-12.4.127 rdt-1.17.0 s3transfer-0.13.0 sdmetrics-0.21.0 sdv-1.22.1\n"
          ]
        }
      ]
    },
    {
      "cell_type": "markdown",
      "source": [
        "## Initialize Notebook Environment\n",
        "\n",
        "Before beginning, we first need to load dependencies and authenticate to BigQuery."
      ],
      "metadata": {
        "id": "yiElUGhqwExi"
      }
    },
    {
      "cell_type": "markdown",
      "source": [
        "## Install Dependencies"
      ],
      "metadata": {
        "id": "nunerv5rwIdR"
      }
    },
    {
      "cell_type": "code",
      "source": [
        "# GCP Libraries\n",
        "from google.cloud import bigquery\n",
        "from google.colab import auth\n",
        "\n",
        "# SDV libraries\n",
        "from sdv.metadata import Metadata\n",
        "from sdv.single_table import GaussianCopulaSynthesizer\n",
        "from sdv.evaluation.single_table import run_diagnostic\n",
        "from sdv.evaluation.single_table import evaluate_quality\n",
        "from sdv.evaluation.single_table import get_column_plot\n",
        "\n",
        "from itertools import chain"
      ],
      "metadata": {
        "id": "skrDeUvCYUCj"
      },
      "execution_count": 2,
      "outputs": []
    },
    {
      "cell_type": "markdown",
      "source": [
        "## Authenticate\n",
        "\n",
        "In order to utilize BigQuery, we must obtain authorization to BigQuery and Google Cloud."
      ],
      "metadata": {
        "id": "RF1XgCjKwLiM"
      }
    },
    {
      "cell_type": "code",
      "source": [
        "# if you're using Google Colab, authenticate to gcloud with the following\n",
        "auth.authenticate_user()\n",
        "\n",
        "# alternatively, use the gcloud SDK\n",
        "#!gcloud auth application-default login"
      ],
      "metadata": {
        "id": "i0K4GnQmYYub"
      },
      "execution_count": 4,
      "outputs": []
    },
    {
      "cell_type": "markdown",
      "source": [
        "## Google project ID\n",
        "\n",
        "Set your own Google project ID for use with this notebook."
      ],
      "metadata": {
        "id": "xa3i9VokwQLE"
      }
    },
    {
      "cell_type": "code",
      "source": [
        "# set the google project that will be billed for this notebook's computations\n",
        "google_project = 'your_project_id'  ## change this"
      ],
      "metadata": {
        "id": "W_PDF7eXYZde"
      },
      "execution_count": 5,
      "outputs": []
    },
    {
      "cell_type": "markdown",
      "source": [
        "## BigQuery Client"
      ],
      "metadata": {
        "id": "dm3BRfi5wYZu"
      }
    },
    {
      "cell_type": "code",
      "source": [
        "# Initialize a client to access the data within BigQuery\n",
        "if google_project == 'your_project_id':\n",
        "    print('Please update the project ID with your Google Cloud Project')\n",
        "else:\n",
        "    client = bigquery.Client(google_project)\n",
        "\n",
        "# set the TCGA project\n",
        "TCGA_proj = 'isb-cgc-bq'\n",
        "TCGA_data = 'TCGA_versioned'\n",
        "\n",
        "# set the Mitelman Database project\n",
        "mitel_proj = 'mitelman-db'\n",
        "mitel_data = 'prod'"
      ],
      "metadata": {
        "id": "O5VjHuEfYc2r"
      },
      "execution_count": 6,
      "outputs": []
    },
    {
      "cell_type": "markdown",
      "source": [
        "## Preparing the Real Data"
      ],
      "metadata": {
        "id": "EXzlavqtxYEa"
      }
    },
    {
      "cell_type": "markdown",
      "source": [
        "### Select gene names for prostate cancer cases in the Mitelman Database"
      ],
      "metadata": {
        "id": "faWqBdstwccy"
      }
    },
    {
      "cell_type": "code",
      "source": [
        "# query for the ten most common gene fusions for Mitelman Prostate adenocarcinoma cases\n",
        "fusions_prostate = f'''\n",
        "SELECT g.Gene, count(g.Gene) AS Count, m.Morph, k.Benamning, m.Topo\n",
        "FROM `{mitel_proj}.{mitel_data}.MolClinGene` g\n",
        "JOIN `{mitel_proj}.{mitel_data}.MolBiolClinAssoc` m\n",
        "  ON m.RefNo = g.RefNo AND m.InvNo = g.InvNo\n",
        "JOIN `{mitel_proj}.{mitel_data}.Koder` k\n",
        "  ON k.Kod = m.Topo AND k.kodTyp = \"TOP\"\n",
        "-- we are only considering gene fusions for Prostate adenocarcinoma\n",
        "WHERE g.Gene LIKE \"%::%\" AND m.Morph LIKE \"3111\" AND m.Topo LIKE \"0602\"\n",
        "GROUP BY g.Gene, m.Morph, k.Benamning, m.Topo\n",
        "ORDER BY Count DESC\n",
        "LIMIT 10\n",
        "'''"
      ],
      "metadata": {
        "id": "GNBbk0e_YsHO"
      },
      "execution_count": 7,
      "outputs": []
    },
    {
      "cell_type": "code",
      "source": [
        "# run the query and view the gene fusions\n",
        "top10_prostate = client.query(fusions_prostate).result().to_dataframe()\n",
        "#print(top10_prostate)"
      ],
      "metadata": {
        "id": "NIWFJFHjYvvj"
      },
      "execution_count": 8,
      "outputs": []
    },
    {
      "cell_type": "code",
      "source": [
        "# convert the list of gene fusion pairs into a string containing individual unique gene names\n",
        "genes_list = [x.split(\"::\") for x in top10_prostate['Gene']]\n",
        "genes_set = set(chain.from_iterable(genes_list))\n",
        "genes_str = ','.join(f\"'{gene}'\" for gene in genes_set)\n",
        "\n",
        "#print(genes_str)"
      ],
      "metadata": {
        "id": "aqhSQXdFYx5J"
      },
      "execution_count": 9,
      "outputs": []
    },
    {
      "cell_type": "markdown",
      "source": [
        "### Select prostate cancer cases in TCGA"
      ],
      "metadata": {
        "id": "cN29h-GdwjDJ"
      }
    },
    {
      "cell_type": "code",
      "source": [
        "# query to select all Prostate adenocarcinomas in TCGA\n",
        "query_TCGA = f'''\n",
        "SELECT r.project_short_name,\n",
        "      r.primary_site,\n",
        "      r.gene_name,\n",
        "      p.proj__name,\n",
        "      p.disease_type,\n",
        "      p.diag__primary_gleason_grade\n",
        "FROM `{TCGA_proj}.{TCGA_data}.RNAseq_hg38_gdc_r39` r\n",
        "JOIN `{TCGA_proj}.{TCGA_data}.clinical_gdc_r39` p\n",
        "  ON r.case_gdc_id = p.case_id\n",
        "-- select cases from the Prostate adenocarcinoma project\n",
        "WHERE r.project_short_name = \"TCGA-PRAD\"\n",
        "  AND p.disease_type = \"Adenomas and Adenocarcinomas\"\n",
        "'''"
      ],
      "metadata": {
        "id": "x4k0t28TYlBT"
      },
      "execution_count": 10,
      "outputs": []
    },
    {
      "cell_type": "code",
      "source": [
        "# run the query and view results\n",
        "TCGA_prostate = client.query(query_TCGA).result().to_dataframe()\n",
        "#print(TCGA_prostate)"
      ],
      "metadata": {
        "id": "y20YnCcvYpMY"
      },
      "execution_count": 11,
      "outputs": []
    },
    {
      "cell_type": "markdown",
      "source": [
        "### Create a table of real data containing gene expression data of our 10 genes from TCGA prostate cancer cases"
      ],
      "metadata": {
        "id": "u3wo67PMwrPY"
      }
    },
    {
      "cell_type": "code",
      "source": [
        "# query to select all TCGA gene expression data for our 10 genes\n",
        "real_data_query = f'''\n",
        "SELECT * FROM(\n",
        "  SELECT\n",
        "    seq.case_barcode,\n",
        "    seq.gene_name,\n",
        "    seq.fpkm_uq_unstranded,\n",
        "    --assign Primary Gleason Grade to an appropriate integer\n",
        "    CASE clin.diag__primary_gleason_grade\n",
        "      WHEN \"Pattern 1\" THEN 1\n",
        "      WHEN \"Pattern 2\" THEN 2\n",
        "      WHEN \"Pattern 3\" THEN 3\n",
        "      WHEN \"Pattern 4\" THEN 4\n",
        "      WHEN \"Pattern 5\" THEN 5\n",
        "    END AS primary_gleason_grade\n",
        "  FROM `{TCGA_proj}.{TCGA_data}.RNAseq_hg38_gdc_r39` seq\n",
        "  JOIN `{TCGA_proj}.{TCGA_data}.clinical_gdc_r39` clin\n",
        "    ON seq.case_gdc_id = clin.case_id\n",
        "  WHERE seq.project_short_name = \"TCGA-PRAD\"\n",
        "    AND clin.disease_type = \"Adenomas and Adenocarcinomas\")\n",
        "--transform genes from rows to columns using pivot\n",
        "PIVOT(MAX(fpkm_uq_unstranded) for gene_name IN ({genes_str}))\n",
        "'''\n",
        "#print(real_data_query)"
      ],
      "metadata": {
        "id": "Xv6mOT16Y0Pz"
      },
      "execution_count": 12,
      "outputs": []
    },
    {
      "cell_type": "code",
      "source": [
        "# Run the query.\n",
        "real_data = client.query(real_data_query).result().to_dataframe()\n",
        "print(real_data)"
      ],
      "metadata": {
        "colab": {
          "base_uri": "https://localhost:8080/"
        },
        "id": "t0wDoI4KY3Xz",
        "outputId": "ba3cad59-f864-4a29-f10b-bae69b596f7c"
      },
      "execution_count": 13,
      "outputs": [
        {
          "output_type": "stream",
          "name": "stdout",
          "text": [
            "     case_barcode  primary_gleason_grade      ETV4  SERINC5  METTL13      AK5  \\\n",
            "0    TCGA-FC-A8O0                      3    2.3907   9.0659      NaN   0.8539   \n",
            "1    TCGA-M7-A720                      3    1.3257  30.4393      NaN   1.0580   \n",
            "2    TCGA-CH-5763                      3  115.9199  50.1531      NaN   1.5347   \n",
            "3    TCGA-FC-7961                      4    0.5355  15.4432      NaN   2.3802   \n",
            "4    TCGA-CH-5761                      5    0.6629  35.0183      NaN   0.4997   \n",
            "..            ...                    ...       ...      ...      ...      ...   \n",
            "482  TCGA-VP-AA1N                      5    0.5139  12.1202      NaN  19.4430   \n",
            "483  TCGA-HC-7737                      3    0.5249  23.0455      NaN   1.6228   \n",
            "484  TCGA-G9-A9S7                      4    0.3071  32.1440      NaN   3.4087   \n",
            "485  TCGA-KK-A6DY                      3    0.3327  48.9531      NaN   3.5293   \n",
            "486  TCGA-HC-7081                      4    0.4576  80.9899      NaN   6.2830   \n",
            "\n",
            "      SLC45A3   OSBPL9   TMPRSS2   EIF4G3     ELK4       KLK2    ETV1  \\\n",
            "0    837.6305   9.1537  189.0480   7.2404  42.5167  1257.9304  2.1409   \n",
            "1    608.1413  12.6632  336.1376   8.1498  13.4202  1361.7525  0.8740   \n",
            "2    522.5018  10.5797  144.3430   9.9830  17.2688   883.6428  2.1827   \n",
            "3    189.7914   5.8607  190.7441   7.7088   8.9058   592.2080  1.7551   \n",
            "4    683.6050  12.7214  279.4224  15.4593  11.3825   827.2849  0.5678   \n",
            "..        ...      ...       ...      ...      ...        ...     ...   \n",
            "482  198.1690  18.6231  343.6920   7.4997   3.6354   927.8659  0.8696   \n",
            "483  946.3773   9.6170  603.3228  11.9775   7.9432   917.3515  1.1020   \n",
            "484  413.7114  16.0451  238.3724   8.6588  10.3368  1467.5947  0.3929   \n",
            "485  268.4209  10.5431  168.0377  10.5380   9.9288   954.2409  0.8181   \n",
            "486  336.2901   9.3796  159.0089  13.1894  16.6551   446.3720  2.4910   \n",
            "\n",
            "         ERG  ADGRL2     NDRG1  \n",
            "0     0.6995  3.8899   54.2920  \n",
            "1     2.3607  2.5404  209.6327  \n",
            "2     1.7754  4.5591  160.9449  \n",
            "3     1.7990  4.0915   90.6968  \n",
            "4     2.0224  3.8699  182.3259  \n",
            "..       ...     ...       ...  \n",
            "482   1.3978  1.8451  120.0937  \n",
            "483   3.3273  6.3858   64.0226  \n",
            "484  69.9965  2.2756  131.3090  \n",
            "485  40.5639  1.8047  167.5259  \n",
            "486  53.7448  3.4177  300.9264  \n",
            "\n",
            "[487 rows x 16 columns]\n"
          ]
        }
      ]
    },
    {
      "cell_type": "markdown",
      "source": [
        "## Using SDV to Generate Synthetic Data"
      ],
      "metadata": {
        "id": "UMF0KcCrxR1x"
      }
    },
    {
      "cell_type": "markdown",
      "source": [
        "### Create the metadata for the real data"
      ],
      "metadata": {
        "id": "Wd3dFmJM0WcR"
      }
    },
    {
      "cell_type": "code",
      "source": [
        "metadata = Metadata.detect_from_dataframe(\n",
        "    data=real_data,\n",
        "    table_name='tcga_data')"
      ],
      "metadata": {
        "id": "s5v8M-MMZHsn"
      },
      "execution_count": 14,
      "outputs": []
    },
    {
      "cell_type": "code",
      "source": [
        "metadata.visualize()"
      ],
      "metadata": {
        "colab": {
          "base_uri": "https://localhost:8080/",
          "height": 425
        },
        "id": "t3I8I28FZNY8",
        "outputId": "1689003e-7da9-421f-8527-2f153d1a8483"
      },
      "execution_count": 15,
      "outputs": [
        {
          "output_type": "execute_result",
          "data": {
            "image/svg+xml": "<?xml version=\"1.0\" encoding=\"UTF-8\" standalone=\"no\"?>\n<!DOCTYPE svg PUBLIC \"-//W3C//DTD SVG 1.1//EN\"\n \"http://www.w3.org/Graphics/SVG/1.1/DTD/svg11.dtd\">\n<!-- Generated by graphviz version 2.43.0 (0)\n -->\n<!-- Title: Metadata Pages: 1 -->\n<svg width=\"223pt\" height=\"303pt\"\n viewBox=\"0.00 0.00 223.00 303.00\" xmlns=\"http://www.w3.org/2000/svg\" xmlns:xlink=\"http://www.w3.org/1999/xlink\">\n<g id=\"graph0\" class=\"graph\" transform=\"scale(1 1) rotate(0) translate(4 299)\">\n<title>Metadata</title>\n<polygon fill=\"white\" stroke=\"transparent\" points=\"-4,4 -4,-299 219,-299 219,4 -4,4\"/>\n<!-- tcga_data -->\n<g id=\"node1\" class=\"node\">\n<title>tcga_data</title>\n<path fill=\"#ffec8b\" stroke=\"black\" d=\"M12,-0.5C12,-0.5 203,-0.5 203,-0.5 209,-0.5 215,-6.5 215,-12.5 215,-12.5 215,-282.5 215,-282.5 215,-288.5 209,-294.5 203,-294.5 203,-294.5 12,-294.5 12,-294.5 6,-294.5 0,-288.5 0,-282.5 0,-282.5 0,-12.5 0,-12.5 0,-6.5 6,-0.5 12,-0.5\"/>\n<text text-anchor=\"middle\" x=\"107.5\" y=\"-279.3\" font-family=\"Times,serif\" font-size=\"14.00\">tcga_data</text>\n<polyline fill=\"none\" stroke=\"black\" points=\"0,-271.5 215,-271.5 \"/>\n<text text-anchor=\"start\" x=\"8\" y=\"-256.3\" font-family=\"Times,serif\" font-size=\"14.00\">case_barcode : id</text>\n<text text-anchor=\"start\" x=\"8\" y=\"-241.3\" font-family=\"Times,serif\" font-size=\"14.00\">primary_gleason_grade : categorical</text>\n<text text-anchor=\"start\" x=\"8\" y=\"-226.3\" font-family=\"Times,serif\" font-size=\"14.00\">ETV4 : numerical</text>\n<text text-anchor=\"start\" x=\"8\" y=\"-211.3\" font-family=\"Times,serif\" font-size=\"14.00\">SERINC5 : numerical</text>\n<text text-anchor=\"start\" x=\"8\" y=\"-196.3\" font-family=\"Times,serif\" font-size=\"14.00\">METTL13 : numerical</text>\n<text text-anchor=\"start\" x=\"8\" y=\"-181.3\" font-family=\"Times,serif\" font-size=\"14.00\">AK5 : numerical</text>\n<text text-anchor=\"start\" x=\"8\" y=\"-166.3\" font-family=\"Times,serif\" font-size=\"14.00\">SLC45A3 : numerical</text>\n<text text-anchor=\"start\" x=\"8\" y=\"-151.3\" font-family=\"Times,serif\" font-size=\"14.00\">OSBPL9 : numerical</text>\n<text text-anchor=\"start\" x=\"8\" y=\"-136.3\" font-family=\"Times,serif\" font-size=\"14.00\">TMPRSS2 : numerical</text>\n<text text-anchor=\"start\" x=\"8\" y=\"-121.3\" font-family=\"Times,serif\" font-size=\"14.00\">EIF4G3 : numerical</text>\n<text text-anchor=\"start\" x=\"8\" y=\"-106.3\" font-family=\"Times,serif\" font-size=\"14.00\">ELK4 : numerical</text>\n<text text-anchor=\"start\" x=\"8\" y=\"-91.3\" font-family=\"Times,serif\" font-size=\"14.00\">KLK2 : numerical</text>\n<text text-anchor=\"start\" x=\"8\" y=\"-76.3\" font-family=\"Times,serif\" font-size=\"14.00\">ETV1 : numerical</text>\n<text text-anchor=\"start\" x=\"8\" y=\"-61.3\" font-family=\"Times,serif\" font-size=\"14.00\">ERG : numerical</text>\n<text text-anchor=\"start\" x=\"8\" y=\"-46.3\" font-family=\"Times,serif\" font-size=\"14.00\">ADGRL2 : numerical</text>\n<text text-anchor=\"start\" x=\"8\" y=\"-31.3\" font-family=\"Times,serif\" font-size=\"14.00\">NDRG1 : numerical</text>\n<polyline fill=\"none\" stroke=\"black\" points=\"0,-23.5 215,-23.5 \"/>\n<text text-anchor=\"start\" x=\"8\" y=\"-8.3\" font-family=\"Times,serif\" font-size=\"14.00\">Primary key: case_barcode</text>\n</g>\n</g>\n</svg>\n",
            "text/plain": [
              "<graphviz.graphs.Digraph at 0x7a9e1b9fed50>"
            ]
          },
          "metadata": {},
          "execution_count": 15
        }
      ]
    },
    {
      "cell_type": "markdown",
      "source": [
        "### Initialize the synthesizer and fit the real data"
      ],
      "metadata": {
        "id": "5eA1W5kX0cIk"
      }
    },
    {
      "cell_type": "code",
      "source": [
        "# create a synthesizer object, in this case we utilize a copula for our single table of data\n",
        "synthesizer = GaussianCopulaSynthesizer(metadata)"
      ],
      "metadata": {
        "colab": {
          "base_uri": "https://localhost:8080/"
        },
        "id": "JNO0InNFZSCV",
        "outputId": "b836cb4a-dfd7-4f08-f0f0-2e85638bd8c0"
      },
      "execution_count": 16,
      "outputs": [
        {
          "output_type": "stream",
          "name": "stderr",
          "text": [
            "/usr/local/lib/python3.11/dist-packages/sdv/single_table/base.py:128: UserWarning: We strongly recommend saving the metadata using 'save_to_json' for replicability in future SDV versions.\n",
            "  warnings.warn(\n"
          ]
        }
      ]
    },
    {
      "cell_type": "code",
      "source": [
        "# fit the real data\n",
        "synthesizer.fit(\n",
        "   data=real_data\n",
        ")"
      ],
      "metadata": {
        "id": "5B0spauMZTHG"
      },
      "execution_count": 17,
      "outputs": []
    },
    {
      "cell_type": "code",
      "source": [
        "# generate 500 rows of synthetic data\n",
        "synthetic_data = synthesizer.sample(\n",
        "    num_rows=500\n",
        ")\n",
        "\n",
        "synthetic_data.head()"
      ],
      "metadata": {
        "colab": {
          "base_uri": "https://localhost:8080/",
          "height": 206
        },
        "id": "LRj6G6fCZVbm",
        "outputId": "c83cac72-c936-4e2f-9541-e145ff953813"
      },
      "execution_count": 18,
      "outputs": [
        {
          "output_type": "execute_result",
          "data": {
            "text/plain": [
              "    case_barcode  primary_gleason_grade    ETV4  SERINC5  METTL13      AK5  \\\n",
              "0  sdv-id-hpNZfH                      4  0.7308  25.3137      NaN   1.3841   \n",
              "1  sdv-id-xvUQmC                      4  1.8839  92.7804      NaN   1.6367   \n",
              "2  sdv-id-EDPSRY                      3  0.0707  52.8415      NaN   1.7435   \n",
              "3  sdv-id-pYIgsB                      3  3.7638  34.1563      NaN   0.8234   \n",
              "4  sdv-id-ygkCvT                      5  0.1449  14.4834      NaN  11.7325   \n",
              "\n",
              "    SLC45A3   OSBPL9   TMPRSS2   EIF4G3     ELK4       KLK2    ETV1      ERG  \\\n",
              "0  417.5141   9.8846  137.7276   4.4592   6.5369  1204.8922  9.7314   1.5438   \n",
              "1  522.3375  11.2926  309.2774   6.4824   9.5247  1090.3545  0.7470  23.2429   \n",
              "2  706.6449   8.6002  583.7457  11.5639  12.6124  2028.5618  2.4795  21.5101   \n",
              "3  355.2948  12.6054  101.5045  12.2717  18.8942  1098.7766  5.5499  15.5737   \n",
              "4  770.3939   8.8703  388.7911   6.6172  14.5575  2022.4814  0.1354   2.2369   \n",
              "\n",
              "   ADGRL2     NDRG1  \n",
              "0  1.0246  202.9782  \n",
              "1  4.0630  241.9447  \n",
              "2  2.5362  131.1099  \n",
              "3  2.1694  166.4092  \n",
              "4  1.9922   34.5570  "
            ],
            "text/html": [
              "\n",
              "  <div id=\"df-10fe455f-d375-45f1-ad7b-a3499d9ab3cc\" class=\"colab-df-container\">\n",
              "    <div>\n",
              "<style scoped>\n",
              "    .dataframe tbody tr th:only-of-type {\n",
              "        vertical-align: middle;\n",
              "    }\n",
              "\n",
              "    .dataframe tbody tr th {\n",
              "        vertical-align: top;\n",
              "    }\n",
              "\n",
              "    .dataframe thead th {\n",
              "        text-align: right;\n",
              "    }\n",
              "</style>\n",
              "<table border=\"1\" class=\"dataframe\">\n",
              "  <thead>\n",
              "    <tr style=\"text-align: right;\">\n",
              "      <th></th>\n",
              "      <th>case_barcode</th>\n",
              "      <th>primary_gleason_grade</th>\n",
              "      <th>ETV4</th>\n",
              "      <th>SERINC5</th>\n",
              "      <th>METTL13</th>\n",
              "      <th>AK5</th>\n",
              "      <th>SLC45A3</th>\n",
              "      <th>OSBPL9</th>\n",
              "      <th>TMPRSS2</th>\n",
              "      <th>EIF4G3</th>\n",
              "      <th>ELK4</th>\n",
              "      <th>KLK2</th>\n",
              "      <th>ETV1</th>\n",
              "      <th>ERG</th>\n",
              "      <th>ADGRL2</th>\n",
              "      <th>NDRG1</th>\n",
              "    </tr>\n",
              "  </thead>\n",
              "  <tbody>\n",
              "    <tr>\n",
              "      <th>0</th>\n",
              "      <td>sdv-id-hpNZfH</td>\n",
              "      <td>4</td>\n",
              "      <td>0.7308</td>\n",
              "      <td>25.3137</td>\n",
              "      <td>NaN</td>\n",
              "      <td>1.3841</td>\n",
              "      <td>417.5141</td>\n",
              "      <td>9.8846</td>\n",
              "      <td>137.7276</td>\n",
              "      <td>4.4592</td>\n",
              "      <td>6.5369</td>\n",
              "      <td>1204.8922</td>\n",
              "      <td>9.7314</td>\n",
              "      <td>1.5438</td>\n",
              "      <td>1.0246</td>\n",
              "      <td>202.9782</td>\n",
              "    </tr>\n",
              "    <tr>\n",
              "      <th>1</th>\n",
              "      <td>sdv-id-xvUQmC</td>\n",
              "      <td>4</td>\n",
              "      <td>1.8839</td>\n",
              "      <td>92.7804</td>\n",
              "      <td>NaN</td>\n",
              "      <td>1.6367</td>\n",
              "      <td>522.3375</td>\n",
              "      <td>11.2926</td>\n",
              "      <td>309.2774</td>\n",
              "      <td>6.4824</td>\n",
              "      <td>9.5247</td>\n",
              "      <td>1090.3545</td>\n",
              "      <td>0.7470</td>\n",
              "      <td>23.2429</td>\n",
              "      <td>4.0630</td>\n",
              "      <td>241.9447</td>\n",
              "    </tr>\n",
              "    <tr>\n",
              "      <th>2</th>\n",
              "      <td>sdv-id-EDPSRY</td>\n",
              "      <td>3</td>\n",
              "      <td>0.0707</td>\n",
              "      <td>52.8415</td>\n",
              "      <td>NaN</td>\n",
              "      <td>1.7435</td>\n",
              "      <td>706.6449</td>\n",
              "      <td>8.6002</td>\n",
              "      <td>583.7457</td>\n",
              "      <td>11.5639</td>\n",
              "      <td>12.6124</td>\n",
              "      <td>2028.5618</td>\n",
              "      <td>2.4795</td>\n",
              "      <td>21.5101</td>\n",
              "      <td>2.5362</td>\n",
              "      <td>131.1099</td>\n",
              "    </tr>\n",
              "    <tr>\n",
              "      <th>3</th>\n",
              "      <td>sdv-id-pYIgsB</td>\n",
              "      <td>3</td>\n",
              "      <td>3.7638</td>\n",
              "      <td>34.1563</td>\n",
              "      <td>NaN</td>\n",
              "      <td>0.8234</td>\n",
              "      <td>355.2948</td>\n",
              "      <td>12.6054</td>\n",
              "      <td>101.5045</td>\n",
              "      <td>12.2717</td>\n",
              "      <td>18.8942</td>\n",
              "      <td>1098.7766</td>\n",
              "      <td>5.5499</td>\n",
              "      <td>15.5737</td>\n",
              "      <td>2.1694</td>\n",
              "      <td>166.4092</td>\n",
              "    </tr>\n",
              "    <tr>\n",
              "      <th>4</th>\n",
              "      <td>sdv-id-ygkCvT</td>\n",
              "      <td>5</td>\n",
              "      <td>0.1449</td>\n",
              "      <td>14.4834</td>\n",
              "      <td>NaN</td>\n",
              "      <td>11.7325</td>\n",
              "      <td>770.3939</td>\n",
              "      <td>8.8703</td>\n",
              "      <td>388.7911</td>\n",
              "      <td>6.6172</td>\n",
              "      <td>14.5575</td>\n",
              "      <td>2022.4814</td>\n",
              "      <td>0.1354</td>\n",
              "      <td>2.2369</td>\n",
              "      <td>1.9922</td>\n",
              "      <td>34.5570</td>\n",
              "    </tr>\n",
              "  </tbody>\n",
              "</table>\n",
              "</div>\n",
              "    <div class=\"colab-df-buttons\">\n",
              "\n",
              "  <div class=\"colab-df-container\">\n",
              "    <button class=\"colab-df-convert\" onclick=\"convertToInteractive('df-10fe455f-d375-45f1-ad7b-a3499d9ab3cc')\"\n",
              "            title=\"Convert this dataframe to an interactive table.\"\n",
              "            style=\"display:none;\">\n",
              "\n",
              "  <svg xmlns=\"http://www.w3.org/2000/svg\" height=\"24px\" viewBox=\"0 -960 960 960\">\n",
              "    <path d=\"M120-120v-720h720v720H120Zm60-500h600v-160H180v160Zm220 220h160v-160H400v160Zm0 220h160v-160H400v160ZM180-400h160v-160H180v160Zm440 0h160v-160H620v160ZM180-180h160v-160H180v160Zm440 0h160v-160H620v160Z\"/>\n",
              "  </svg>\n",
              "    </button>\n",
              "\n",
              "  <style>\n",
              "    .colab-df-container {\n",
              "      display:flex;\n",
              "      gap: 12px;\n",
              "    }\n",
              "\n",
              "    .colab-df-convert {\n",
              "      background-color: #E8F0FE;\n",
              "      border: none;\n",
              "      border-radius: 50%;\n",
              "      cursor: pointer;\n",
              "      display: none;\n",
              "      fill: #1967D2;\n",
              "      height: 32px;\n",
              "      padding: 0 0 0 0;\n",
              "      width: 32px;\n",
              "    }\n",
              "\n",
              "    .colab-df-convert:hover {\n",
              "      background-color: #E2EBFA;\n",
              "      box-shadow: 0px 1px 2px rgba(60, 64, 67, 0.3), 0px 1px 3px 1px rgba(60, 64, 67, 0.15);\n",
              "      fill: #174EA6;\n",
              "    }\n",
              "\n",
              "    .colab-df-buttons div {\n",
              "      margin-bottom: 4px;\n",
              "    }\n",
              "\n",
              "    [theme=dark] .colab-df-convert {\n",
              "      background-color: #3B4455;\n",
              "      fill: #D2E3FC;\n",
              "    }\n",
              "\n",
              "    [theme=dark] .colab-df-convert:hover {\n",
              "      background-color: #434B5C;\n",
              "      box-shadow: 0px 1px 3px 1px rgba(0, 0, 0, 0.15);\n",
              "      filter: drop-shadow(0px 1px 2px rgba(0, 0, 0, 0.3));\n",
              "      fill: #FFFFFF;\n",
              "    }\n",
              "  </style>\n",
              "\n",
              "    <script>\n",
              "      const buttonEl =\n",
              "        document.querySelector('#df-10fe455f-d375-45f1-ad7b-a3499d9ab3cc button.colab-df-convert');\n",
              "      buttonEl.style.display =\n",
              "        google.colab.kernel.accessAllowed ? 'block' : 'none';\n",
              "\n",
              "      async function convertToInteractive(key) {\n",
              "        const element = document.querySelector('#df-10fe455f-d375-45f1-ad7b-a3499d9ab3cc');\n",
              "        const dataTable =\n",
              "          await google.colab.kernel.invokeFunction('convertToInteractive',\n",
              "                                                    [key], {});\n",
              "        if (!dataTable) return;\n",
              "\n",
              "        const docLinkHtml = 'Like what you see? Visit the ' +\n",
              "          '<a target=\"_blank\" href=https://colab.research.google.com/notebooks/data_table.ipynb>data table notebook</a>'\n",
              "          + ' to learn more about interactive tables.';\n",
              "        element.innerHTML = '';\n",
              "        dataTable['output_type'] = 'display_data';\n",
              "        await google.colab.output.renderOutput(dataTable, element);\n",
              "        const docLink = document.createElement('div');\n",
              "        docLink.innerHTML = docLinkHtml;\n",
              "        element.appendChild(docLink);\n",
              "      }\n",
              "    </script>\n",
              "  </div>\n",
              "\n",
              "\n",
              "    <div id=\"df-5cba06cf-0545-4243-b956-62e1adf1a3d0\">\n",
              "      <button class=\"colab-df-quickchart\" onclick=\"quickchart('df-5cba06cf-0545-4243-b956-62e1adf1a3d0')\"\n",
              "                title=\"Suggest charts\"\n",
              "                style=\"display:none;\">\n",
              "\n",
              "<svg xmlns=\"http://www.w3.org/2000/svg\" height=\"24px\"viewBox=\"0 0 24 24\"\n",
              "     width=\"24px\">\n",
              "    <g>\n",
              "        <path d=\"M19 3H5c-1.1 0-2 .9-2 2v14c0 1.1.9 2 2 2h14c1.1 0 2-.9 2-2V5c0-1.1-.9-2-2-2zM9 17H7v-7h2v7zm4 0h-2V7h2v10zm4 0h-2v-4h2v4z\"/>\n",
              "    </g>\n",
              "</svg>\n",
              "      </button>\n",
              "\n",
              "<style>\n",
              "  .colab-df-quickchart {\n",
              "      --bg-color: #E8F0FE;\n",
              "      --fill-color: #1967D2;\n",
              "      --hover-bg-color: #E2EBFA;\n",
              "      --hover-fill-color: #174EA6;\n",
              "      --disabled-fill-color: #AAA;\n",
              "      --disabled-bg-color: #DDD;\n",
              "  }\n",
              "\n",
              "  [theme=dark] .colab-df-quickchart {\n",
              "      --bg-color: #3B4455;\n",
              "      --fill-color: #D2E3FC;\n",
              "      --hover-bg-color: #434B5C;\n",
              "      --hover-fill-color: #FFFFFF;\n",
              "      --disabled-bg-color: #3B4455;\n",
              "      --disabled-fill-color: #666;\n",
              "  }\n",
              "\n",
              "  .colab-df-quickchart {\n",
              "    background-color: var(--bg-color);\n",
              "    border: none;\n",
              "    border-radius: 50%;\n",
              "    cursor: pointer;\n",
              "    display: none;\n",
              "    fill: var(--fill-color);\n",
              "    height: 32px;\n",
              "    padding: 0;\n",
              "    width: 32px;\n",
              "  }\n",
              "\n",
              "  .colab-df-quickchart:hover {\n",
              "    background-color: var(--hover-bg-color);\n",
              "    box-shadow: 0 1px 2px rgba(60, 64, 67, 0.3), 0 1px 3px 1px rgba(60, 64, 67, 0.15);\n",
              "    fill: var(--button-hover-fill-color);\n",
              "  }\n",
              "\n",
              "  .colab-df-quickchart-complete:disabled,\n",
              "  .colab-df-quickchart-complete:disabled:hover {\n",
              "    background-color: var(--disabled-bg-color);\n",
              "    fill: var(--disabled-fill-color);\n",
              "    box-shadow: none;\n",
              "  }\n",
              "\n",
              "  .colab-df-spinner {\n",
              "    border: 2px solid var(--fill-color);\n",
              "    border-color: transparent;\n",
              "    border-bottom-color: var(--fill-color);\n",
              "    animation:\n",
              "      spin 1s steps(1) infinite;\n",
              "  }\n",
              "\n",
              "  @keyframes spin {\n",
              "    0% {\n",
              "      border-color: transparent;\n",
              "      border-bottom-color: var(--fill-color);\n",
              "      border-left-color: var(--fill-color);\n",
              "    }\n",
              "    20% {\n",
              "      border-color: transparent;\n",
              "      border-left-color: var(--fill-color);\n",
              "      border-top-color: var(--fill-color);\n",
              "    }\n",
              "    30% {\n",
              "      border-color: transparent;\n",
              "      border-left-color: var(--fill-color);\n",
              "      border-top-color: var(--fill-color);\n",
              "      border-right-color: var(--fill-color);\n",
              "    }\n",
              "    40% {\n",
              "      border-color: transparent;\n",
              "      border-right-color: var(--fill-color);\n",
              "      border-top-color: var(--fill-color);\n",
              "    }\n",
              "    60% {\n",
              "      border-color: transparent;\n",
              "      border-right-color: var(--fill-color);\n",
              "    }\n",
              "    80% {\n",
              "      border-color: transparent;\n",
              "      border-right-color: var(--fill-color);\n",
              "      border-bottom-color: var(--fill-color);\n",
              "    }\n",
              "    90% {\n",
              "      border-color: transparent;\n",
              "      border-bottom-color: var(--fill-color);\n",
              "    }\n",
              "  }\n",
              "</style>\n",
              "\n",
              "      <script>\n",
              "        async function quickchart(key) {\n",
              "          const quickchartButtonEl =\n",
              "            document.querySelector('#' + key + ' button');\n",
              "          quickchartButtonEl.disabled = true;  // To prevent multiple clicks.\n",
              "          quickchartButtonEl.classList.add('colab-df-spinner');\n",
              "          try {\n",
              "            const charts = await google.colab.kernel.invokeFunction(\n",
              "                'suggestCharts', [key], {});\n",
              "          } catch (error) {\n",
              "            console.error('Error during call to suggestCharts:', error);\n",
              "          }\n",
              "          quickchartButtonEl.classList.remove('colab-df-spinner');\n",
              "          quickchartButtonEl.classList.add('colab-df-quickchart-complete');\n",
              "        }\n",
              "        (() => {\n",
              "          let quickchartButtonEl =\n",
              "            document.querySelector('#df-5cba06cf-0545-4243-b956-62e1adf1a3d0 button');\n",
              "          quickchartButtonEl.style.display =\n",
              "            google.colab.kernel.accessAllowed ? 'block' : 'none';\n",
              "        })();\n",
              "      </script>\n",
              "    </div>\n",
              "\n",
              "    </div>\n",
              "  </div>\n"
            ],
            "application/vnd.google.colaboratory.intrinsic+json": {
              "type": "dataframe",
              "variable_name": "synthetic_data",
              "summary": "{\n  \"name\": \"synthetic_data\",\n  \"rows\": 500,\n  \"fields\": [\n    {\n      \"column\": \"case_barcode\",\n      \"properties\": {\n        \"dtype\": \"string\",\n        \"num_unique_values\": 500,\n        \"samples\": [\n          \"sdv-id-yeESla\",\n          \"sdv-id-pobkEu\",\n          \"sdv-id-ieGQkX\"\n        ],\n        \"semantic_type\": \"\",\n        \"description\": \"\"\n      }\n    },\n    {\n      \"column\": \"primary_gleason_grade\",\n      \"properties\": {\n        \"dtype\": \"Int64\",\n        \"num_unique_values\": 4,\n        \"samples\": [\n          3,\n          2,\n          4\n        ],\n        \"semantic_type\": \"\",\n        \"description\": \"\"\n      }\n    },\n    {\n      \"column\": \"ETV4\",\n      \"properties\": {\n        \"dtype\": \"number\",\n        \"std\": 35.85227014397836,\n        \"min\": 0.0707,\n        \"max\": 332.8201,\n        \"num_unique_values\": 454,\n        \"samples\": [\n          0.2778,\n          0.0711,\n          5.2791\n        ],\n        \"semantic_type\": \"\",\n        \"description\": \"\"\n      }\n    },\n    {\n      \"column\": \"SERINC5\",\n      \"properties\": {\n        \"dtype\": \"number\",\n        \"std\": 20.383258947834822,\n        \"min\": 5.222,\n        \"max\": 126.8527,\n        \"num_unique_values\": 500,\n        \"samples\": [\n          42.539,\n          23.3802,\n          42.7315\n        ],\n        \"semantic_type\": \"\",\n        \"description\": \"\"\n      }\n    },\n    {\n      \"column\": \"METTL13\",\n      \"properties\": {\n        \"dtype\": \"number\",\n        \"std\": null,\n        \"min\": null,\n        \"max\": null,\n        \"num_unique_values\": 0,\n        \"samples\": [],\n        \"semantic_type\": \"\",\n        \"description\": \"\"\n      }\n    },\n    {\n      \"column\": \"AK5\",\n      \"properties\": {\n        \"dtype\": \"number\",\n        \"std\": 3.679518722803236,\n        \"min\": 0.0746,\n        \"max\": 39.9887,\n        \"num_unique_values\": 497,\n        \"samples\": [],\n        \"semantic_type\": \"\",\n        \"description\": \"\"\n      }\n    },\n    {\n      \"column\": \"SLC45A3\",\n      \"properties\": {\n        \"dtype\": \"number\",\n        \"std\": 371.2359192621867,\n        \"min\": 23.7434,\n        \"max\": 1876.0357,\n        \"num_unique_values\": 500,\n        \"samples\": [],\n        \"semantic_type\": \"\",\n        \"description\": \"\"\n      }\n    },\n    {\n      \"column\": \"OSBPL9\",\n      \"properties\": {\n        \"dtype\": \"number\",\n        \"std\": 2.908053202893083,\n        \"min\": 2.5267,\n        \"max\": 18.8008,\n        \"num_unique_values\": 500,\n        \"samples\": [],\n        \"semantic_type\": \"\",\n        \"description\": \"\"\n      }\n    },\n    {\n      \"column\": \"TMPRSS2\",\n      \"properties\": {\n        \"dtype\": \"number\",\n        \"std\": 166.33638651505632,\n        \"min\": 18.8047,\n        \"max\": 860.4435,\n        \"num_unique_values\": 499,\n        \"samples\": [],\n        \"semantic_type\": \"\",\n        \"description\": \"\"\n      }\n    },\n    {\n      \"column\": \"EIF4G3\",\n      \"properties\": {\n        \"dtype\": \"number\",\n        \"std\": 3.5956901417898575,\n        \"min\": 3.9582,\n        \"max\": 21.7936,\n        \"num_unique_values\": 498,\n        \"samples\": [],\n        \"semantic_type\": \"\",\n        \"description\": \"\"\n      }\n    },\n    {\n      \"column\": \"ELK4\",\n      \"properties\": {\n        \"dtype\": \"number\",\n        \"std\": 8.903450009473442,\n        \"min\": 3.0143,\n        \"max\": 70.9274,\n        \"num_unique_values\": 500,\n        \"samples\": [],\n        \"semantic_type\": \"\",\n        \"description\": \"\"\n      }\n    },\n    {\n      \"column\": \"KLK2\",\n      \"properties\": {\n        \"dtype\": \"number\",\n        \"std\": 546.9827393302569,\n        \"min\": 105.7346,\n        \"max\": 2792.8787,\n        \"num_unique_values\": 500,\n        \"samples\": [],\n        \"semantic_type\": \"\",\n        \"description\": \"\"\n      }\n    },\n    {\n      \"column\": \"ETV1\",\n      \"properties\": {\n        \"dtype\": \"number\",\n        \"std\": 14.656445601682599,\n        \"min\": 0.0385,\n        \"max\": 91.5802,\n        \"num_unique_values\": 482,\n        \"samples\": [],\n        \"semantic_type\": \"\",\n        \"description\": \"\"\n      }\n    },\n    {\n      \"column\": \"ERG\",\n      \"properties\": {\n        \"dtype\": \"number\",\n        \"std\": 27.354942640128993,\n        \"min\": 0.2734,\n        \"max\": 115.0215,\n        \"num_unique_values\": 495,\n        \"samples\": [],\n        \"semantic_type\": \"\",\n        \"description\": \"\"\n      }\n    },\n    {\n      \"column\": \"ADGRL2\",\n      \"properties\": {\n        \"dtype\": \"number\",\n        \"std\": 2.2666467083584916,\n        \"min\": 0.19,\n        \"max\": 13.0849,\n        \"num_unique_values\": 499,\n        \"samples\": [],\n        \"semantic_type\": \"\",\n        \"description\": \"\"\n      }\n    },\n    {\n      \"column\": \"NDRG1\",\n      \"properties\": {\n        \"dtype\": \"number\",\n        \"std\": 77.00850978665544,\n        \"min\": 19.6873,\n        \"max\": 464.4896,\n        \"num_unique_values\": 500,\n        \"samples\": [],\n        \"semantic_type\": \"\",\n        \"description\": \"\"\n      }\n    }\n  ]\n}"
            }
          },
          "metadata": {},
          "execution_count": 18
        }
      ]
    },
    {
      "cell_type": "markdown",
      "source": [
        "### Evaluate the synthetic data using the SDV tools"
      ],
      "metadata": {
        "id": "jIwvQBBE0QG8"
      }
    },
    {
      "cell_type": "code",
      "source": [
        "# run diagnostics\n",
        "diagnostic = run_diagnostic(\n",
        "    real_data=real_data,\n",
        "    synthetic_data=synthetic_data,\n",
        "    metadata=metadata\n",
        ")"
      ],
      "metadata": {
        "colab": {
          "base_uri": "https://localhost:8080/"
        },
        "id": "LcKdQDkKZX0g",
        "outputId": "d5d7e671-f870-4f98-b4c1-cf18b3c20504"
      },
      "execution_count": 19,
      "outputs": [
        {
          "output_type": "stream",
          "name": "stdout",
          "text": [
            "Generating report ...\n",
            "\n",
            "(1/2) Evaluating Data Validity: |██████████| 16/16 [00:00<00:00, 736.53it/s]|\n",
            "Data Validity Score: 100.0%\n",
            "\n"
          ]
        },
        {
          "output_type": "stream",
          "name": "stderr",
          "text": [
            "/usr/local/lib/python3.11/dist-packages/sdmetrics/single_column/statistical/boundary_adherence.py:58: RuntimeWarning: invalid value encountered in scalar divide\n",
            "  return valid.sum() / len(synthetic_data)\n"
          ]
        },
        {
          "output_type": "stream",
          "name": "stdout",
          "text": [
            "(2/2) Evaluating Data Structure: |██████████| 1/1 [00:00<00:00, 151.15it/s]|\n",
            "Data Structure Score: 100.0%\n",
            "\n",
            "Overall Score (Average): 100.0%\n",
            "\n"
          ]
        }
      ]
    },
    {
      "cell_type": "code",
      "source": [
        "# evaluate quality\n",
        "quality_report = evaluate_quality(\n",
        "    real_data,\n",
        "    synthetic_data,\n",
        "    metadata\n",
        ")"
      ],
      "metadata": {
        "colab": {
          "base_uri": "https://localhost:8080/"
        },
        "id": "3y2C6G4qZaOC",
        "outputId": "32f43010-a426-48dd-962c-089be4057fc5"
      },
      "execution_count": 20,
      "outputs": [
        {
          "output_type": "stream",
          "name": "stdout",
          "text": [
            "Generating report ...\n",
            "\n",
            "(1/2) Evaluating Column Shapes: |██████████| 16/16 [00:00<00:00, 472.35it/s]|\n",
            "Column Shapes Score: 85.67%\n",
            "\n"
          ]
        },
        {
          "output_type": "stream",
          "name": "stderr",
          "text": [
            "/usr/local/lib/python3.11/dist-packages/sdmetrics/single_column/statistical/kscomplement.py:68: SmallSampleWarning: One or more sample arguments is too small; all returned values will be NaN. See documentation for sample size requirements.\n",
            "  statistic, _ = ks_2samp(real_data, synthetic_data)\n"
          ]
        },
        {
          "output_type": "stream",
          "name": "stdout",
          "text": [
            "(2/2) Evaluating Column Pair Trends: |██████████| 120/120 [00:00<00:00, 205.21it/s]|\n",
            "Column Pair Trends Score: 95.24%\n",
            "\n",
            "Overall Score (Average): 90.46%\n",
            "\n"
          ]
        }
      ]
    },
    {
      "cell_type": "markdown",
      "source": [
        "### Plot the results to compare synthetic and real data distributions"
      ],
      "metadata": {
        "id": "vyQ8iMGY0xK3"
      }
    },
    {
      "cell_type": "code",
      "source": [
        "# compare Gleason grade data\n",
        "fig = get_column_plot(\n",
        "    real_data=real_data,\n",
        "    synthetic_data=synthetic_data,\n",
        "    column_name='primary_gleason_grade',\n",
        "    metadata=metadata\n",
        ")\n",
        "\n",
        "fig.show()"
      ],
      "metadata": {
        "colab": {
          "base_uri": "https://localhost:8080/",
          "height": 542
        },
        "id": "kRI_ok00ZcsV",
        "outputId": "f4ecb610-6732-4351-f738-55ac3773863d"
      },
      "execution_count": 21,
      "outputs": [
        {
          "output_type": "display_data",
          "data": {
            "text/html": [
              "<html>\n",
              "<head><meta charset=\"utf-8\" /></head>\n",
              "<body>\n",
              "    <div>            <script src=\"https://cdnjs.cloudflare.com/ajax/libs/mathjax/2.7.5/MathJax.js?config=TeX-AMS-MML_SVG\"></script><script type=\"text/javascript\">if (window.MathJax && window.MathJax.Hub && window.MathJax.Hub.Config) {window.MathJax.Hub.Config({SVG: {font: \"STIX-Web\"}});}</script>                <script type=\"text/javascript\">window.PlotlyConfig = {MathJaxConfig: 'local'};</script>\n",
              "        <script charset=\"utf-8\" src=\"https://cdn.plot.ly/plotly-2.35.2.min.js\"></script>                <div id=\"cc1e3ce2-ac30-49de-b280-116de215de8a\" class=\"plotly-graph-div\" style=\"height:525px; width:100%;\"></div>            <script type=\"text/javascript\">                                    window.PLOTLYENV=window.PLOTLYENV || {};                                    if (document.getElementById(\"cc1e3ce2-ac30-49de-b280-116de215de8a\")) {                    Plotly.newPlot(                        \"cc1e3ce2-ac30-49de-b280-116de215de8a\",                        [{\"alignmentgroup\":\"True\",\"bingroup\":\"x\",\"histnorm\":\"probability density\",\"hovertemplate\":\"\\u003cb\\u003eReal\\u003c\\u002fb\\u003e\\u003cbr\\u003eFrequency: %{y}\\u003cextra\\u003e\\u003c\\u002fextra\\u003e\",\"legendgroup\":\"Real\",\"marker\":{\"color\":\"#000036\",\"pattern\":{\"shape\":\"\"}},\"name\":\"Real\",\"offsetgroup\":\"Real\",\"orientation\":\"v\",\"showlegend\":true,\"x\":[3,3,3,4,5,4,4,4,5,5,4,5,4,4,5,3,4,3,4,3,3,5,3,3,4,3,5,4,4,3,4,3,3,3,3,4,4,4,4,3,4,4,4,3,4,3,3,3,5,4,4,4,3,4,5,3,4,3,3,3,3,4,4,3,4,4,4,5,4,3,4,4,5,3,4,3,3,3,3,3,3,3,3,5,3,3,3,3,4,4,3,4,3,3,5,3,4,3,4,4,3,3,4,4,4,4,3,3,4,3,4,3,3,4,4,4,3,3,4,3,4,5,4,3,3,3,4,4,3,4,3,4,4,4,4,3,4,4,3,3,3,4,4,3,3,3,3,4,4,4,3,5,3,4,5,3,4,4,5,3,3,5,4,4,3,4,4,4,4,4,5,5,5,3,4,5,3,3,4,4,4,3,5,4,4,4,4,5,4,4,3,4,4,4,4,4,4,4,4,4,4,4,3,5,5,3,4,4,5,4,4,3,3,4,4,3,3,5,5,3,3,3,3,4,4,5,3,3,4,3,4,3,4,3,4,4,3,4,4,4,4,4,4,3,4,4,4,3,3,4,5,3,3,4,4,3,4,4,4,4,3,4,4,3,4,3,3,4,4,4,4,4,4,3,3,4,4,5,4,4,3,3,3,5,4,4,4,3,4,3,4,4,3,3,4,4,4,3,3,4,5,3,4,2,3,4,3,3,4,4,3,3,3,3,4,3,3,3,3,4,3,4,4,4,3,4,3,4,4,3,4,4,3,4,3,3,4,3,3,4,4,3,4,4,3,4,4,4,3,4,3,3,3,4,4,3,3,3,4,3,3,5,3,5,4,4,3,5,3,4,4,3,4,3,3,4,3,4,4,3,3,3,3,4,4,4,4,3,3,3,5,3,3,3,4,4,5,4,4,4,4,4,3,4,4,3,3,4,4,4,4,4,4,4,3,3,3,3,3,4,5,4,4,5,4,4,4,5,3,4,4,4,3,4,4,4,3,4,3,4,5,4,3,4,4,3,3,3,3,3,3,4,3,4,4,3,4,4,4,3,4,4,4,4,4,5,3,4,5,4,3,3,4,5,4,3,4,3,4,4,3,4,5,3,4,3,4],\"xaxis\":\"x\",\"yaxis\":\"y\",\"type\":\"histogram\"},{\"alignmentgroup\":\"True\",\"bingroup\":\"x\",\"histnorm\":\"probability density\",\"hovertemplate\":\"\\u003cb\\u003eSynthetic\\u003c\\u002fb\\u003e\\u003cbr\\u003eFrequency: %{y}\\u003cextra\\u003e\\u003c\\u002fextra\\u003e\",\"legendgroup\":\"Synthetic\",\"marker\":{\"color\":\"#01E0C9\",\"pattern\":{\"shape\":\"\\u002f\"}},\"name\":\"Synthetic\",\"offsetgroup\":\"Synthetic\",\"orientation\":\"v\",\"showlegend\":true,\"x\":[4,4,3,3,5,3,4,4,4,4,3,4,4,3,4,3,3,5,3,3,4,3,3,4,3,3,4,5,4,4,4,4,4,4,3,3,3,3,3,3,3,5,3,4,4,3,4,4,4,5,3,3,4,3,4,3,4,3,3,4,4,3,4,4,4,4,4,4,4,3,3,4,4,3,3,4,4,4,4,4,4,3,4,5,3,4,4,4,4,3,4,3,4,3,3,5,4,3,3,5,3,3,4,3,3,4,3,3,4,4,3,3,4,4,3,3,4,5,4,3,4,3,4,3,4,3,3,4,3,3,4,4,3,4,3,3,3,3,4,4,3,4,5,4,4,4,3,4,3,4,4,5,4,4,3,3,4,3,4,5,4,3,3,5,4,4,3,4,4,3,4,5,3,4,3,4,5,5,3,4,5,4,3,4,4,4,3,3,4,3,3,3,4,3,4,4,4,3,2,4,4,5,2,4,5,4,4,4,4,4,3,3,5,3,4,4,4,4,3,4,4,3,4,4,4,3,3,3,3,3,4,4,4,4,5,4,3,4,3,3,4,4,5,4,4,5,4,3,4,4,5,3,5,3,4,3,3,4,3,3,4,5,3,4,4,5,4,5,4,4,3,3,3,4,5,5,4,5,3,5,4,4,3,4,3,4,4,4,5,3,4,3,4,4,4,4,4,3,4,3,4,3,3,4,4,4,3,4,4,4,3,3,4,3,3,3,4,4,4,4,3,4,4,3,5,4,3,3,4,5,3,4,3,4,4,3,5,3,3,3,4,2,4,4,4,4,4,3,4,3,4,3,3,4,4,5,3,5,4,4,3,5,5,4,4,3,3,4,3,3,3,4,5,4,3,5,4,3,4,4,4,3,3,4,3,4,3,3,3,4,4,4,4,4,4,3,4,4,3,4,3,4,4,3,4,4,3,4,3,3,4,3,4,4,4,4,4,3,4,4,4,3,3,3,3,5,5,4,4,4,3,4,3,5,4,4,4,3,3,3,3,3,4,5,4,3,4,4,4,3,5,4,3,3,4,3,3,3,4,5,3,4,4,5,4,4,3,4,3,4,3,3,3,4,3,4,4,4,3,4,4,4,5,4,4,4,4,3,5,4,3,3,4,4,4,5,4,4,4,3],\"xaxis\":\"x\",\"yaxis\":\"y\",\"type\":\"histogram\"}],                        {\"template\":{\"data\":{\"histogram2dcontour\":[{\"type\":\"histogram2dcontour\",\"colorbar\":{\"outlinewidth\":0,\"ticks\":\"\"},\"colorscale\":[[0.0,\"#0d0887\"],[0.1111111111111111,\"#46039f\"],[0.2222222222222222,\"#7201a8\"],[0.3333333333333333,\"#9c179e\"],[0.4444444444444444,\"#bd3786\"],[0.5555555555555556,\"#d8576b\"],[0.6666666666666666,\"#ed7953\"],[0.7777777777777778,\"#fb9f3a\"],[0.8888888888888888,\"#fdca26\"],[1.0,\"#f0f921\"]]}],\"choropleth\":[{\"type\":\"choropleth\",\"colorbar\":{\"outlinewidth\":0,\"ticks\":\"\"}}],\"histogram2d\":[{\"type\":\"histogram2d\",\"colorbar\":{\"outlinewidth\":0,\"ticks\":\"\"},\"colorscale\":[[0.0,\"#0d0887\"],[0.1111111111111111,\"#46039f\"],[0.2222222222222222,\"#7201a8\"],[0.3333333333333333,\"#9c179e\"],[0.4444444444444444,\"#bd3786\"],[0.5555555555555556,\"#d8576b\"],[0.6666666666666666,\"#ed7953\"],[0.7777777777777778,\"#fb9f3a\"],[0.8888888888888888,\"#fdca26\"],[1.0,\"#f0f921\"]]}],\"heatmap\":[{\"type\":\"heatmap\",\"colorbar\":{\"outlinewidth\":0,\"ticks\":\"\"},\"colorscale\":[[0.0,\"#0d0887\"],[0.1111111111111111,\"#46039f\"],[0.2222222222222222,\"#7201a8\"],[0.3333333333333333,\"#9c179e\"],[0.4444444444444444,\"#bd3786\"],[0.5555555555555556,\"#d8576b\"],[0.6666666666666666,\"#ed7953\"],[0.7777777777777778,\"#fb9f3a\"],[0.8888888888888888,\"#fdca26\"],[1.0,\"#f0f921\"]]}],\"heatmapgl\":[{\"type\":\"heatmapgl\",\"colorbar\":{\"outlinewidth\":0,\"ticks\":\"\"},\"colorscale\":[[0.0,\"#0d0887\"],[0.1111111111111111,\"#46039f\"],[0.2222222222222222,\"#7201a8\"],[0.3333333333333333,\"#9c179e\"],[0.4444444444444444,\"#bd3786\"],[0.5555555555555556,\"#d8576b\"],[0.6666666666666666,\"#ed7953\"],[0.7777777777777778,\"#fb9f3a\"],[0.8888888888888888,\"#fdca26\"],[1.0,\"#f0f921\"]]}],\"contourcarpet\":[{\"type\":\"contourcarpet\",\"colorbar\":{\"outlinewidth\":0,\"ticks\":\"\"}}],\"contour\":[{\"type\":\"contour\",\"colorbar\":{\"outlinewidth\":0,\"ticks\":\"\"},\"colorscale\":[[0.0,\"#0d0887\"],[0.1111111111111111,\"#46039f\"],[0.2222222222222222,\"#7201a8\"],[0.3333333333333333,\"#9c179e\"],[0.4444444444444444,\"#bd3786\"],[0.5555555555555556,\"#d8576b\"],[0.6666666666666666,\"#ed7953\"],[0.7777777777777778,\"#fb9f3a\"],[0.8888888888888888,\"#fdca26\"],[1.0,\"#f0f921\"]]}],\"surface\":[{\"type\":\"surface\",\"colorbar\":{\"outlinewidth\":0,\"ticks\":\"\"},\"colorscale\":[[0.0,\"#0d0887\"],[0.1111111111111111,\"#46039f\"],[0.2222222222222222,\"#7201a8\"],[0.3333333333333333,\"#9c179e\"],[0.4444444444444444,\"#bd3786\"],[0.5555555555555556,\"#d8576b\"],[0.6666666666666666,\"#ed7953\"],[0.7777777777777778,\"#fb9f3a\"],[0.8888888888888888,\"#fdca26\"],[1.0,\"#f0f921\"]]}],\"mesh3d\":[{\"type\":\"mesh3d\",\"colorbar\":{\"outlinewidth\":0,\"ticks\":\"\"}}],\"scatter\":[{\"fillpattern\":{\"fillmode\":\"overlay\",\"size\":10,\"solidity\":0.2},\"type\":\"scatter\"}],\"parcoords\":[{\"type\":\"parcoords\",\"line\":{\"colorbar\":{\"outlinewidth\":0,\"ticks\":\"\"}}}],\"scatterpolargl\":[{\"type\":\"scatterpolargl\",\"marker\":{\"colorbar\":{\"outlinewidth\":0,\"ticks\":\"\"}}}],\"bar\":[{\"error_x\":{\"color\":\"#2a3f5f\"},\"error_y\":{\"color\":\"#2a3f5f\"},\"marker\":{\"line\":{\"color\":\"#E5ECF6\",\"width\":0.5},\"pattern\":{\"fillmode\":\"overlay\",\"size\":10,\"solidity\":0.2}},\"type\":\"bar\"}],\"scattergeo\":[{\"type\":\"scattergeo\",\"marker\":{\"colorbar\":{\"outlinewidth\":0,\"ticks\":\"\"}}}],\"scatterpolar\":[{\"type\":\"scatterpolar\",\"marker\":{\"colorbar\":{\"outlinewidth\":0,\"ticks\":\"\"}}}],\"histogram\":[{\"marker\":{\"pattern\":{\"fillmode\":\"overlay\",\"size\":10,\"solidity\":0.2}},\"type\":\"histogram\"}],\"scattergl\":[{\"type\":\"scattergl\",\"marker\":{\"colorbar\":{\"outlinewidth\":0,\"ticks\":\"\"}}}],\"scatter3d\":[{\"type\":\"scatter3d\",\"line\":{\"colorbar\":{\"outlinewidth\":0,\"ticks\":\"\"}},\"marker\":{\"colorbar\":{\"outlinewidth\":0,\"ticks\":\"\"}}}],\"scattermapbox\":[{\"type\":\"scattermapbox\",\"marker\":{\"colorbar\":{\"outlinewidth\":0,\"ticks\":\"\"}}}],\"scatterternary\":[{\"type\":\"scatterternary\",\"marker\":{\"colorbar\":{\"outlinewidth\":0,\"ticks\":\"\"}}}],\"scattercarpet\":[{\"type\":\"scattercarpet\",\"marker\":{\"colorbar\":{\"outlinewidth\":0,\"ticks\":\"\"}}}],\"carpet\":[{\"aaxis\":{\"endlinecolor\":\"#2a3f5f\",\"gridcolor\":\"white\",\"linecolor\":\"white\",\"minorgridcolor\":\"white\",\"startlinecolor\":\"#2a3f5f\"},\"baxis\":{\"endlinecolor\":\"#2a3f5f\",\"gridcolor\":\"white\",\"linecolor\":\"white\",\"minorgridcolor\":\"white\",\"startlinecolor\":\"#2a3f5f\"},\"type\":\"carpet\"}],\"table\":[{\"cells\":{\"fill\":{\"color\":\"#EBF0F8\"},\"line\":{\"color\":\"white\"}},\"header\":{\"fill\":{\"color\":\"#C8D4E3\"},\"line\":{\"color\":\"white\"}},\"type\":\"table\"}],\"barpolar\":[{\"marker\":{\"line\":{\"color\":\"#E5ECF6\",\"width\":0.5},\"pattern\":{\"fillmode\":\"overlay\",\"size\":10,\"solidity\":0.2}},\"type\":\"barpolar\"}],\"pie\":[{\"automargin\":true,\"type\":\"pie\"}]},\"layout\":{\"autotypenumbers\":\"strict\",\"colorway\":[\"#636efa\",\"#EF553B\",\"#00cc96\",\"#ab63fa\",\"#FFA15A\",\"#19d3f3\",\"#FF6692\",\"#B6E880\",\"#FF97FF\",\"#FECB52\"],\"font\":{\"color\":\"#2a3f5f\"},\"hovermode\":\"closest\",\"hoverlabel\":{\"align\":\"left\"},\"paper_bgcolor\":\"white\",\"plot_bgcolor\":\"#E5ECF6\",\"polar\":{\"bgcolor\":\"#E5ECF6\",\"angularaxis\":{\"gridcolor\":\"white\",\"linecolor\":\"white\",\"ticks\":\"\"},\"radialaxis\":{\"gridcolor\":\"white\",\"linecolor\":\"white\",\"ticks\":\"\"}},\"ternary\":{\"bgcolor\":\"#E5ECF6\",\"aaxis\":{\"gridcolor\":\"white\",\"linecolor\":\"white\",\"ticks\":\"\"},\"baxis\":{\"gridcolor\":\"white\",\"linecolor\":\"white\",\"ticks\":\"\"},\"caxis\":{\"gridcolor\":\"white\",\"linecolor\":\"white\",\"ticks\":\"\"}},\"coloraxis\":{\"colorbar\":{\"outlinewidth\":0,\"ticks\":\"\"}},\"colorscale\":{\"sequential\":[[0.0,\"#0d0887\"],[0.1111111111111111,\"#46039f\"],[0.2222222222222222,\"#7201a8\"],[0.3333333333333333,\"#9c179e\"],[0.4444444444444444,\"#bd3786\"],[0.5555555555555556,\"#d8576b\"],[0.6666666666666666,\"#ed7953\"],[0.7777777777777778,\"#fb9f3a\"],[0.8888888888888888,\"#fdca26\"],[1.0,\"#f0f921\"]],\"sequentialminus\":[[0.0,\"#0d0887\"],[0.1111111111111111,\"#46039f\"],[0.2222222222222222,\"#7201a8\"],[0.3333333333333333,\"#9c179e\"],[0.4444444444444444,\"#bd3786\"],[0.5555555555555556,\"#d8576b\"],[0.6666666666666666,\"#ed7953\"],[0.7777777777777778,\"#fb9f3a\"],[0.8888888888888888,\"#fdca26\"],[1.0,\"#f0f921\"]],\"diverging\":[[0,\"#8e0152\"],[0.1,\"#c51b7d\"],[0.2,\"#de77ae\"],[0.3,\"#f1b6da\"],[0.4,\"#fde0ef\"],[0.5,\"#f7f7f7\"],[0.6,\"#e6f5d0\"],[0.7,\"#b8e186\"],[0.8,\"#7fbc41\"],[0.9,\"#4d9221\"],[1,\"#276419\"]]},\"xaxis\":{\"gridcolor\":\"white\",\"linecolor\":\"white\",\"ticks\":\"\",\"title\":{\"standoff\":15},\"zerolinecolor\":\"white\",\"automargin\":true,\"zerolinewidth\":2},\"yaxis\":{\"gridcolor\":\"white\",\"linecolor\":\"white\",\"ticks\":\"\",\"title\":{\"standoff\":15},\"zerolinecolor\":\"white\",\"automargin\":true,\"zerolinewidth\":2},\"scene\":{\"xaxis\":{\"backgroundcolor\":\"#E5ECF6\",\"gridcolor\":\"white\",\"linecolor\":\"white\",\"showbackground\":true,\"ticks\":\"\",\"zerolinecolor\":\"white\",\"gridwidth\":2},\"yaxis\":{\"backgroundcolor\":\"#E5ECF6\",\"gridcolor\":\"white\",\"linecolor\":\"white\",\"showbackground\":true,\"ticks\":\"\",\"zerolinecolor\":\"white\",\"gridwidth\":2},\"zaxis\":{\"backgroundcolor\":\"#E5ECF6\",\"gridcolor\":\"white\",\"linecolor\":\"white\",\"showbackground\":true,\"ticks\":\"\",\"zerolinecolor\":\"white\",\"gridwidth\":2}},\"shapedefaults\":{\"line\":{\"color\":\"#2a3f5f\"}},\"annotationdefaults\":{\"arrowcolor\":\"#2a3f5f\",\"arrowhead\":0,\"arrowwidth\":1},\"geo\":{\"bgcolor\":\"white\",\"landcolor\":\"#E5ECF6\",\"subunitcolor\":\"white\",\"showland\":true,\"showlakes\":true,\"lakecolor\":\"white\"},\"title\":{\"x\":0.05},\"mapbox\":{\"style\":\"light\"}}},\"xaxis\":{\"anchor\":\"y\",\"domain\":[0.0,1.0],\"title\":{\"text\":\"Value\"}},\"yaxis\":{\"anchor\":\"x\",\"domain\":[0.0,1.0],\"title\":{\"text\":\"Frequency\"}},\"legend\":{\"title\":{\"text\":\"Data\"},\"tracegroupgap\":0},\"margin\":{\"t\":60},\"barmode\":\"group\",\"font\":{\"size\":18},\"title\":{\"text\":\"Real vs. Synthetic Data for column 'primary_gleason_grade'\"},\"plot_bgcolor\":\"#F5F5F8\"},                        {\"responsive\": true}                    ).then(function(){\n",
              "                            \n",
              "var gd = document.getElementById('cc1e3ce2-ac30-49de-b280-116de215de8a');\n",
              "var x = new MutationObserver(function (mutations, observer) {{\n",
              "        var display = window.getComputedStyle(gd).display;\n",
              "        if (!display || display === 'none') {{\n",
              "            console.log([gd, 'removed!']);\n",
              "            Plotly.purge(gd);\n",
              "            observer.disconnect();\n",
              "        }}\n",
              "}});\n",
              "\n",
              "// Listen for the removal of the full notebook cells\n",
              "var notebookContainer = gd.closest('#notebook-container');\n",
              "if (notebookContainer) {{\n",
              "    x.observe(notebookContainer, {childList: true});\n",
              "}}\n",
              "\n",
              "// Listen for the clearing of the current output cell\n",
              "var outputEl = gd.closest('.output');\n",
              "if (outputEl) {{\n",
              "    x.observe(outputEl, {childList: true});\n",
              "}}\n",
              "\n",
              "                        })                };                            </script>        </div>\n",
              "</body>\n",
              "</html>"
            ]
          },
          "metadata": {}
        }
      ]
    },
    {
      "cell_type": "code",
      "source": [
        "# compare ERG expression data\n",
        "erg_fig = get_column_plot(\n",
        "    real_data=real_data,\n",
        "    synthetic_data=synthetic_data,\n",
        "    column_name='ERG',\n",
        "    metadata=metadata\n",
        ")\n",
        "\n",
        "erg_fig.show()"
      ],
      "metadata": {
        "colab": {
          "base_uri": "https://localhost:8080/",
          "height": 542
        },
        "id": "HijciGHoZfJZ",
        "outputId": "c4487974-ded9-464a-f2ec-3d4cfffd4b45"
      },
      "execution_count": 22,
      "outputs": [
        {
          "output_type": "display_data",
          "data": {
            "text/html": [
              "<html>\n",
              "<head><meta charset=\"utf-8\" /></head>\n",
              "<body>\n",
              "    <div>            <script src=\"https://cdnjs.cloudflare.com/ajax/libs/mathjax/2.7.5/MathJax.js?config=TeX-AMS-MML_SVG\"></script><script type=\"text/javascript\">if (window.MathJax && window.MathJax.Hub && window.MathJax.Hub.Config) {window.MathJax.Hub.Config({SVG: {font: \"STIX-Web\"}});}</script>                <script type=\"text/javascript\">window.PlotlyConfig = {MathJaxConfig: 'local'};</script>\n",
              "        <script charset=\"utf-8\" src=\"https://cdn.plot.ly/plotly-2.35.2.min.js\"></script>                <div id=\"e8e0d232-7557-4abb-9126-367e5eddc307\" class=\"plotly-graph-div\" style=\"height:525px; width:100%;\"></div>            <script type=\"text/javascript\">                                    window.PLOTLYENV=window.PLOTLYENV || {};                                    if (document.getElementById(\"e8e0d232-7557-4abb-9126-367e5eddc307\")) {                    Plotly.newPlot(                        \"e8e0d232-7557-4abb-9126-367e5eddc307\",                        [{\"legendgroup\":\"Real\",\"marker\":{\"color\":\"#000036\"},\"mode\":\"lines\",\"name\":\"Real\",\"showlegend\":true,\"x\":[0.2467,0.4930008,0.7393016,0.9856024,1.2319031999999999,1.4782039999999999,1.7245047999999998,1.9708055999999998,2.2171064,2.4634072,2.709708,2.9560087999999998,3.2023096,3.4486103999999997,3.6949112,3.9412119999999997,4.1875127999999995,4.4338136,4.680114399999999,4.926415199999999,5.172715999999999,5.4190168,5.665317599999999,5.911618399999999,6.157919199999999,6.40422,6.650520799999999,6.896821599999999,7.143122399999999,7.3894231999999995,7.635723999999999,7.882024799999999,8.1283256,8.3746264,8.6209272,8.867227999999999,9.1135288,9.359829600000001,9.6061304,9.852431199999998,10.098732,10.3450328,10.5913336,10.837634399999999,11.083935199999999,11.330236000000001,11.5765368,11.822837599999998,12.0691384,12.3154392,12.56174,12.808040799999999,13.054341599999999,13.300642400000001,13.5469432,13.793243999999998,14.0395448,14.2858456,14.5321464,14.778447199999999,15.024747999999999,15.2710488,15.5173496,15.763650399999998,16.0099512,16.256252,16.5025528,16.748853599999997,16.9951544,17.2414552,17.487755999999997,17.734056799999998,17.980357599999998,18.2266584,18.472959200000002,18.71926,18.9655608,19.2118616,19.458162399999996,19.7044632,19.950764,20.1970648,20.4433656,20.689666399999997,20.9359672,21.182268,21.428568799999997,21.674869599999997,21.921170399999998,22.1674712,22.413772,22.6600728,22.9063736,23.1526744,23.398975199999995,23.645276,23.8915768,24.1378776,24.3841784,24.630479199999996,24.87678,25.1230808,25.369381599999997,25.615682399999997,25.861983199999997,26.108284,26.3545848,26.600885599999998,26.8471864,27.0934872,27.339787999999995,27.5860888,27.8323896,28.0786904,28.3249912,28.571291999999996,28.8175928,29.0638936,29.310194399999997,29.556495199999997,29.802795999999997,30.0490968,30.2953976,30.541698399999998,30.787999199999998,31.034299999999998,31.280600799999995,31.5269016,31.7732024,32.019503199999996,32.265803999999996,32.512104799999996,32.758405599999996,33.004706399999996,33.25100719999999,33.497308,33.7436088,33.98990959999999,34.2362104,34.48251119999999,34.72881199999999,34.9751128,35.22141359999999,35.4677144,35.71401519999999,35.96031599999999,36.2066168,36.45291759999999,36.6992184,36.94551919999999,37.19181999999999,37.4381208,37.68442159999999,37.93072239999999,38.177023199999994,38.423323999999994,38.66962479999999,38.915925599999994,39.162226399999994,39.408527199999995,39.654827999999995,39.90112879999999,40.147429599999995,40.393730399999995,40.640031199999996,40.886331999999996,41.13263279999999,41.378933599999996,41.6252344,41.87153519999999,42.117836,42.36413679999999,42.61043759999999,42.8567384,43.10303919999999,43.34934,43.59564079999999,43.84194159999999,44.0882424,44.33454319999999,44.580844,44.82714479999999,45.07344559999999,45.3197464,45.56604719999999,45.81234799999999,46.05864879999999,46.30494959999999,46.55125039999999,46.797551199999994,47.043851999999994,47.290152799999994,47.536453599999994,47.78275439999999,48.029055199999995,48.275355999999995,48.521656799999995,48.767957599999995,49.01425839999999,49.260559199999996,49.506859999999996,49.75316079999999,49.9994616,50.24576239999999,50.49206319999999,50.738364,50.98466479999999,51.2309656,51.47726639999999,51.72356719999999,51.969868,52.21616879999999,52.4624696,52.70877039999999,52.95507119999999,53.201372,53.44767279999999,53.69397359999999,53.94027439999999,54.18657519999999,54.432875999999986,54.67917679999999,54.925477599999994,55.171778399999994,55.418079199999994,55.66437999999999,55.910680799999994,56.156981599999995,56.403282399999995,56.649583199999995,56.89588399999999,57.142184799999995,57.388485599999996,57.63478639999999,57.881087199999996,58.12738799999999,58.37368879999999,58.6199896,58.86629039999999,59.1125912,59.35889199999999,59.60519279999999,59.8514936,60.09779439999999,60.3440952,60.59039599999999,60.83669679999999,61.08299759999999,61.32929839999999,61.57559919999999,61.82189999999999,62.06820079999999,62.314501599999986,62.56080239999999,62.80710319999999,63.05340399999999,63.299704799999994,63.54600559999999,63.792306399999994,64.0386072,64.284908,64.5312088,64.7775096,65.0238104,65.2701112,65.516412,65.7627128,66.0090136,66.25531439999999,66.50161519999999,66.747916,66.9942168,67.2405176,67.48681839999999,67.73311919999999,67.97942,68.2257208,68.4720216,68.71832239999999,68.96462319999999,69.21092399999999,69.4572248,69.7035256,69.94982639999999,70.19612719999999,70.44242799999999,70.6887288,70.93502960000001,71.1813304,71.4276312,71.673932,71.92023280000001,72.16653360000001,72.4128344,72.6591352,72.905436,73.15173680000001,73.39803760000001,73.6443384,73.8906392,74.13694,74.3832408,74.62954160000001,74.8758424,75.1221432,75.368444,75.6147448,75.86104560000001,76.1073464,76.3536472,76.599948,76.8462488,77.09254959999998,77.3388504,77.5851512,77.831452,78.0777528,78.32405359999998,78.5703544,78.8166552,79.062956,79.3092568,79.55555759999999,79.8018584,80.0481592,80.29446,80.5407608,80.78706159999999,81.0333624,81.2796632,81.525964,81.7722648,82.01856559999999,82.26486639999999,82.5111672,82.757468,83.0037688,83.25006959999999,83.49637039999999,83.7426712,83.988972,84.2352728,84.48157359999999,84.72787439999999,84.97417519999999,85.220476,85.4667768,85.71307759999999,85.95937839999999,86.20567919999999,86.45198,86.6982808,86.94458159999999,87.19088239999999,87.43718319999999,87.683484,87.92978480000001,88.1760856,88.4223864,88.6686872,88.91498800000001,89.16128880000001,89.4075896,89.6538904,89.9001912,90.146492,90.39279280000001,90.6390936,90.8853944,91.1316952,91.377996,91.62429680000001,91.8705976,92.1168984,92.3631992,92.6095,92.85580079999998,93.1021016,93.3484024,93.5947032,93.841004,94.08730479999998,94.3336056,94.5799064,94.8262072,95.072508,95.31880879999999,95.5651096,95.8114104,96.0577112,96.304012,96.55031279999999,96.7966136,97.0429144,97.2892152,97.535516,97.78181679999999,98.02811759999999,98.2744184,98.5207192,98.76702,99.01332079999999,99.25962159999999,99.5059224,99.7522232,99.998524,100.24482479999999,100.49112559999999,100.73742639999999,100.9837272,101.230028,101.47632879999999,101.72262959999999,101.96893039999999,102.2152312,102.461532,102.70783279999999,102.95413359999999,103.20043439999999,103.4467352,103.693036,103.93933679999999,104.18563759999999,104.43193839999999,104.67823920000001,104.92454000000001,105.1708408,105.4171416,105.6634424,105.9097432,106.15604400000001,106.4023448,106.6486456,106.8949464,107.1412472,107.387548,107.6338488,107.8801496,108.1264504,108.3727512,108.61905199999998,108.8653528,109.1116536,109.3579544,109.6042552,109.85055599999998,110.0968568,110.3431576,110.5894584,110.8357592,111.08205999999998,111.3283608,111.5746616,111.8209624,112.0672632,112.31356399999999,112.5598648,112.8061656,113.0524664,113.2987672,113.54506799999999,113.79136879999999,114.0376696,114.2839704,114.5302712,114.77657199999999,115.02287279999999,115.2691736,115.5154744,115.7617752,116.00807599999999,116.25437679999999,116.50067759999999,116.7469784,116.9932792,117.23957999999999,117.48588079999999,117.73218159999999,117.9784824,118.2247832,118.47108399999999,118.71738479999999,118.96368559999999,119.2099864,119.4562872,119.70258799999999,119.94888879999999,120.19518959999999,120.4414904,120.68779119999999,120.93409199999999,121.18039279999999,121.4266936,121.6729944,121.9192952,122.165596,122.4118968,122.6581976,122.9044984,123.1507992],\"xaxis\":\"x\",\"y\":[0.03004497981000401,0.030237736486933953,0.030403796635754186,0.030542782290610044,0.03065439349503228,0.03073840968221028,0.030794690673603808,0.030823177289277,0.030823891565956597,0.030796936581469335,0.030742495886874076,0.030660832550257717,0.030552287818779635,0.03041727940810867,0.030256299430877032,0.030069911978155454,0.02985875037021261,0.029623514094942405,0.029364965454305163,0.029083925940920796,0.028781272368555384,0.02845793278164946,0.028114882170233634,0.02775313801755872,0.027373755708526428,0.026977823827540902,0.026566459374706676,0.02614080292937995,0.02570201378993705,0.025251265118261243,0.024789739116878668,0.024318622265897524,0.023839100645939363,0.023352355372104484,0.0228595581627027,0.022361867065017187,0.021860422358772995,0.02135634265626555,0.02085072121629073,0.020344622487118002,0.019839078891790415,0.019335087867025393,0.018833609164958794,0.01833556242493217,0.017841825020488703,0.017353230184737358,0.01687056541527687,0.01639457115796464,0.015925939766976798,0.015465314736854066,0.015013290200570593,0.014570410686113658,0.01413717112262717,0.013714017085861613,0.013301345271490747,0.012899504183808667,0.012508795026410759,0.012129472780691238,0.011761747457359575,0.011405785505686565,0.011061711364835098,0.010729609141411021,0.010409524397276307,0.0101014660317002,0.009805408242073628,0.009521292547673614,0.009249029861328717,0.008988502594296021,0.008739566780206315,0.008502054204557088,0.008275774526925411,0.008060517383822345,0.007856054460911699,0.007662141524155735,0.007478520400322586,0.007304920898183875,0.0071410626626388345,0.006986656954914705,0.006841408352903982,0.006705016366601091,0.006577176964486372,0.006457584007568323,0.006345930588630384,0.006241910275030507,0.0061452182541669636,0.0060555523814470906,0.005972614131275431,0.005896109452210297,0.005825749528021204,0.005761251446913104,0.005702338781665454,0.005648742083864438,0.005600199295785678,0.005556456083811981,0.005517266097548657,0.005482391159026777,0.005451601386566001,0.005424675258003585,0.005401399618088262,0.005381569634887843,0.005364988710071048,0.0053514683478998026,0.005340827987709665,0.005332894804567441,0.005327503482677874,0.005324495965969211,0.005323721190122673,0.005325034800126629,0.0053282988572347055,0.005333381538991126,0.0053401568357591064,0.005348504246950235,0.005358308479908635,0.005369459154153691,0.005381850513432532,0.005395381147779401,0.0054099537275256945,0.0054254747509535255,0.005441854307037945,0.005459005854480716,0.005476846018002543,0.005495294402631522,0.005514273426505551,0.005533708172494848,0.0055535262587493375,0.005573657728085055,0.005594034955943616,0.005614592576490547,0.00563526742626205,0.005655998504625195,0.005676726950184632,0.005697396032149659,0.005717951155568127,0.005738339879239928,0.005758511945040492,0.0057784193173160536,0.005798016230955167,0.005817259246696798,0.0058361073122025955,0.005854521827400556,0.005872466712598248,0.0058899084778663005,0.005906816292206177,0.005923162051040808,0.00593892044060083,0.005954068997824209,0.005968588164440973,0.005982461333977957,0.005995674890490763,0.0060082182379099305,0.00602008381897591,0.006031267122832517,0.00604176668044907,0.006051584047148706,0.006060723771631941,0.006069193351001102,0.006077003171410792,0.006084166434092665,0.006090699066627351,0.006096619619462455,0.006101949147801875,0.006106711079118037,0.006110931066662523,0.0061146368294736865,0.006117857979498734,0.006120625836563099,0.006122973232030553,0.0061249343021022125,0.006126544271800953,0.0061278392307787906,0.006128855902167913,0.006129631405770069,0.006130203016944622,0.0061306079226098546,0.006130882975817438,0.006131064450393376,0.006131187797161383,0.006131287403275805,0.006131396356190511,0.006131546213778204,0.006131766782089918,0.006132085902209741,0.006132529247612035,0.0061331201333705496,0.006133879338500339,0.006134824942633828,0.006135972178144122,0.006137333298731258,0.0061389174653808986,0.006140730650492368,0.00614277556085324,0.006145051580012446,0.006147554730474889,0.006150277656006623,0.006153209624205402,0.006156336549353509,0.006159641035433802,0.006163102439053188,0.006166696951884137,0.006170397702103586,0.006174174874181758,0.006177995846251537,0.00618182534417326,0.0061856256113009276,0.0061893565928544895,0.006192976133710511,0.006196440188339548,0.00619970304154527,0.006202717538596344,0.006205435323289421,0.006207807082439556,0.006209782795263311,0.006211311986100583,0.006212343978912416,0.006212828151995253,0.006212714191366079,0.0062119523412970485,0.0062104936505141765,0.006208290212618846,0.006205295399346454,0.00620146408533946,0.006196752863184479,0.006191120247542382,0.006184526867287328,0.006176935644662801,0.0061683119605615505,0.006158623805138278,0.006147841913070857,0.0061359398828948275,0.006122894279947263,0.006108684722568541,0.006093293951323461,0.0060767078811152075,0.006058915636176955,0.006039909568034915,0.00601968525664264,0.005998241494989417,0.005975580257584356,0.00595170665331139,0.005926628863239457,0.005900358064055021,0.005872908337860659,0.005844296569153672,0.0058145423298619,0.005783667753369632,0.005751697398515216,0.00571865810458261,0.005684578838342365,0.00564949053422269,0.005613425928709127,0.005576419390080536,0.005538506744591999,0.00549972510020937,0.005460112668988089,0.005419708589168848,0.005378552748036926,0.005336685606558926,0.0052941480267722,0.005250981102857884,0.0052072259967789886,0.005162923779310934,0.005118115277233347,0.005072840927390076,0.005027140638258785,0.004981053659604038,0.004934618460717061,0.004887872617674508,0.004840852709975386,0.004793594226842671,0.0047461314834027915,0.004698497546884317,0.004650724172905543,0.004602841751851423,0.004554879265272799,0.004506864252176013,0.004458822785009168,0.004410779455092879,0.004362757367188555,0.004314778142846844,0.004266861932132288,0.004219027433278883,0.004171291919794059,0.004123671274496985,0.0040761800299498685,0.004028831414719476,0.003981637404889409,0.003934608780232034,0.003887755184442777,0.003841085188837824,0.0037946063589195667,0.0037483253232221537,0.003702247843861515,0.003656378888230765,0.003610722701301865,0.003565282878018183,0.0035200624352892166,0.0034750638831282598,0.0034302892945057904,0.0033857403735250485,0.003341418521561897,0.0032973249010475832,0.0032534604966104066,0.0032098261733301257,0.0031664227318966317,0.0031232509605016705,0.0030803116833291555,0.0030376058055448392,0.002995134354720322,0.002952898518658608,0.0029108996796187924,0.0028691394449656027,0.0028276196742952992,0.0027863425031125688,0.0027453103631535874,0.002704525999468285,0.002663992484389467,0.002623713228528999,0.0025836919889501322,0.002543932874671853,0.0025044403496650033,0.002465219233501116,0.0024262746998141315,0.0023876122727317112,0.002349237821427738,0.002311157552940582,0.00227337800339301,0.002235906027739921,0.0021987487881590245,0.002161913741188014,0.0021254086236995274,0.0020892414377927824,0.002053420434668397,0.0020179540975408137,0.0019828511236310124,0.001948120405271575,0.0019137710101460044,0.0018798121606756343,0.0018462532125599303,0.0018131036324699453,0.0017803729748903261,0.001748070858102361,0.0017162069392994833,0.0016847908888273052,0.0016538323635425292,0.0016233409792891702,0.0015933262824961846,0.00156379772090787,0.0015347646134670119,0.0015062361193808706,0.0014782212064111328,0.0014507286184411853,0.0014237668423869544,0.001397344074531112,0.0013714681863743329,0.0013461466901113848,0.001321386703853762,0.001297194916734303,0.0012735775540423859,0.0012505403425506758,0.0012280884762059133,0.0012062265823664185,0.0011849586887780132,0.0011642881914874013,0.0011442178238978266,0.0011247496271757091,0.0011058849222189498,0.0010876242833976059,0.001069967514275538,0.0010529136255173852,0.0010364608151790054,0.0010206064515709812,0.0010053470588743956,0.0009906783056755567,0.0009765949965719817,0.0009630910669858001,0.0009501595813028834,0.0009377927344367152,0.0009259818568953949,0.0009147174234083905,0.0009039890651469635,0.0008937855855488489,0.0008840949797338306,0.0008749044574727795,0.000866200469648535,0.0008579687381230774,0.0008501942889019383,0.0008428614884639478,0.0008359540831024498,0.0008294552411032602,0.0008233475975650116,0.0008176133016494288,0.0008122340660325291,0.0008071912183130058,0.0008024657541211984,0.0007980383916611664,0.0007938896274096195,0.0007899997926888026,0.0007863491108259538,0.0007829177546097015,0.0007796859037536523,0.0007766338020795077,0.0007737418141362293,0.0007709904809779808,0.0007683605748317636,0.0007658331523956653,0.0007633896065203914,0.0007610117160400885,0.0007586816935332111,0.0007563822308102585,0.0007540965419423508,0.0007518084036627047,0.0007495021929919327,0.0007471629219575123,0.0007447762692975839,0.0007423286090592906,0.0007398070360219315,0.0007371993878951493,0.0007344942642620286,0.0007316810422561686,0.0007287498889803948,0.0007256917706926732,0.0007224984588017963,0.0007191625327315107,0.0007156773797267708,0.0007120371916897357,0.0007082369591458325,0.0007042724624517257,0.0007001402603672402,0.0006958376761222647,0.0006913627811173013,0.0006867143764027335,0.0006818919720870392,0.0006768957648280794,0.0006717266135643834,0.000666386013644987,0.0006608760695169969,0.0006551994661296854,0.0006493594392126681,0.000643359744583623,0.0006372046266382509,0.0006308987861716977,0.0006244473476766963,0.0006178558262592362,0.0006111300943077039,0.000604276348046348,0.0005973010740985321,0.0005902110161797406,0.0005830131420347174,0.0005757146107274677,0.0005683227403872665,0.0005608449765082754,0.0005532888608948991,0.0005456620013397307,0.000537972042115707,0.0005302266353591147,0.000522433413415181,0.0005145999622132686,0.0005067337957341346,0.0004988423316272111,0.0004909328680315654,0.00048301256164987765,0.0004750884071205727,0.00046716721772904394,0.00045925560749466524,0.0004513599746660618,0.00044348648665277216,0.0004356410664170002,0.00042782938034462164,0.0004200568276098961,0.000412328531043488,0.00040464932950836074,0.0003970237717828901,0.0003894561119451514,0.0003819503062467494,0.0003745100114588412,0.00036713858466710405,0.00035983908448642055,0.0003526142736599635,0.0003454666230012305,0.000338398316631454,0.0003314112584587228,0.00032450707983915696,0.0003176871483546517,0.0003109525776360667,0.00030430423815539843,0.00029774276890544245,0.00029126858988082937,0.00028488191527013986,0.00027858276726512484,0.000272370990389959,0.0002662462662509313,0.00026020812860514774,0.00025425597864562325,0.00024838910039971947,0.00024260667613815022,0.00023690780169283697,0.00023129150158368952,0.00022575674385695804,0.00022030245454110242,0.00021492753163016964],\"yaxis\":\"y\",\"type\":\"scatter\",\"fill\":\"tozeroy\",\"hovertemplate\":\"\\u003cb\\u003eReal\\u003c\\u002fb\\u003e\\u003cbr\\u003eFrequency: %{y}\\u003cextra\\u003e\\u003c\\u002fextra\\u003e\"},{\"legendgroup\":\"Synthetic\",\"marker\":{\"color\":\"#01E0C9\"},\"mode\":\"lines\",\"name\":\"Synthetic\",\"showlegend\":true,\"x\":[0.2734,0.5028962,0.7323923999999999,0.9618886,1.1913848,1.420881,1.6503771999999999,1.8798734000000001,2.1093696,2.3388658,2.568362,2.7978582000000003,3.0273544,3.2568506000000004,3.4863468,3.7158430000000005,3.9453392000000003,4.1748354,4.4043316,4.6338278,4.8633239999999995,5.0928202,5.3223164,5.5518126,5.7813088,6.010805,6.2403012,6.4697974,6.6992936,6.9287898000000006,7.158286,7.3877822,7.6172784,7.8467746,8.076270800000001,8.305767000000001,8.535263200000001,8.7647594,8.9942556,9.2237518,9.453248,9.682744200000002,9.912240400000002,10.141736600000002,10.371232800000001,10.600729000000003,10.830225200000001,11.0597214,11.2892176,11.5187138,11.748210000000002,11.977706200000002,12.207202400000002,12.436698600000001,12.666194800000001,12.895691000000001,13.125187200000001,13.3546834,13.584179600000002,13.813675800000002,14.043172000000002,14.272668200000002,14.502164400000002,14.731660600000001,14.961156800000001,15.190653000000001,15.420149200000001,15.649645400000002,15.879141600000002,16.1086378,16.338134,16.5676302,16.7971264,17.0266226,17.2561188,17.485615,17.7151112,17.944607400000002,18.1741036,18.403599800000002,18.633096,18.8625922,19.0920884,19.321584599999998,19.5510808,19.780576999999997,20.0100732,20.2395694,20.4690656,20.6985618,20.928058000000004,21.1575542,21.3870504,21.6165466,21.8460428,22.075539000000003,22.3050352,22.534531400000002,22.7640276,22.9935238,23.22302,23.452516199999998,23.6820124,23.9115086,24.1410048,24.370501,24.5999972,24.8294934,25.0589896,25.2884858,25.517982,25.747478200000003,25.9769744,26.206470600000003,26.4359668,26.665463,26.894959200000002,27.1244554,27.353951600000002,27.5834478,27.812944,28.0424402,28.2719364,28.5014326,28.7309288,28.960425,29.1899212,29.4194174,29.6489136,29.878409800000004,30.107906,30.3374022,30.5668984,30.7963946,31.025890800000003,31.255387,31.484883200000002,31.714379400000002,31.943875600000002,32.173371800000005,32.402868000000005,32.632364200000005,32.861860400000005,33.091356600000005,33.320852800000004,33.550349000000004,33.779845200000004,34.009341400000004,34.238837600000004,34.4683338,34.69783,34.9273262,35.1568224,35.38631860000001,35.61581480000001,35.845311,36.0748072,36.3043034,36.53379960000001,36.76329580000001,36.992792,37.2222882,37.45178440000001,37.68128060000001,37.91077680000001,38.140273,38.3697692,38.59926540000001,38.82876160000001,39.05825780000001,39.287754,39.51725020000001,39.746746400000006,39.976242600000006,40.205738800000006,40.435235000000006,40.664731200000006,40.894227400000005,41.123723600000005,41.353219800000005,41.58271600000001,41.812212200000005,42.041708400000005,42.271204600000004,42.500700800000004,42.73019700000001,42.959693200000004,43.189189400000004,43.4186856,43.6481818,43.87767800000001,44.1071742,44.3366704,44.5661666,44.79566280000001,45.02515900000001,45.2546552,45.4841514,45.7136476,45.94314380000001,46.17264000000001,46.40213620000001,46.6316324,46.86112860000001,47.09062480000001,47.32012100000001,47.54961720000001,47.7791134,48.00860960000001,48.23810580000001,48.46760200000001,48.697098200000006,48.926594400000006,49.156090600000006,49.385586800000006,49.615083000000006,49.844579200000005,50.074075400000005,50.303571600000005,50.533067800000005,50.762564000000005,50.992060200000004,51.22155640000001,51.451052600000004,51.680548800000004,51.910045000000004,52.13954120000001,52.36903740000001,52.5985336,52.8280298,53.057526,53.28702220000001,53.51651840000001,53.7460146,53.9755108,54.20500700000001,54.43450320000001,54.66399940000001,54.8934956,55.1229918,55.35248800000001,55.58198420000001,55.81148040000001,56.0409766,56.27047280000001,56.49996900000001,56.72946520000001,56.95896140000001,57.18845760000001,57.41795380000001,57.647450000000006,57.876946200000006,58.106442400000006,58.33593860000001,58.565434800000006,58.794931000000005,59.024427200000005,59.253923400000005,59.48341960000001,59.712915800000005,59.942412000000004,60.171908200000004,60.401404400000004,60.63090060000001,60.860396800000004,61.089893000000004,61.3193892,61.54888540000001,61.77838160000001,62.00787780000001,62.237374,62.4668702,62.69636640000001,62.92586260000001,63.15535880000001,63.384855,63.61435120000001,63.84384740000001,64.0733436,64.3028398,64.532336,64.7618322,64.9913284,65.2208246,65.4503208,65.679817,65.9093132,66.1388094,66.3683056,66.5978018,66.827298,67.0567942,67.2862904,67.5157866,67.7452828,67.974779,68.2042752,68.4337714,68.6632676,68.8927638,69.12226,69.35175620000001,69.5812524,69.81074860000001,70.0402448,70.269741,70.49923720000001,70.7287334,70.95822960000001,71.1877258,71.417222,71.64671820000001,71.8762144,72.10571060000001,72.3352068,72.564703,72.79419920000001,73.0236954,73.25319160000001,73.4826878,73.712184,73.94168020000001,74.1711764,74.40067260000001,74.6301688,74.85966499999999,75.0891612,75.31865739999999,75.5481536,75.7776498,76.00714599999999,76.2366422,76.46613839999999,76.6956346,76.9251308,77.15462699999999,77.3841232,77.61361939999999,77.8431156,78.0726118,78.30210799999999,78.5316042,78.7611004,78.9905966,79.2200928,79.44958899999999,79.6790852,79.9085814,80.1380776,80.3675738,80.59707,80.8265662,81.0560624,81.2855586,81.5150548,81.744551,81.9740472,82.2035434,82.4330396,82.6625358,82.89203200000001,83.1215282,83.3510244,83.5805206,83.8100168,84.03951300000001,84.2690092,84.4985054,84.7280016,84.9574978,85.18699400000001,85.4164902,85.6459864,85.8754826,86.1049788,86.33447500000001,86.5639712,86.7934674,87.0229636,87.2524598,87.48195600000001,87.7114522,87.9409484,88.17044460000001,88.3999408,88.62943700000001,88.8589332,89.0884294,89.31792560000001,89.5474218,89.77691800000001,90.0064142,90.2359104,90.46540660000001,90.6949028,90.92439900000001,91.1538952,91.38339140000001,91.61288760000001,91.8423838,92.07188000000001,92.30137619999999,92.5308724,92.7603686,92.98986479999999,93.219361,93.4488572,93.6783534,93.9078496,94.13734579999999,94.366842,94.5963382,94.8258344,95.0553306,95.28482679999999,95.514323,95.7438192,95.9733154,96.2028116,96.43230779999999,96.661804,96.8913002,97.1207964,97.3502926,97.5797888,97.809285,98.0387812,98.2682774,98.4977736,98.7272698,98.956766,99.1862622,99.4157584,99.6452546,99.8747508,100.104247,100.3337432,100.5632394,100.7927356,101.0222318,101.251728,101.4812242,101.7107204,101.9402166,102.16971280000001,102.399209,102.6287052,102.85820140000001,103.0876976,103.31719380000001,103.54669,103.7761862,104.00568240000001,104.2351786,104.46467480000001,104.694171,104.9236672,105.15316340000001,105.3826596,105.61215580000001,105.841652,106.0711482,106.30064440000001,106.5301406,106.75963680000001,106.98913300000001,107.2186292,107.44812540000001,107.6776216,107.90711780000001,108.13661400000001,108.3661102,108.59560640000001,108.8251026,109.05459880000001,109.28409500000001,109.5135912,109.74308740000001,109.9725836,110.2020798,110.431576,110.66107219999999,110.8905684,111.12006459999999,111.3495608,111.579057,111.80855319999999,112.0380494,112.2675456,112.4970418,112.726538,112.9560342,113.1855304,113.4150266,113.6445228,113.874019,114.1035152,114.3330114,114.5625076,114.7920038],\"xaxis\":\"x\",\"y\":[0.02387173136243532,0.02412646304758893,0.02436788370007676,0.02459565728226432,0.02480947801225943,0.025009071254277787,0.025194194287412347,0.025364636949543343,0.025520222153823977,0.025660806275892237,0.025786279410679683,0.025896565498411867,0.02599162232011831,0.02607144136368339,0.026136047562171166,0.02618549890684278,0.026219885937945185,0.026239331116986953,0.02624398808482018,0.0262340408104171,0.026209702635760817,0.026171215222759094,0.026118847408533975,0.026052893975837054,0.02597367434569006,0.02588153119964603,0.02577682903931289,0.025659952690974267,0.025531305763282542,0.02539130906608468,0.025240398998479064,0.02507902591418245,0.024907652472220567,0.024726751980841618,0.024536806742389485,0.024338306406668658,0.024131746340086874,0.023917626017574918,0.023696447443964222,0.023468713611148207,0.023234926996974006,0.022995588111402773,0.022751194095050657,0.022502237374774615,0.02224920438050892,0.021992574327087597,0.021732818064309822,0.021470396998026237,0.021205762084543316,0.020939352900166443,0.020671596787232637,0.020402908077523638,0.02013368739350286,0.019864321027386535,0.01959518039764574,0.019326621582139516,0.019058984926706588,0.018792594727691927,0.018527758986559565,0.01826476923444258,0.018003900424207138,0.017745410887363356,0.01748954235293551,0.017236520025215855,0.016986552717162776,0.016739833036070288,0.016496537618028596,0.016256827407615592,0.01602084797920355,0.015788729896237197,0.015560589104833352,0.015336527358069034,0.015116632667364946,0.01490097977742863,0.014689630661300159,0.014482635032136806,0.014280030868483591,0.014081844949900167,0.01388809339995083,0.01369878223371092,0.013513907907098992,0.013333457865507136,0.013157411089371329,0.012985738634496797,0.01281840416513058,0.012655364477950626,0.01249657001531976,0.012341965366329713,0.012191489754335033,0.012045077509848602,0.011902658527837739,0.011764158708621105,0.01162950038172292,0.011498602712189561,0.011371382089014968,0.011247752495454299,0.011127625861130022,0.011010912395950069,0.010897520905964525,0.01078735909138347,0.010680333827066752,0.01057635142587395,0.010475317885330649,0.010377139118126414,0.010281721167008904,0.01018897040467922,0.010098793719324864,0.010011098686450373,0.009925793727680585,0.00984278825721934,0.009761992816647127,0.009683319198735293,0.009606680560942276,0.009531991529240365,0.00945916829289932,0.009388128690826192,0.00931879229003175,0.009251080456759445,0.009184916420778597,0.00912022533330512,0.009056934318974998,0.008994972522255923,0.008934271148643251,0.008874763500946677,0.008816385010935984,0.008759073266576333,0.008702768035048563,0.008647411281715638,0.008592947185165192,0.008539322148429796,0.008486484806459827,0.00843438602990164,0.008382978925213504,0.008332218831135788,0.008282063311518399,0.008232472144499056,0.008183407308019404,0.00813483296166302,0.008086715424799478,0.008039023151021576,0.007991726698869151,0.007944798698841024,0.007898213816708655,0.007851948713157156,0.007805981999795762,0.007760294191595868,0.007714867655833374,0.0076696865576311255,0.007624736802217575,0.007580005974037554,0.0075354832728722985,0.0074911594471457725,0.007447026724614211,0.007403078740655311,0.007359310464390864,0.0073157181228946065,0.007272299123751179,0.007229051976246925,0.007185976211484436,0.007143072301722965,0.007100341579254461,0.00705778615513068,0.007015408838059985,0.006973213053793534,0.006931202765319092,0.006889382394177211,0.006847756743208232,0.006806330921030985,0.006765110268543049,0.0067241002877207676,0.006683306572982467,0.006642734745362916,0.006602390389728824,0.006562278995246777,0.006522405899294296,0.006482776234983727,0.0064433948824460015,0.0064042664239990004,0.006365395103301294,0.006326784788568677,0.0062884389399071134,0.006250360580791868,0.006212552273699374,0.006175016099875156,0.006137753643198941,0.00610076597808638,0.00606405366134595,0.006027616727889997,0.0059914546901803385,0.0059555665412710105,0.005919950761295454,0.005884605327229952,0.005849527725752387,0.005814714969003532,0.0057801636130476956,0.005745869778821095,0.005711829175348899,0.005678037125006567,0.005644488590596677,0.005611178204010056,0.00557810029623891,0.005545248928509503,0.005512617924304261,0.005480200902045211,0.005447991308215637,0.0054159824507015834,0.005384167532141487,0.005352539683079605,0.005321091994727185,0.005289817551144684,0.005258709460668051,0.005227760886413089,0.005196965075702794,0.005166315388274562,0.005135805323136346,0.0051054285439531034,0.005075178902858037,0.005045050462595676,0.00501503751691718,0.004985134609161188,0.0049553365489663865,0.004925638427075067,0.004896035628199233,0.004866523841933583,0.004837099071711112,0.00480775764180928,0.004778496202425118,0.004749311732848909,0.004720201542775366,0.004691163271801159,0.004662194887165925,0.0046332946798021265,0.0046044612587661385,0.004575693544129611,0.004546990758415712,0.004518352416669783,0.004489778315257929,0.004461268519490571,0.004432823350170179,0.004404443369164167,0.004376129364105064,0.004347882332319939,0.004319703464090624,0.004291594125345268,0.0042635558398796194,0.004235590271204226,0.004207699204110793,0.004179884526047495,0.0041521482083892785,0.004124492287685201,0.004096918846960257,0.00406942999714483,0.004042027858700067,0.0040147145435028815,0.003987492137049505,0.003960362681032004,0.003933328156337685,0.0039063904665171375,0.0038795514217627894,0.003852812723436076,0.0038261759491784167,0.0037996425386380185,0.0037732137798425175,0.0037468907962453384,0.003720674534472373,0.0036945657527945835,0.003668565010351804,0.0036426726571528985,0.0036168888248780196,0.003591213418509526,0.003565646108819471,0.003540186325742951,0.003514833252668725,0.003489585821680339,0.0034644427097831297,0.0034394023361550693,0.0034144628604611095,0.0033896221822731906,0.0033648779416398365,0.0033402275208508437,0.00331566804744408,0.0032911963985018237,0.0032668092062849694,0.0032425028652526165,0.003218273540513963,0.0031941171777574826,0.003170029514700263,0.003146006094096673,0.00312204227834163,0.003098133265698647,0.0030742741081767624,0.0030504597310736237,0.00302668495419416,0.003002944514745676,0.002979233091900366,0.0029555453330062324,0.0029318758814158748,0.0029082194058910674,0.002884570631528375,0.002860924372138151,0.0028372755639958255,0.002813619300870642,0.0027899508702230002,0.002766265790447597,0.0027425598490254896,0.0027188291414343402,0.00269507011065271,0.0026712795870810248,0.002647454828689497,0.002623593561191291,0.0025996940180285644,0.0025757549799488477,0.002551775813940433,0.0025277565112878987,0.0025036977245025474,0.002479600802877648,0.0024554678264152065,0.0024313016378691215,0.0024071058726496683,0.002382884986336001,0.0023586442795467634,0.0023343899199243946,0.0023101289609957936,0.0022858693576810222,0.0022616199782327082,0.0022373906124013208,0.002213191975636038,0.0021890357091471336,0.002164934375673357,0.0021409014508176464,0.0021169513098348107,0.0020930992097775328,0.0020693612669302826,0.0020457544294853686,0.002022296445441079,0.0019990058257281767,0.001975901802598211,0.0019530042833347818,0.0019303337993767278,0.0019079114509706304,0.0018857588474978804,0.001863898043649732,0.0018423514716512746,0.0018211418697621543,0.0018002922073083337,0.001779825606524304,0.0017597652615094711,0.0017401343546253232,0.0017209559706813772,0.0017022530092777595,0.001684048095690263,0.0016663634906997802,0.001649220999782051,0.0016326418820853939,0.001616646759633633,0.0016012555271984015,0.0015864872632895966,0.0015723601427146817,0.001558891351156864,0.0015460970022187675,0.0015339920573721687,0.0015225902492455624,0.0015119040086698063,0.0015019443958879679,0.0014927210363186011,0.0014842420612424868,0.0014765140537608657,0.0014695420003491173,0.0014633292483033319,0.0014578774693487207,0.0014531866296481843,0.0014492549664172323,0.0014460789713173897,0.001443653380765054,0.0014419711732562403,0.0014410235737702499,0.0014408000652771304,0.001441288407335198,0.0014424746617260067,0.001444343225035343,0.0014468768680502772,0.0014500567818042996,0.0014538626300654178,0.0014582726080258747,0.0014632635069174464,0.0014688107842429116,0.0014748886392828666,0.0014814700935076085,0.0014885270754965382,0.0014960305099427666,0.0015039504102984,0.0015122559745965078,0.0015209156839692958,0.001529897403368466,0.001539168483983381,0.0015486958668454861,0.0015584461871035165,0.0015683858784533867,0.001578481277209305,0.0015886987255085605,0.0015990046731516106,0.0016093657775912442,0.0016197490016000866,0.0016301217081637403,0.0016404517521681058,0.0016507075684728562,0.001660858255989265,0.0016708736574088503,0.0016807244342595814,0.0016903821369986206,0.0016998192698840728,0.0017090093504032906,0.001717926963071152,0.0017265478074484308,0.0017348487402676041,0.0017428078115907734,0.0017504042949616804,0.0017576187115508019,0.0017644328483288146,0.0017708297703392436,0.0017767938271754853,0.0017823106538004323,0.0017873671658784238,0.0017919515498189477,0.0017960532477592963,0.0017996629377389957,0.001802772509342244,0.001805375035105503,0.001807464738005953,0.0018090369553622695,0.001810088099492551,0.0018106156154846426,0.0018106179364420038,0.0018100944365733154,0.0018090453824965273,0.0018074718831277627,0.0018053758385227726,0.0018027598880333388,0.0017996273581333496,0.001795982210259379,0.0017918289889984767,0.0017871727709418649,0.001782019114507265,0.0017763740110150667,0.001770243837284423,0.0017636353099949732,0.0017565554420383967,0.001749011501061503,0.0017410109703793625,0.0017325615124132113,0.0017236709347837095,0.0017143471591658163,0.0017045981929871897,0.001694432104027887,0.001683856997955288,0.001672880998804907,0.0016615122323950047,0.0016497588126411329,0.001637628830715776,0.0016251303469783014,0.0016122713855818214,0.0015990599316459428,0.0015855039308683438,0.0015716112914333396,0.001557389888062296,0.0015428475680391036,0.001527992159033597,0.0015128314785372964,0.0014973733447187672,0.0014816255885004444,0.0014655960666549366,0.0014492926757165242,0.001432723366502746,0.001415896159041786,0.0013988191577034208,0.0013815005663349738,0.0013639487032084618,0.001346172015591409,0.0013281790937610305,0.0013099786842899065,0.0012915797024408288,0.0012729912435187223,0.0012542225930388948,0.0012352832355827467,0.0012161828622246902,0.0011969313764272258,0.0011775388983146604,0.0011580157672499434,0.0011383725426533375,0.0011186200030158877,0.001098769143075209,0.0010788311691353612,0.0010588174925269286,0.0010387397212173305,0.0010186096495952296,0.000998439246466112,0.0009782406413090011,0.0009580261088566149,0.0009378080520728543,0.000917598983612622],\"yaxis\":\"y\",\"type\":\"scatter\",\"fill\":\"tozeroy\",\"hovertemplate\":\"\\u003cb\\u003eSynthetic\\u003c\\u002fb\\u003e\\u003cbr\\u003eFrequency: %{y}\\u003cextra\\u003e\\u003c\\u002fextra\\u003e\"}],                        {\"barmode\":\"overlay\",\"hovermode\":\"closest\",\"legend\":{\"traceorder\":\"reversed\"},\"xaxis\":{\"anchor\":\"y2\",\"domain\":[0.0,1.0],\"zeroline\":false,\"title\":{\"text\":\"Value\"}},\"yaxis\":{\"anchor\":\"free\",\"domain\":[0.0,1],\"position\":0.0,\"title\":{\"text\":\"Frequency\"}},\"template\":{\"data\":{\"histogram2dcontour\":[{\"type\":\"histogram2dcontour\",\"colorbar\":{\"outlinewidth\":0,\"ticks\":\"\"},\"colorscale\":[[0.0,\"#0d0887\"],[0.1111111111111111,\"#46039f\"],[0.2222222222222222,\"#7201a8\"],[0.3333333333333333,\"#9c179e\"],[0.4444444444444444,\"#bd3786\"],[0.5555555555555556,\"#d8576b\"],[0.6666666666666666,\"#ed7953\"],[0.7777777777777778,\"#fb9f3a\"],[0.8888888888888888,\"#fdca26\"],[1.0,\"#f0f921\"]]}],\"choropleth\":[{\"type\":\"choropleth\",\"colorbar\":{\"outlinewidth\":0,\"ticks\":\"\"}}],\"histogram2d\":[{\"type\":\"histogram2d\",\"colorbar\":{\"outlinewidth\":0,\"ticks\":\"\"},\"colorscale\":[[0.0,\"#0d0887\"],[0.1111111111111111,\"#46039f\"],[0.2222222222222222,\"#7201a8\"],[0.3333333333333333,\"#9c179e\"],[0.4444444444444444,\"#bd3786\"],[0.5555555555555556,\"#d8576b\"],[0.6666666666666666,\"#ed7953\"],[0.7777777777777778,\"#fb9f3a\"],[0.8888888888888888,\"#fdca26\"],[1.0,\"#f0f921\"]]}],\"heatmap\":[{\"type\":\"heatmap\",\"colorbar\":{\"outlinewidth\":0,\"ticks\":\"\"},\"colorscale\":[[0.0,\"#0d0887\"],[0.1111111111111111,\"#46039f\"],[0.2222222222222222,\"#7201a8\"],[0.3333333333333333,\"#9c179e\"],[0.4444444444444444,\"#bd3786\"],[0.5555555555555556,\"#d8576b\"],[0.6666666666666666,\"#ed7953\"],[0.7777777777777778,\"#fb9f3a\"],[0.8888888888888888,\"#fdca26\"],[1.0,\"#f0f921\"]]}],\"heatmapgl\":[{\"type\":\"heatmapgl\",\"colorbar\":{\"outlinewidth\":0,\"ticks\":\"\"},\"colorscale\":[[0.0,\"#0d0887\"],[0.1111111111111111,\"#46039f\"],[0.2222222222222222,\"#7201a8\"],[0.3333333333333333,\"#9c179e\"],[0.4444444444444444,\"#bd3786\"],[0.5555555555555556,\"#d8576b\"],[0.6666666666666666,\"#ed7953\"],[0.7777777777777778,\"#fb9f3a\"],[0.8888888888888888,\"#fdca26\"],[1.0,\"#f0f921\"]]}],\"contourcarpet\":[{\"type\":\"contourcarpet\",\"colorbar\":{\"outlinewidth\":0,\"ticks\":\"\"}}],\"contour\":[{\"type\":\"contour\",\"colorbar\":{\"outlinewidth\":0,\"ticks\":\"\"},\"colorscale\":[[0.0,\"#0d0887\"],[0.1111111111111111,\"#46039f\"],[0.2222222222222222,\"#7201a8\"],[0.3333333333333333,\"#9c179e\"],[0.4444444444444444,\"#bd3786\"],[0.5555555555555556,\"#d8576b\"],[0.6666666666666666,\"#ed7953\"],[0.7777777777777778,\"#fb9f3a\"],[0.8888888888888888,\"#fdca26\"],[1.0,\"#f0f921\"]]}],\"surface\":[{\"type\":\"surface\",\"colorbar\":{\"outlinewidth\":0,\"ticks\":\"\"},\"colorscale\":[[0.0,\"#0d0887\"],[0.1111111111111111,\"#46039f\"],[0.2222222222222222,\"#7201a8\"],[0.3333333333333333,\"#9c179e\"],[0.4444444444444444,\"#bd3786\"],[0.5555555555555556,\"#d8576b\"],[0.6666666666666666,\"#ed7953\"],[0.7777777777777778,\"#fb9f3a\"],[0.8888888888888888,\"#fdca26\"],[1.0,\"#f0f921\"]]}],\"mesh3d\":[{\"type\":\"mesh3d\",\"colorbar\":{\"outlinewidth\":0,\"ticks\":\"\"}}],\"scatter\":[{\"fillpattern\":{\"fillmode\":\"overlay\",\"size\":10,\"solidity\":0.2},\"type\":\"scatter\"}],\"parcoords\":[{\"type\":\"parcoords\",\"line\":{\"colorbar\":{\"outlinewidth\":0,\"ticks\":\"\"}}}],\"scatterpolargl\":[{\"type\":\"scatterpolargl\",\"marker\":{\"colorbar\":{\"outlinewidth\":0,\"ticks\":\"\"}}}],\"bar\":[{\"error_x\":{\"color\":\"#2a3f5f\"},\"error_y\":{\"color\":\"#2a3f5f\"},\"marker\":{\"line\":{\"color\":\"#E5ECF6\",\"width\":0.5},\"pattern\":{\"fillmode\":\"overlay\",\"size\":10,\"solidity\":0.2}},\"type\":\"bar\"}],\"scattergeo\":[{\"type\":\"scattergeo\",\"marker\":{\"colorbar\":{\"outlinewidth\":0,\"ticks\":\"\"}}}],\"scatterpolar\":[{\"type\":\"scatterpolar\",\"marker\":{\"colorbar\":{\"outlinewidth\":0,\"ticks\":\"\"}}}],\"histogram\":[{\"marker\":{\"pattern\":{\"fillmode\":\"overlay\",\"size\":10,\"solidity\":0.2}},\"type\":\"histogram\"}],\"scattergl\":[{\"type\":\"scattergl\",\"marker\":{\"colorbar\":{\"outlinewidth\":0,\"ticks\":\"\"}}}],\"scatter3d\":[{\"type\":\"scatter3d\",\"line\":{\"colorbar\":{\"outlinewidth\":0,\"ticks\":\"\"}},\"marker\":{\"colorbar\":{\"outlinewidth\":0,\"ticks\":\"\"}}}],\"scattermapbox\":[{\"type\":\"scattermapbox\",\"marker\":{\"colorbar\":{\"outlinewidth\":0,\"ticks\":\"\"}}}],\"scatterternary\":[{\"type\":\"scatterternary\",\"marker\":{\"colorbar\":{\"outlinewidth\":0,\"ticks\":\"\"}}}],\"scattercarpet\":[{\"type\":\"scattercarpet\",\"marker\":{\"colorbar\":{\"outlinewidth\":0,\"ticks\":\"\"}}}],\"carpet\":[{\"aaxis\":{\"endlinecolor\":\"#2a3f5f\",\"gridcolor\":\"white\",\"linecolor\":\"white\",\"minorgridcolor\":\"white\",\"startlinecolor\":\"#2a3f5f\"},\"baxis\":{\"endlinecolor\":\"#2a3f5f\",\"gridcolor\":\"white\",\"linecolor\":\"white\",\"minorgridcolor\":\"white\",\"startlinecolor\":\"#2a3f5f\"},\"type\":\"carpet\"}],\"table\":[{\"cells\":{\"fill\":{\"color\":\"#EBF0F8\"},\"line\":{\"color\":\"white\"}},\"header\":{\"fill\":{\"color\":\"#C8D4E3\"},\"line\":{\"color\":\"white\"}},\"type\":\"table\"}],\"barpolar\":[{\"marker\":{\"line\":{\"color\":\"#E5ECF6\",\"width\":0.5},\"pattern\":{\"fillmode\":\"overlay\",\"size\":10,\"solidity\":0.2}},\"type\":\"barpolar\"}],\"pie\":[{\"automargin\":true,\"type\":\"pie\"}]},\"layout\":{\"autotypenumbers\":\"strict\",\"colorway\":[\"#636efa\",\"#EF553B\",\"#00cc96\",\"#ab63fa\",\"#FFA15A\",\"#19d3f3\",\"#FF6692\",\"#B6E880\",\"#FF97FF\",\"#FECB52\"],\"font\":{\"color\":\"#2a3f5f\"},\"hovermode\":\"closest\",\"hoverlabel\":{\"align\":\"left\"},\"paper_bgcolor\":\"white\",\"plot_bgcolor\":\"#E5ECF6\",\"polar\":{\"bgcolor\":\"#E5ECF6\",\"angularaxis\":{\"gridcolor\":\"white\",\"linecolor\":\"white\",\"ticks\":\"\"},\"radialaxis\":{\"gridcolor\":\"white\",\"linecolor\":\"white\",\"ticks\":\"\"}},\"ternary\":{\"bgcolor\":\"#E5ECF6\",\"aaxis\":{\"gridcolor\":\"white\",\"linecolor\":\"white\",\"ticks\":\"\"},\"baxis\":{\"gridcolor\":\"white\",\"linecolor\":\"white\",\"ticks\":\"\"},\"caxis\":{\"gridcolor\":\"white\",\"linecolor\":\"white\",\"ticks\":\"\"}},\"coloraxis\":{\"colorbar\":{\"outlinewidth\":0,\"ticks\":\"\"}},\"colorscale\":{\"sequential\":[[0.0,\"#0d0887\"],[0.1111111111111111,\"#46039f\"],[0.2222222222222222,\"#7201a8\"],[0.3333333333333333,\"#9c179e\"],[0.4444444444444444,\"#bd3786\"],[0.5555555555555556,\"#d8576b\"],[0.6666666666666666,\"#ed7953\"],[0.7777777777777778,\"#fb9f3a\"],[0.8888888888888888,\"#fdca26\"],[1.0,\"#f0f921\"]],\"sequentialminus\":[[0.0,\"#0d0887\"],[0.1111111111111111,\"#46039f\"],[0.2222222222222222,\"#7201a8\"],[0.3333333333333333,\"#9c179e\"],[0.4444444444444444,\"#bd3786\"],[0.5555555555555556,\"#d8576b\"],[0.6666666666666666,\"#ed7953\"],[0.7777777777777778,\"#fb9f3a\"],[0.8888888888888888,\"#fdca26\"],[1.0,\"#f0f921\"]],\"diverging\":[[0,\"#8e0152\"],[0.1,\"#c51b7d\"],[0.2,\"#de77ae\"],[0.3,\"#f1b6da\"],[0.4,\"#fde0ef\"],[0.5,\"#f7f7f7\"],[0.6,\"#e6f5d0\"],[0.7,\"#b8e186\"],[0.8,\"#7fbc41\"],[0.9,\"#4d9221\"],[1,\"#276419\"]]},\"xaxis\":{\"gridcolor\":\"white\",\"linecolor\":\"white\",\"ticks\":\"\",\"title\":{\"standoff\":15},\"zerolinecolor\":\"white\",\"automargin\":true,\"zerolinewidth\":2},\"yaxis\":{\"gridcolor\":\"white\",\"linecolor\":\"white\",\"ticks\":\"\",\"title\":{\"standoff\":15},\"zerolinecolor\":\"white\",\"automargin\":true,\"zerolinewidth\":2},\"scene\":{\"xaxis\":{\"backgroundcolor\":\"#E5ECF6\",\"gridcolor\":\"white\",\"linecolor\":\"white\",\"showbackground\":true,\"ticks\":\"\",\"zerolinecolor\":\"white\",\"gridwidth\":2},\"yaxis\":{\"backgroundcolor\":\"#E5ECF6\",\"gridcolor\":\"white\",\"linecolor\":\"white\",\"showbackground\":true,\"ticks\":\"\",\"zerolinecolor\":\"white\",\"gridwidth\":2},\"zaxis\":{\"backgroundcolor\":\"#E5ECF6\",\"gridcolor\":\"white\",\"linecolor\":\"white\",\"showbackground\":true,\"ticks\":\"\",\"zerolinecolor\":\"white\",\"gridwidth\":2}},\"shapedefaults\":{\"line\":{\"color\":\"#2a3f5f\"}},\"annotationdefaults\":{\"arrowcolor\":\"#2a3f5f\",\"arrowhead\":0,\"arrowwidth\":1},\"geo\":{\"bgcolor\":\"white\",\"landcolor\":\"#E5ECF6\",\"subunitcolor\":\"white\",\"showland\":true,\"showlakes\":true,\"lakecolor\":\"white\"},\"title\":{\"x\":0.05},\"mapbox\":{\"style\":\"light\"}}},\"font\":{\"size\":18},\"title\":{\"text\":\"Real vs. Synthetic Data for column 'ERG'\"},\"plot_bgcolor\":\"#F5F5F8\"},                        {\"responsive\": true}                    ).then(function(){\n",
              "                            \n",
              "var gd = document.getElementById('e8e0d232-7557-4abb-9126-367e5eddc307');\n",
              "var x = new MutationObserver(function (mutations, observer) {{\n",
              "        var display = window.getComputedStyle(gd).display;\n",
              "        if (!display || display === 'none') {{\n",
              "            console.log([gd, 'removed!']);\n",
              "            Plotly.purge(gd);\n",
              "            observer.disconnect();\n",
              "        }}\n",
              "}});\n",
              "\n",
              "// Listen for the removal of the full notebook cells\n",
              "var notebookContainer = gd.closest('#notebook-container');\n",
              "if (notebookContainer) {{\n",
              "    x.observe(notebookContainer, {childList: true});\n",
              "}}\n",
              "\n",
              "// Listen for the clearing of the current output cell\n",
              "var outputEl = gd.closest('.output');\n",
              "if (outputEl) {{\n",
              "    x.observe(outputEl, {childList: true});\n",
              "}}\n",
              "\n",
              "                        })                };                            </script>        </div>\n",
              "</body>\n",
              "</html>"
            ]
          },
          "metadata": {}
        }
      ]
    },
    {
      "cell_type": "code",
      "source": [
        "# compare TMPRSS2 expression data\n",
        "tmprss2_fig = get_column_plot(\n",
        "    real_data=real_data,\n",
        "    synthetic_data=synthetic_data,\n",
        "    column_name='TMPRSS2',\n",
        "    metadata=metadata\n",
        ")\n",
        "\n",
        "tmprss2_fig.show()"
      ],
      "metadata": {
        "colab": {
          "base_uri": "https://localhost:8080/",
          "height": 542
        },
        "id": "2HYMkAqGZhrZ",
        "outputId": "9aaa700f-8bf5-4e98-faf8-b0e26191aa03"
      },
      "execution_count": 23,
      "outputs": [
        {
          "output_type": "display_data",
          "data": {
            "text/html": [
              "<html>\n",
              "<head><meta charset=\"utf-8\" /></head>\n",
              "<body>\n",
              "    <div>            <script src=\"https://cdnjs.cloudflare.com/ajax/libs/mathjax/2.7.5/MathJax.js?config=TeX-AMS-MML_SVG\"></script><script type=\"text/javascript\">if (window.MathJax && window.MathJax.Hub && window.MathJax.Hub.Config) {window.MathJax.Hub.Config({SVG: {font: \"STIX-Web\"}});}</script>                <script type=\"text/javascript\">window.PlotlyConfig = {MathJaxConfig: 'local'};</script>\n",
              "        <script charset=\"utf-8\" src=\"https://cdn.plot.ly/plotly-2.35.2.min.js\"></script>                <div id=\"f52d76fd-c46e-492f-9c0a-45187d0c526b\" class=\"plotly-graph-div\" style=\"height:525px; width:100%;\"></div>            <script type=\"text/javascript\">                                    window.PLOTLYENV=window.PLOTLYENV || {};                                    if (document.getElementById(\"f52d76fd-c46e-492f-9c0a-45187d0c526b\")) {                    Plotly.newPlot(                        \"f52d76fd-c46e-492f-9c0a-45187d0c526b\",                        [{\"legendgroup\":\"Real\",\"marker\":{\"color\":\"#000036\"},\"mode\":\"lines\",\"name\":\"Real\",\"showlegend\":true,\"x\":[0.1267,1.8473336,3.5679672,5.288600799999999,7.0092343999999995,8.729868,10.450501599999999,12.1711352,13.8917688,15.612402399999997,17.333036,19.0536696,20.7743032,22.494936799999998,24.2155704,25.936203999999996,27.6568376,29.3774712,31.098104799999994,32.818738399999994,34.539372,36.2600056,37.9806392,39.70127279999999,41.4219064,43.14254,44.863173599999996,46.583807199999995,48.3044408,50.025074399999994,51.74570799999999,53.46634159999999,55.1869752,56.9076088,58.6282424,60.348876,62.06950959999999,63.790143199999996,65.51077679999999,67.2314104,68.952044,70.6726776,72.3933112,74.1139448,75.8345784,77.55521199999998,79.27584559999998,80.9964792,82.7171128,84.4377464,86.15838,87.8790136,89.59964719999999,91.32028079999999,93.04091439999999,94.761548,96.4821816,98.2028152,99.92344879999999,101.64408239999999,103.36471599999999,105.08534959999999,106.80598319999999,108.52661679999999,110.2472504,111.967884,113.6885176,115.4091512,117.1297848,118.8504184,120.571052,122.29168559999998,124.01231919999998,125.73295279999999,127.45358639999999,129.17422,130.89485359999998,132.6154872,134.3361208,136.0567544,137.777388,139.4980216,141.2186552,142.93928879999999,144.6599224,146.380556,148.1011896,149.8218232,151.5424568,153.2630904,154.98372399999997,156.70435759999998,158.42499119999997,160.14562479999998,161.8662584,163.58689199999998,165.3075256,167.02815919999998,168.7487928,170.46942639999997,172.19006,173.91069359999997,175.6313272,177.3519608,179.07259439999999,180.793228,182.51386159999998,184.2344952,185.95512879999998,187.6757624,189.396396,191.1170296,192.8376632,194.5582968,196.2789304,197.999564,199.72019759999998,201.44083119999996,203.16146479999998,204.8820984,206.60273199999997,208.3233656,210.04399919999997,211.7646328,213.48526639999997,215.20589999999999,216.92653359999997,218.64716719999998,220.3678008,222.08843439999998,223.809068,225.52970159999998,227.2503352,228.97096879999998,230.6916024,232.41223599999998,234.1328696,235.8535032,237.5741368,239.2947704,241.015404,242.73603759999997,244.45667119999996,246.17730479999997,247.89793839999996,249.61857199999997,251.33920559999999,253.05983919999997,254.78047279999998,256.5011064,258.22174,259.9423736,261.6630072,263.3836408,265.1042744,266.824908,268.54554160000004,270.2661752,271.9868088,273.7074424,275.42807600000003,277.1487096,278.8693432,280.58997680000004,282.31061040000003,284.031244,285.7518776,287.47251120000004,289.1931448,290.9137784,292.63441200000005,294.35504560000004,296.0756792,297.7963128,299.51694640000005,301.23758000000004,302.9582136,304.6788472,306.39948080000005,308.12011440000003,309.84074799999996,311.5613816,313.2820152,315.0026488,316.72328239999996,318.443916,320.1645496,321.8851832,323.6058168,325.3264504,327.047084,328.76771759999997,330.4883512,332.2089848,333.9296184,335.650252,337.3708856,339.0915192,340.8121528,342.5327864,344.25342,345.9740536,347.6946872,349.4153208,351.1359544,352.856588,354.57722160000003,356.2978552,358.0184888,359.7391224,361.459756,363.1803896,364.9010232,366.62165680000004,368.3422904,370.062924,371.7835576,373.50419120000004,375.2248248,376.9454584,378.66609200000005,380.38672560000003,382.1073592,383.8279928,385.54862640000005,387.26926000000003,388.9898936,390.7105272,392.43116080000004,394.1517944,395.872428,397.5930616,399.3136952,401.03432879999997,402.75496239999995,404.475596,406.1962296,407.91686319999997,409.6374968,411.3581304,413.078764,414.79939759999996,416.5200312,418.2406648,419.9612984,421.68193199999996,423.4025656,425.1231992,426.8438328,428.5644664,430.2851,432.0057336,433.72636719999997,435.4470008,437.1676344,438.888268,440.6089016,442.3295352,444.0501688,445.7708024,447.491436,449.2120696,450.9327032,452.65333680000003,454.3739704,456.094604,457.8152376,459.53587120000003,461.2565048,462.9771384,464.697772,466.4184056,468.1390392,469.8596728,471.58030640000004,473.30094,475.0215736,476.7422072,478.46284080000004,480.1834744,481.904108,483.62474160000005,485.3453752,487.06600879999996,488.78664239999995,490.507276,492.2279096,493.94854319999996,495.66917679999995,497.3898104,499.110444,500.83107759999996,502.5517112,504.2723448,505.99297839999997,507.71361199999996,509.4342456,511.1548792,512.8755128,514.5961464,516.31678,518.0374136,519.7580472,521.4786808,523.1993143999999,524.9199480000001,526.6405816,528.3612152000001,530.0818488,531.8024823999999,533.523116,535.2437495999999,536.9643832,538.6850168,540.4056504,542.1262839999999,543.8469176,545.5675511999999,547.2881848,549.0088184,550.729452,552.4500856,554.1707192,555.8913527999999,557.6119864,559.3326199999999,561.0532536000001,562.7738872,564.4945208,566.2151544,567.935788,569.6564215999999,571.3770552,573.0976888,574.8183224,576.538956,578.2595896,579.9802232,581.7008568,583.4214903999999,585.1421240000001,586.8627576,588.5833912,590.3040248,592.0246584,593.745292,595.4659256,597.1865591999999,598.9071928000001,600.6278264,602.34846,604.0690936,605.7897272,607.5103608,609.2309944,610.951628,612.6722616000001,614.3928952,616.1135288,617.8341624,619.5547959999999,621.2754295999999,622.9960632,624.7166968,626.4373304,628.157964,629.8785975999999,631.5992312,633.3198647999999,635.0404984,636.761132,638.4817656,640.2023992,641.9230328,643.6436663999999,645.3643,647.0849336,648.8055672,650.5262008,652.2468344,653.9674679999999,655.6881016,657.4087351999999,659.1293688000001,660.8500024,662.570636,664.2912696,666.0119032,667.7325367999999,669.4531704,671.173804,672.8944376000001,674.6150712,676.3357048,678.0563384,679.776972,681.4976055999999,683.2182392,684.9388728,686.6595064,688.38014,690.1007736,691.8214072,693.5420408,695.2626743999999,696.9833080000001,698.7039416,700.4245752,702.1452088,703.8658424,705.586476,707.3071095999999,709.0277432,710.7483768,712.4690104,714.1896439999999,715.9102776,717.6309111999999,719.3515447999999,721.0721784,722.792812,724.5134456,726.2340792,727.9547127999999,729.6753464,731.3959799999999,733.1166136,734.8372472,736.5578808,738.2785144,739.999148,741.7197815999999,743.4404152,745.1610488,746.8816824,748.602316,750.3229496,752.0435832,753.7642168,755.4848503999999,757.2054840000001,758.9261176,760.6467512,762.3673848,764.0880184,765.8086519999999,767.5292856,769.2499191999999,770.9705528000001,772.6911864,774.41182,776.1324536,777.8530872,779.5737207999999,781.2943544,783.014988,784.7356216000001,786.4562552,788.1768888,789.8975224,791.618156,793.3387895999999,795.0594232,796.7800568,798.5006903999999,800.221324,801.9419575999999,803.6625912,805.3832247999999,807.1038584,808.824492,810.5451256,812.2657591999999,813.9863928,815.7070263999999,817.42766,819.1482936,820.8689272,822.5895608,824.3101944,826.0308279999999,827.7514616,829.4720951999999,831.1927288,832.9133624,834.633996,836.3546296,838.0752632,839.7958967999999,841.5165304,843.2371639999999,844.9577976,846.6784312,848.3990648,850.1196984,851.840332,853.5609655999999,855.2815992,857.0022328,858.7228664],\"xaxis\":\"x\",\"y\":[0.0004393532997161121,0.00045742120913024145,0.00047576890706713793,0.0004943769553730114,0.0005132251130277699,0.0005322924235282476,0.0005515573099095516,0.0005709976772023621,0.0005905910220602519,0.0006103145492226834,0.0006301452944065184,0.0006500602531421197,0.000670036514989765,0.0006900514024890352,0.0007100826141088212,0.000730108370379622,0.000750107562304184,0.0007700599010583975,0.0007899460679134391,0.0008097478632336928,0.0008294483533349213,0.0008490320139250998,0.0008684848687979595,0.0008877946224084242,0.0009069507849314378,0.0009259447883926546,0.0009447700924626628,0.000963422278527031,0.0009818991306835435,0.0010002007023763582,0.0010183293674549754,0.0010362898545439162,0.0010540892637268967,0.001071737064686247,0.0010892450755937517,0.001106627422221268,0.0011239004769272322,0.0011410827773759033,0.0011581949250579968,0.0011752594639011821,0.0011923007394840253,0.00120934473959398,0.0012264189170956778,0.0012435519962966228,0.0012607737642098323,0.0012781148483134728,0.0012956064825928421,0.0013132802638168926,0.0013311679001466166,0.001349300954293741,0.0013677105835425583,0.0013864272790137639,0.0014054806065850695,0.0014248989518885135,0.0014447092717780473,0.0014649368546034165,0.0014856050915381905,0.0015067352610923053,0.0015283463287940932,0.0015504547638561937,0.0015730743744462228,0.001596216162969721,0.001619888202543542,0.0016440955355954705,0.0016688400952749735,0.0016941206501042167,0.001719932772041984,0.0017462688278798155,0.0017731179936435247,0.0018004662914378378,0.0018282966479504874,0.0018565889736281182,0.0018853202613519477,0.0019144647032789974,0.001943993824376339,0.001973876631062461,0.0020040797732824487,0.0020345677182822155,0.002065302934311556,0.002096246082475098,0.0021273562149639277,0.0021585909779360366,0.002189906817370158,0.002221259186291641,0.00225260275185906,0.002283891600903248,0.0023150794426237565,0.0023461198072685352,0.0023769662397482598,0.0024075724872642556,0.002437892680156052,0.002467881505298934,0.002497494371500845,0.0025266875664604897,0.0025554184049522157,0.002583645367997315,0.002611328232864946,0.0026384281938178137,0.002664907973578582,0.0026907319255417383,0.0027158661267936857,0.002740278462030878,0.0027639386984833854,0.0027868185519597886,0.00280889174413063,0.002830134051162565,0.0028505233438057393,0.0028700396190240235,0.00288866502324313,0.0029063838672770937,0.002923182632980063,0.0029390499716596867,0.002953976694281599,0.0029679557534927348,0.002980982217495212,0.002993053235813662,0.0030041679970168682,0.0030143276784801347,0.0030235353883085706,0.0030317960995820572,0.0030391165771310844,0.0030455052971075174,0.0030509723596749325,0.003055529395209177,0.0030591894644690634,0.003061966953269125,0.0030638774622595527,0.0030649376924905794,0.0030651653275092406,0.003064578912802498,0.0030631977334619146,0.003061041690998228,0.003058131180279238,0.0030544869675982714,0.0030501300709029886,0.0030450816432235073,0.003039362860333776,0.0030329948136604335,0.0030259984094177976,0.003018394274896746,0.0030102026727682855,0.0030014434241807013,0.0029921358413324455,0.0029822986700930036,0.002971950043121374,0.00296110744379965,0.002949787681157614,0.002938006875817233,0.0029257804568347456,0.0029131231691659665,0.0029000490913297337,0.0028865716626984765,0.002872703719706003,0.002858457540133806,0.0028438448945210804,0.0028288771036426357,0.002813565100915211,0.0027979194985281093,0.0027819506560503027,0.0027656687502441634,0.002749083844816425,0.0027322059588601026,0.002715045132786609,0.0026976114906144466,0.002679915297567983,0.002661967012046156,0.002643777331142728,0.002625357229036209,0.002606717987714459,0.0025878712196537013,0.0025688288822309966,0.0025496032838093763,0.002530207081592374,0.002510653271496523,0.0024909551704325856,0.0024711263915166387,0.0024511808128469177,0.0024311325405800928,0.0024109958671188294,0.002390785225279833,0.0023705151393473103,0.00235020017393036,0.0023298548815344506,0.0023094937497278056,0.0022891311487342305,0.002268781280216733,0.0022484581279332387,0.00222817541084986,0.0022079465391907282,0.0021877845737907123,0.0021677021890004356,0.0021477116392766373,0.002127824729477256,0.0021080527887739494,0.0020884066479971166,0.002068896620143588,0.002049532483706371,0.002030323468431702,0.0020112782430722104,0.0019924049046872697,0.0019737109690425338,0.0019552033616803306,0.001936888409269878,0.0019187718308997942,0.0019008587290432488,0.0018831535800062208,0.0018656602237583728,0.0018483818531418396,0.0018313210025518599,0.0018144795362817357,0.0017978586368195936,0.0017814587934726878,0.0017652797917734405,0.0017493207041870996,0.0017335798826917563,0.0017180549538349241,0.0017027428168859809,0.0016876396456990226,0.0016727408948758306,0.001658041310773988,0.0016435349478409458,0.0016292151906729118,0.0016150747820989717,0.0016011058574786593,0.001587299985277618,0.001573648213854337,0.0015601411242541546,0.0015467688886688902,0.001533521334084452,0.0015203880105087737,0.0015073582630515366,0.0014944213070187307,0.0014815663050922515,0.0014687824455898212,0.0014560590207460542,0.0014433855039228537,0.001430751624647813,0.001418147440393609,0.0014055634040491963,0.001392990426094771,0.0013804199305754476,0.0013678439040719504,0.0013552549369881004,0.001342646256611848,0.0013300117515559905,0.001317345987343515,0.0013046442130667706,0.0012919023592161878,0.0012791170269389966,0.0012662854691480438,0.001253405564051472,0.0012404757818128224,0.0012274951451747642,0.0012144631849856213,0.0012013798916539616,0.0011882456636209348,0.001175061253981522,0.0011618277164037907,0.0011485463514892824,0.0011352186546881855,0.0011218462668309867,0.0011084309282648342,0.001094974437490028,0.001081478615081928,0.0010679452735585509,0.0010543761937172695,0.0010407731078182093,0.0010271376898402902,0.0010134715528817742,0.000999776253623729,0.0009860533036252948,0.0009723041870768281,0.0009585303845040745,0.0009447334017955231,0.0009309148038187608,0.0009170762518014219,0.000903219543579983,0.0008893466557661331,0.0008754597868464751,0.0008615614002171334,0.0008476542661602706,0.000833741501794028,0.0008198266080701041,0.0008059135029526894,0.0007920065499874074,0.0007781105815572993,0.0007642309162227061,0.0007503733696511131,0.0007365442587591258,0.00072275039880943,0.0007089990933286373,0.000695298116834761,0.0006816556904835782,0.0006680804508592813,0.000654581412244425,0.0006411679228056893,0.0006278496152237674,0.0006146363523764488,0.0006015381687527053,0.0005885652083315648,0.0005757276597021415,0.0005630356892303544,0.000550499373093418,0.0005381286290056097,0.0005259331484483837,0.0005139223301955525,0.0005021052158906716,0.0004904904283900813,0.00047908611353249215,0.000467899885935665,0.00045693877935411986,0.00044620920206019495,0.0004357168976355392,0.0004254669114827402,0.0004154635632883687,0.00040571042559084207,0.00039621030852996224,0.0003869652507812533,0.0003779765166079197,0.0003692445988974553,0.0003607692279892409,0.00035254938604445293,0.0003445833266607668,0.0003368685993918768,0.00032940207879598836,0.0003221799976082411,0.00031519798360926015,0.0003084510997457665,0.0003019338870488412,0.00029564040989095045,0.0002895643031235395,0.0002836988206425794,0.00027803688493931617,0.0002725711372071008,0.000267293987592037,0.000262197665194766,0.00025727426745241193,0.00025251580855317974,0.00024791426656070874,0.00024346162895082162,0.00023914993628922115,0.00023497132380482372,0.0002309180606394214,0.00022698258658010152,0.0002231575461061319,0.0002194358196067698,0.00021581055165062317,0.000212275176210739,0.00020882343877256767,0.00020544941527436,0.00020214752785147524,0.00019891255737755536,0.0001957396528166153,0.0001926243374208769,0.0001895625118296425,0.00018655045414470834,0.0001835848170777043,0.00018066262228431758,0.00017778125201949933,0.00017493843826636333,0.00017213224950943636,0.00016936107534002147,0.00016662360909749192,0.00016391882876511647,0.00016124597635230244,0.00015860453600665875,0.0001559942111087979,0.00015341490061004714,0.00015086667487802793,0.00014834975131713184,0.00014586447003016125,0.00014341126978360366,0.00014099066453215754,0.00013860322074810716,0.00013624953578804302,0.00013393021751325644,0.00013164586536109843,0.00012939705304281714,0.00012718431301919923,0.00012500812287899178,0.000122868893716986,0.00012076696057917355,0.00011870257501202442,0.00011667589972212722,0.00011468700532170888,0.00011273586910538424,0.00011082237577442688,0.0001089463199973438,0.00010710741067011157,0.00010530527671647014,0.00010353947424862702,0.00010180949489189549,0.00010011477506351437,0.00009845470598633912,0.0000968286442124691,0.00009523592243019958,0.00009367586033001005,0.00009214777531151587,0.00009065099282328476,0.00008918485614091981,0.000087748735405561,0.00008634203576459138,0.00008496420447846203,0.00008361473688171835,0.00008229318111203134,0.00008099914154780413,0.00007973228092222185,0.00007849232110888847,0.00007727904260095746,0.00007609228273138022,0.00007493193270611246,0.00007379793354437262,0.00007269027103996244,0.0000716089698748737,0.0000705540870306354,0.0000695257046538944,0.00006852392254037872,0.00006754885040560513,0.00006660060011142496,0.00006567927801479877,0.00006478497759916622,0.0000639177725396031,0.00006307771034085832,0.00006226480667262644,0.00006147904050935657,0.000060720350162893515,0.00005998863027568611,0.00005928372982059745,0.000058605451130941325,0.00005795354996169644,0.00005732773656033593,0.00005672767770379748,0.00005615299963720745,0.00005560329183045745,0.000055078111450962205,0.00005457698843523518,0.00005409943102857948,0.000053644931651448395,0.00005321297294307242,0.000052803033827926756,0.00005241459544860277,0.00005204714680971094,0.000051700189981544815,0.000051373244719334536,0.00005106585236388479,0.00005077757890208014,0.00005050801708092971,0.00005025678748628075,0.00005002353851675814,0.00004980794520457171,0.000049609706857222845,0.0000494285435174642,0.0000492641912627229,0.000049116396389189534,0.0000489849085494813,0.00004886947293579531,0.00004876982162236864,0.00004868566420145095,0.00004861667786549865,0.00004856249710455424,0.0000485227032014583,0.00004849681371836163,0.00004848427217571555,0.000048484438129316286,0.00004849657785191731,0.00004851985582330611,0.000048553327226533915,0.0000485959316382153,0.00004864648808756345,0.000048703691642248985,0.00004876611165947198,0.00004883219181809078,0.0000489002520225786,0.000048968492242358165,0.00004903499832111605,0.0000490977497604803,0.00004915462945145388,0.00004920343529574139,0.00004924189362812066,0.000049267674320825626,0.000049278407422050414,0.000049271701153668095,0.00004924516106857139,0.00004919641014613313,0.0000491231095855654,0.000049022980041778104,0.00004889382303699876,0.000048733542274143276,0.000048540164574881324,0.000048311860166599906,0.000048046962048045835,0.00004774398417324336,0.000047401638207196755,0.00004701884862466934,0.00004659476594469539,0.0000461287779180664,0.000045620518512433544,0.00004506987456941045,0.00004447699003965476,0.00004384226773480921],\"yaxis\":\"y\",\"type\":\"scatter\",\"fill\":\"tozeroy\",\"hovertemplate\":\"\\u003cb\\u003eReal\\u003c\\u002fb\\u003e\\u003cbr\\u003eFrequency: %{y}\\u003cextra\\u003e\\u003c\\u002fextra\\u003e\"},{\"legendgroup\":\"Synthetic\",\"marker\":{\"color\":\"#01E0C9\"},\"mode\":\"lines\",\"name\":\"Synthetic\",\"showlegend\":true,\"x\":[18.8047,20.4879776,22.1712552,23.8545328,25.537810399999998,27.221088,28.9043656,30.587643200000002,32.2709208,33.954198399999996,35.637476,37.3207536,39.0040312,40.6873088,42.3705864,44.053864,45.7371416,47.4204192,49.103696799999994,50.7869744,52.470252,54.1535296,55.836807199999996,57.52008480000001,59.2033624,60.88664,62.5699176,64.2531952,65.9364728,67.6197504,69.303028,70.9863056,72.66958319999999,74.3528608,76.0361384,77.719416,79.40269359999999,81.0859712,82.7692488,84.45252639999998,86.135804,87.81908159999999,89.50235919999999,91.1856368,92.8689144,94.55219199999999,96.2354696,97.9187472,99.6020248,101.28530239999999,102.96857999999999,104.65185759999999,106.3351352,108.0184128,109.70169039999999,111.38496799999999,113.0682456,114.7515232,116.43480079999999,118.11807839999999,119.80135599999998,121.48463359999998,123.16791119999999,124.85118879999999,126.53446639999999,128.217744,129.9010216,131.5842992,133.2675768,134.9508544,136.634132,138.3174096,140.0006872,141.68396479999998,143.3672424,145.05052,146.7337976,148.4170752,150.10035279999997,151.7836304,153.466908,155.1501856,156.83346319999998,158.51674079999998,160.20001839999998,161.883296,163.5665736,165.2498512,166.9331288,168.6164064,170.29968399999998,171.98296159999998,173.6662392,175.3495168,177.0327944,178.716072,180.3993496,182.08262719999996,183.7659048,185.44918239999998,187.13245999999998,188.81573759999998,190.49901519999997,192.18229279999997,193.8655704,195.548848,197.2321256,198.9154032,200.59868079999998,202.28195839999998,203.96523599999998,205.6485136,207.3317912,209.0150688,210.6983464,212.381624,214.06490159999998,215.7481792,217.43145679999998,219.11473439999997,220.79801199999997,222.48128959999997,224.16456719999996,225.8478448,227.5311224,229.21439999999998,230.89767759999998,232.58095519999998,234.26423279999997,235.94751039999997,237.630788,239.3140656,240.9973432,242.68062079999999,244.36389839999998,246.04717599999998,247.7304536,249.4137312,251.0970088,252.78028639999997,254.46356399999996,256.14684159999996,257.8301192,259.5133968,261.1966744,262.879952,264.5632296,266.2465072,267.9297848,269.6130624,271.29634,272.9796176,274.6628952,276.34617280000003,278.02945040000003,279.712728,281.39600559999997,283.0792832,284.7625608,286.4458384,288.129116,289.8123936,291.4956712,293.1789488,294.8622264,296.54550400000005,298.2287816,299.91205920000004,301.5953368,303.27861440000004,304.96189200000003,306.6451696,308.3284472,310.01172479999997,311.6950024,313.37827999999996,315.0615576,316.7448352,318.4281128,320.1113904,321.794668,323.4779456,325.1612232,326.8445008,328.52777840000005,330.211056,331.89433360000004,333.5776112,335.26088880000003,336.94416640000003,338.627444,340.3107216,341.9939992,343.6772768,345.36055439999996,347.043832,348.7271096,350.4103872,352.0936648,353.7769424,355.46022,357.1434976,358.8267752,360.51005280000004,362.1933304,363.87660800000003,365.5598856,367.2431632,368.9264408,370.6097184,372.292996,373.9762736,375.6595512,377.3428288,379.0261064,380.709384,382.3926616,384.0759392,385.7592168,387.4424944,389.125772,390.8090496,392.49232720000003,394.1756048,395.8588824,397.54215999999997,399.2254376,400.9087152,402.5919928,404.2752704,405.958548,407.6418256,409.3251032,411.0083808,412.69165840000005,414.374936,416.0582136,417.7414912,419.4247688,421.1080464,422.791324,424.4746016,426.15787919999997,427.8411568,429.52443439999996,431.207712,432.8909896,434.5742672,436.2575448,437.9408224,439.6241,441.3073776,442.9906552,444.67393280000005,446.3572104,448.04048800000004,449.7237656,451.4070432,453.0903208,454.77359839999997,456.456876,458.14015359999996,459.8234312,461.50670879999996,463.1899864,464.873264,466.5565416,468.2398192,469.9230968,471.6063744,473.289652,474.9729296,476.65620720000004,478.3394848,480.02276240000003,481.70604,483.3893176,485.0725952,486.75587279999996,488.4391504,490.12242799999996,491.8057056,493.48898319999995,495.1722608,496.8555384,498.538816,500.2220936,501.9053712,503.5886488,505.2719264,506.955204,508.63848160000003,510.3217592,512.0050368,513.6883144,515.371592,517.0548696,518.7381472,520.4214248,522.1047024,523.78798,525.4712576,527.1545351999999,528.8378127999999,530.5210903999999,532.2043679999999,533.8876456,535.5709231999999,537.2542008,538.9374784,540.620756,542.3040336,543.9873111999999,545.6705888,547.3538664,549.037144,550.7204216,552.4036992,554.0869768,555.7702544,557.453532,559.1368096,560.8200872,562.5033648,564.1866424,565.86992,567.5531976,569.2364752,570.9197528,572.6030304,574.2863080000001,575.9695856,577.6528632,579.3361408,581.0194184000001,582.702696,584.3859735999999,586.0692512,587.7525288,589.4358063999999,591.119084,592.8023616,594.4856391999999,596.1689167999999,597.8521944,599.535472,601.2187495999999,602.9020272,604.5853048,606.2685824,607.9518599999999,609.6351376,611.3184152,613.0016928,614.6849704,616.368248,618.0515256,619.7348032,621.4180808,623.1013584,624.784636,626.4679136000001,628.1511912,629.8344688,631.5177464,633.201024,634.8843016,636.5675792,638.2508568000001,639.9341344,641.617412,643.3006895999999,644.9839672,646.6672447999999,648.3505223999999,650.0338,651.7170776,653.4003551999999,655.0836328,656.7669104,658.450188,660.1334655999999,661.8167432,663.5000208,665.1832984,666.866576,668.5498536,670.2331312,671.9164087999999,673.5996864,675.282964,676.9662416,678.6495192,680.3327968,682.0160744,683.699352,685.3826296,687.0659072,688.7491848,690.4324624000001,692.11574,693.7990176,695.4822952,697.1655728000001,698.8488504,700.532128,702.2154056,703.8986831999999,705.5819607999999,707.2652383999999,708.948516,710.6317935999999,712.3150711999999,713.9983488,715.6816264,717.3649039999999,719.0481816,720.7314592,722.4147368,724.0980143999999,725.781292,727.4645696,729.1478472,730.8311248,732.5144024,734.19768,735.8809576,737.5642352,739.2475128,740.9307904,742.614068,744.2973456,745.9806232,747.6639008,749.3471784,751.030456,752.7137336,754.3970112000001,756.0802888,757.7635664,759.4468439999999,761.1301216,762.8133991999999,764.4966767999999,766.1799544,767.863232,769.5465095999999,771.2297872,772.9130648,774.5963423999999,776.2796199999999,777.9628976,779.6461752,781.3294527999999,783.0127304,784.696008,786.3792856,788.0625631999999,789.7458408,791.4291184,793.112396,794.7956736,796.4789512,798.1622288,799.8455064,801.528784,803.2120616,804.8953392,806.5786168000001,808.2618944,809.945172,811.6284496,813.3117272,814.9950048,816.6782824,818.36156,820.0448375999999,821.7281151999999,823.4113927999999,825.0946704,826.7779479999999,828.4612255999999,830.1445032,831.8277808,833.5110583999999,835.194336,836.8776136,838.5608912,840.2441687999999,841.9274464,843.610724,845.2940015999999,846.9772792,848.6605568,850.3438344,852.0271119999999,853.7103896,855.3936672,857.0769448,858.7602224],\"xaxis\":\"x\",\"y\":[0.0008065409081689805,0.0008366473581451564,0.0008672469289745514,0.0008983186852387549,0.0009298406446729265,0.0009617898348972841,0.0009941423539259174,0.0010268734340859898,0.0010599575089538166,0.0010933682828909684,0.001127078802743566,0.0011610615312517708,0.001195288421704161,0.001229730993363544,0.0012643604071868129,0.0012991475413620106,0.0013340630661904966,0.0013690775178516247,0.001404161370600884,0.001439285106970593,0.001474419285564435,0.0015095346060633133,0.0015446019710901075,0.0015795925446142921,0.0016144778066142806,0.0016492296037548054,0.0016838201958787687,0.0017182222981570845,0.0017524091187856778,0.0017863543921657068,0.0018200324075504594,0.001853418033189948,0.0018864867360514502,0.0019192145972404232,0.0019515783232911933,0.0019835552535395337,0.0020151233638299104,0.0020462612668475533,0.0020769482093998507,0.0021071640670019477,0.0021368893361476482,0.002166105124668644,0.002194793140601923,0.002222935679997346,0.0022505156141039723,0.0022775163763752186,0.002303921949728811,0.0023297168544880917,0.0023548861374162733,0.0023794153622351496,0.0024032906019944645,0.0024264984336280146,0.0024490259349978344,0.0024708606846889306,0.0024919907647742287,0.002512404766723277,0.002532091800579492,0.0025510415074791733,0.002569244075532905,0.0025866902590356536,0.0026033714009174955,0.0026192794582924703,0.0026344070309096738,0.002648747392258611,0.0026622945230310815,0.0026750431465947275,0.0026869887660898903,0.0026981277027215878,0.002708457134783505,0.0027179751369205717,0.0027266807191123057,0.002734573864840165,0.002741655567889664,0.0027479278672317632,0.0027533938794285185,0.0027580578280151018,0.0027619250693241464,0.002765002114238799,0.002767296645388035,0.002768817529330843,0.002769574823315272,0.002769579776243301,0.002768844823522099,0.0027673835755373127,0.0027652107995422767,0.0027623423948192516,0.0027587953610333942,0.0027545877597670255,0.002749738669289446,0.0027442681326860325,0.0027381970995383467,0.0027315473614136837,0.00272434148148757,0.002716602718684851,0.002708354946783674,0.0026996225689816396,0.0026904304284729105,0.002680803715629916,0.002670767872421661,0.002660348494733126,0.0026495712332757163,0.0026384616937972045,0.002627045337311119,0.0026153473810692548,0.0026033927009977303,0.002591205736306268,0.0025788103969624507,0.0025662299746978877,0.0025534870581818614,0.0025406034529603756,0.0025276001067151784,0.0025144970403487956,0.002501313285348527,0.0024880668278253067,0.00247477455956293,0.0024614522363504508,0.0024481144438057998,0.002434774570833132,0.0024214447907902666,0.0024081360503773954,0.0023948580661935326,0.0023816193288450317,0.002368427114430402,0.002355287503168859,0.002342205404886954,0.002329184591028576,0.002316227732809366,0.0023033364450970252,0.002290511335564867,0.0022777520586372427,0.00226505737372217,0.00225242520720898,0.0022398527176967892,0.0022273363639131473,0.0022148719747809567,0.0022024548210958553,0.002190079688284913,0.0021777409497308322,0.0021654326401631843,0.002153148528639295,0.0021408821906616403,0.0021286270790058077,0.0021163765928621813,0.002104124144925977,0.002091863226102372,0.0020795874675269945,0.002067290699635579,0.0020549670080501196,0.0020426107860821397,0.002030216783685812,0.0020177801527248244,0.002005296488446593,0.0019927618670853436,0.001980172879541622,0.0019675266611099743,0.001954820917248343,0.001942053945402544,0.0019292246529167714,0.0019163325710765903,0.00190337786534414,0.001890361341856927,0.0018772844502711568,0.0018641492830386802,0.001850958571213232,0.0018377156768871574,0.0018244245823642456,0.0018110898761778934,0.0017977167360670972,0.0017843109090254377,0.0017708786885409667,0.0017574268891475879,0.0017439628184114705,0.0017304942464793634,0.0017170293733194395,0.0017035767937896614,0.0016901454606736792,0.0016767446458298622,0.0016633838996054113,0.0016500730086743533,0.0016368219524657802,0.0016236408583564625,0.0016105399558104445,0.0015975295296564822,0.0015846198727029054,0.0015718212378977284,0.0015591437902499948,0.0015465975587358855,0.0015341923884199422,0.0015219378930277792,0.001509843408211424,0.001497917945752058,0.0014861701489469906,0.0014746082494281865,0.001463240025658458,0.001452072763348194,0.0014411132180305068,0.0014303675800254637,0.0014198414420149201,0.001409539769438177,0.001399466873905347,0.0013896263898099837,0.001380021254305217,0.0013706536907885378,0.0013615251960195833,0.001352636530972846,0.0013439877155035746,0.0013355780268801889,0.0013274060022106485,0.001319469444763741,0.0013117654341590168,0.001304290340371976,0.001297039841473701,0.0012900089449972433,0.0012831920127965057,0.0012765827892378644,0.0012701744325399845,0.0012639595490541394,0.0012579302302553926,0.0012520780921950296,0.001246394317146393,0.0012408696971602572,0.0012354946792320876,0.0012302594117721449,0.0012251537920604971,0.001220167514362773,0.0012152901183788642,0.0012105110376959636,0.0012058196479191492,0.001201205314157334,0.0011966574375497027,0.0011921655005277167,0.0011877191105201688,0.0011833080418238795,0.0011789222753797212,0.001174552036213312,0.0011701878283210424,0.0011658204668055303,0.001161441107089445,0.0011570412710630944,0.0011526128700485578,0.0011481482244917532,0.0011436400803228183,0.0011390816219548161,0.0011344664819204358,0.0011297887471758963,0.0011250429621304393,0.0011202241284882632,0.0011153277020172982,0.001110349586385513,0.00110528612423033,0.0011001340856499,0.0010948906543261142,0.0010895534115084194,0.0010841203181040792,0.0010785896951348022,0.0010729602028311156,0.001067230818644565,0.0010614008144635954,0.0010554697333217844,0.0010494373658868274,0.0010433037270154476,0.0010370690326530437,0.0010307336773476424,0.001024298212635537,0.0010177633265410352,0.001011129824415148,0.001004398611318003,0.0009975706761274586,0.0009906470775320909,0.0009836289320406125,0.0009765174041122685,0.0009693136984839577,0.00096201905474032,0.0009546347441428248,0.0009471620687036957,0.000939602362460331,0.000931956994876308,0.0009242273762663591,0.0009164149651151867,0.0009085212771340749,0.0009005478958751585,0.00089249648470134,0.0008843687998903962,0.0008761667046350547,0.0008678921836870311,0.0008595473583822486,0.0008511345017770522,0.0008426560536210699,0.0008341146348917622,0.0008255130616184572,0.0008168543577299271,0.0008081417666692081,0.0007993787615322505,0.00079056905350308,0.0007817165983771602,0.0007728256009863839,0.0007639005173633839,0.0007549460545092391,0.000745967167656934,0.0007369690549527316,0.0007279571495085271,0.0007189371088099751,0.0007099148014972246,0.0007008962915671386,0.0006918878200774564,0.0006828957844641209,0.0006739267156125395,0.0006649872528514939,0.0006560841170643991,0.0006472240821364366,0.0006384139449771371,0.0006296604943765157,0.0006209704789680234,0.0006123505745838049,0.000603807351296377,0.0005953472404461483,0.0005869765019559484,0.0005787011922319367,0.0005705271329450504,0.000562459880978483,0.0005545046998148429,0.000546666532621658,0.0005389499772760725,0.0005313592635491504,0.0005238982326474288,0.0005165703192845644,0.0005093785364294331,0.0005023254628492135,0.0004954132335371813,0.0004886435330855311,0.00048201759203388394,0.00047553618619465175,0.00046919963892739163,0.0004630078263061571,0.00045696018509682704,0.0004510557234359314,0.00044529303407873775,0.00043967031006266524,0.0004341853626126029,0.00042883564109766223,0.0004236182548343755,0.00041852999651957124,0.0004135673670669896,0.00040872660161544517,0.00040400369647270514,0.00039939443675839764,0.0003948944245109774,0.0003904991070280118,0.0003862038052156266,0.0003820037417316615,0.00037789406871784287,0.0003738698949286968,0.0003699263120789045,0.00036605842024605513,0.0003622613521819568,0.0003585302964026918,0.0003548605189450568,0.0003512473836947699,0.00034768637120955283,0.00034417309597766773,0.0003407033220695629,0.0003372729771566596,0.0003338781648869252,0.00033051517562147426,0.000327180495549991,0.0003238708142150773,0.0003205830304866984,0.0003173142570376236,0.00031406182337915747,0.00031082327752347106,0.00030759638634457297,0.0003043791347143747,0.0003011697234934968,0.00029796656645853995,0.00029476828624853144,0.0002915737094133498,0.0002883818606461244,0.0002851919562801621,0.00028200339712885174,0.00027881576074447503,0.0002756287931689445,0.000272442400246373,0.0002692566385641121,0.00026607170608561846,0.0002628879325352621,0.00025970576959209203,0.0002565257809466565,0.0002533486322722976,0.0002501750811599175,0.0002470059670630943,0.00024384220129858221,0.00024068475714565248,0.00023753466008644513,0.00023439297822838647,0.00023126081294882995,0.00022813928980127483,0.00022502954972180214,0.00022193274057363897,0.00021885000906698136,0.00021578249309029196,0.0002127313144881966,0.0002096975723197372,0.00020668233662909704,0.00020368664275889292,0.0002007114862337359,0.00019775781823892755,0.00019482654171591482,0.00019191850809239467,0.0001890345146608205,0.00018617530261448638,0.00018334155574537884,0.00018053389980266708,0.0001777529025050587,0.00017499907419438247,0.000172272869111696,0.00016957468727108965,0.00016690487690020262,0.0001642637374104026,0.0001616515228536925,0.0001590684458177849,0.0001565146817055317,0.00015399037334008954,0.0001514956358329429,0.00014903056164826625,0.00014659522579416281,0.00014418969106913488,0.0001418140132907709,0.00013946824643312208,0.00013715244759961658,0.00013486668175964384,0.00013261102617912759,0.0001303855744785008,0.00012819044025546124,0.00012602576021469758,0.00012389169675237292,0.00012178843994948459,0.000119716208935206,0.00011767525258887832,0.00011566584955736541,0.00011368830757290741,0.00011174296206533033,0.00010983017407132383,0.00010795032745245002,0.00010610382544240548,0.00010429108655277354,0.00010251253987491676,0.00010076861982369604,0.00009905976037624262,0.00009738638886596572,0.00009574891939825008,0.00009414774595983288,0.00009258323529854554,0.00009105571965393005,0.0000895654894221332,0.00008811278584041938,0.00008669779377758422,0.00008532063471651091,0.00008398136001406792,0.00008267994452153133,0.00008141628064574374,0.00008019017292733577,0.00007900133320758191,0.00007784937644989878,0.00007673381727568289,0.00007565406726720785,0.0000746094330827333,0.00007359911542090466,0.0000726222088630498,0.00007167770261317855,0.00007076448214648439,0.00006988133176801846,0.00006902693807405891,0.00006819989429963377,0.00006739870552676323,0.0000666217947193684,0.00006586750954252896,0.00006513412991595328,0.00006441987624422636,0.00006372291825969434,0.00006304138440779913,0.00006237337169934481,0.00006171695594961015,0.00006107020232046612,0.000060431176078729144,0.00005979795348192324,0.000059168632701437574,0.00005854134469275771,0.00005791426392301646,0.00005728561886754304,0.00005665370218935762,0.00005601688051864118,0.000055373603753060784,0.00005472241380441371,0.00005406195272230491,0.000053390970131441254,0.000052708329925547966,0.00005201301616781114,0.00005130413815506251,0.00005058093461055759,0.00004984277697809483],\"yaxis\":\"y\",\"type\":\"scatter\",\"fill\":\"tozeroy\",\"hovertemplate\":\"\\u003cb\\u003eSynthetic\\u003c\\u002fb\\u003e\\u003cbr\\u003eFrequency: %{y}\\u003cextra\\u003e\\u003c\\u002fextra\\u003e\"}],                        {\"barmode\":\"overlay\",\"hovermode\":\"closest\",\"legend\":{\"traceorder\":\"reversed\"},\"xaxis\":{\"anchor\":\"y2\",\"domain\":[0.0,1.0],\"zeroline\":false,\"title\":{\"text\":\"Value\"}},\"yaxis\":{\"anchor\":\"free\",\"domain\":[0.0,1],\"position\":0.0,\"title\":{\"text\":\"Frequency\"}},\"template\":{\"data\":{\"histogram2dcontour\":[{\"type\":\"histogram2dcontour\",\"colorbar\":{\"outlinewidth\":0,\"ticks\":\"\"},\"colorscale\":[[0.0,\"#0d0887\"],[0.1111111111111111,\"#46039f\"],[0.2222222222222222,\"#7201a8\"],[0.3333333333333333,\"#9c179e\"],[0.4444444444444444,\"#bd3786\"],[0.5555555555555556,\"#d8576b\"],[0.6666666666666666,\"#ed7953\"],[0.7777777777777778,\"#fb9f3a\"],[0.8888888888888888,\"#fdca26\"],[1.0,\"#f0f921\"]]}],\"choropleth\":[{\"type\":\"choropleth\",\"colorbar\":{\"outlinewidth\":0,\"ticks\":\"\"}}],\"histogram2d\":[{\"type\":\"histogram2d\",\"colorbar\":{\"outlinewidth\":0,\"ticks\":\"\"},\"colorscale\":[[0.0,\"#0d0887\"],[0.1111111111111111,\"#46039f\"],[0.2222222222222222,\"#7201a8\"],[0.3333333333333333,\"#9c179e\"],[0.4444444444444444,\"#bd3786\"],[0.5555555555555556,\"#d8576b\"],[0.6666666666666666,\"#ed7953\"],[0.7777777777777778,\"#fb9f3a\"],[0.8888888888888888,\"#fdca26\"],[1.0,\"#f0f921\"]]}],\"heatmap\":[{\"type\":\"heatmap\",\"colorbar\":{\"outlinewidth\":0,\"ticks\":\"\"},\"colorscale\":[[0.0,\"#0d0887\"],[0.1111111111111111,\"#46039f\"],[0.2222222222222222,\"#7201a8\"],[0.3333333333333333,\"#9c179e\"],[0.4444444444444444,\"#bd3786\"],[0.5555555555555556,\"#d8576b\"],[0.6666666666666666,\"#ed7953\"],[0.7777777777777778,\"#fb9f3a\"],[0.8888888888888888,\"#fdca26\"],[1.0,\"#f0f921\"]]}],\"heatmapgl\":[{\"type\":\"heatmapgl\",\"colorbar\":{\"outlinewidth\":0,\"ticks\":\"\"},\"colorscale\":[[0.0,\"#0d0887\"],[0.1111111111111111,\"#46039f\"],[0.2222222222222222,\"#7201a8\"],[0.3333333333333333,\"#9c179e\"],[0.4444444444444444,\"#bd3786\"],[0.5555555555555556,\"#d8576b\"],[0.6666666666666666,\"#ed7953\"],[0.7777777777777778,\"#fb9f3a\"],[0.8888888888888888,\"#fdca26\"],[1.0,\"#f0f921\"]]}],\"contourcarpet\":[{\"type\":\"contourcarpet\",\"colorbar\":{\"outlinewidth\":0,\"ticks\":\"\"}}],\"contour\":[{\"type\":\"contour\",\"colorbar\":{\"outlinewidth\":0,\"ticks\":\"\"},\"colorscale\":[[0.0,\"#0d0887\"],[0.1111111111111111,\"#46039f\"],[0.2222222222222222,\"#7201a8\"],[0.3333333333333333,\"#9c179e\"],[0.4444444444444444,\"#bd3786\"],[0.5555555555555556,\"#d8576b\"],[0.6666666666666666,\"#ed7953\"],[0.7777777777777778,\"#fb9f3a\"],[0.8888888888888888,\"#fdca26\"],[1.0,\"#f0f921\"]]}],\"surface\":[{\"type\":\"surface\",\"colorbar\":{\"outlinewidth\":0,\"ticks\":\"\"},\"colorscale\":[[0.0,\"#0d0887\"],[0.1111111111111111,\"#46039f\"],[0.2222222222222222,\"#7201a8\"],[0.3333333333333333,\"#9c179e\"],[0.4444444444444444,\"#bd3786\"],[0.5555555555555556,\"#d8576b\"],[0.6666666666666666,\"#ed7953\"],[0.7777777777777778,\"#fb9f3a\"],[0.8888888888888888,\"#fdca26\"],[1.0,\"#f0f921\"]]}],\"mesh3d\":[{\"type\":\"mesh3d\",\"colorbar\":{\"outlinewidth\":0,\"ticks\":\"\"}}],\"scatter\":[{\"fillpattern\":{\"fillmode\":\"overlay\",\"size\":10,\"solidity\":0.2},\"type\":\"scatter\"}],\"parcoords\":[{\"type\":\"parcoords\",\"line\":{\"colorbar\":{\"outlinewidth\":0,\"ticks\":\"\"}}}],\"scatterpolargl\":[{\"type\":\"scatterpolargl\",\"marker\":{\"colorbar\":{\"outlinewidth\":0,\"ticks\":\"\"}}}],\"bar\":[{\"error_x\":{\"color\":\"#2a3f5f\"},\"error_y\":{\"color\":\"#2a3f5f\"},\"marker\":{\"line\":{\"color\":\"#E5ECF6\",\"width\":0.5},\"pattern\":{\"fillmode\":\"overlay\",\"size\":10,\"solidity\":0.2}},\"type\":\"bar\"}],\"scattergeo\":[{\"type\":\"scattergeo\",\"marker\":{\"colorbar\":{\"outlinewidth\":0,\"ticks\":\"\"}}}],\"scatterpolar\":[{\"type\":\"scatterpolar\",\"marker\":{\"colorbar\":{\"outlinewidth\":0,\"ticks\":\"\"}}}],\"histogram\":[{\"marker\":{\"pattern\":{\"fillmode\":\"overlay\",\"size\":10,\"solidity\":0.2}},\"type\":\"histogram\"}],\"scattergl\":[{\"type\":\"scattergl\",\"marker\":{\"colorbar\":{\"outlinewidth\":0,\"ticks\":\"\"}}}],\"scatter3d\":[{\"type\":\"scatter3d\",\"line\":{\"colorbar\":{\"outlinewidth\":0,\"ticks\":\"\"}},\"marker\":{\"colorbar\":{\"outlinewidth\":0,\"ticks\":\"\"}}}],\"scattermapbox\":[{\"type\":\"scattermapbox\",\"marker\":{\"colorbar\":{\"outlinewidth\":0,\"ticks\":\"\"}}}],\"scatterternary\":[{\"type\":\"scatterternary\",\"marker\":{\"colorbar\":{\"outlinewidth\":0,\"ticks\":\"\"}}}],\"scattercarpet\":[{\"type\":\"scattercarpet\",\"marker\":{\"colorbar\":{\"outlinewidth\":0,\"ticks\":\"\"}}}],\"carpet\":[{\"aaxis\":{\"endlinecolor\":\"#2a3f5f\",\"gridcolor\":\"white\",\"linecolor\":\"white\",\"minorgridcolor\":\"white\",\"startlinecolor\":\"#2a3f5f\"},\"baxis\":{\"endlinecolor\":\"#2a3f5f\",\"gridcolor\":\"white\",\"linecolor\":\"white\",\"minorgridcolor\":\"white\",\"startlinecolor\":\"#2a3f5f\"},\"type\":\"carpet\"}],\"table\":[{\"cells\":{\"fill\":{\"color\":\"#EBF0F8\"},\"line\":{\"color\":\"white\"}},\"header\":{\"fill\":{\"color\":\"#C8D4E3\"},\"line\":{\"color\":\"white\"}},\"type\":\"table\"}],\"barpolar\":[{\"marker\":{\"line\":{\"color\":\"#E5ECF6\",\"width\":0.5},\"pattern\":{\"fillmode\":\"overlay\",\"size\":10,\"solidity\":0.2}},\"type\":\"barpolar\"}],\"pie\":[{\"automargin\":true,\"type\":\"pie\"}]},\"layout\":{\"autotypenumbers\":\"strict\",\"colorway\":[\"#636efa\",\"#EF553B\",\"#00cc96\",\"#ab63fa\",\"#FFA15A\",\"#19d3f3\",\"#FF6692\",\"#B6E880\",\"#FF97FF\",\"#FECB52\"],\"font\":{\"color\":\"#2a3f5f\"},\"hovermode\":\"closest\",\"hoverlabel\":{\"align\":\"left\"},\"paper_bgcolor\":\"white\",\"plot_bgcolor\":\"#E5ECF6\",\"polar\":{\"bgcolor\":\"#E5ECF6\",\"angularaxis\":{\"gridcolor\":\"white\",\"linecolor\":\"white\",\"ticks\":\"\"},\"radialaxis\":{\"gridcolor\":\"white\",\"linecolor\":\"white\",\"ticks\":\"\"}},\"ternary\":{\"bgcolor\":\"#E5ECF6\",\"aaxis\":{\"gridcolor\":\"white\",\"linecolor\":\"white\",\"ticks\":\"\"},\"baxis\":{\"gridcolor\":\"white\",\"linecolor\":\"white\",\"ticks\":\"\"},\"caxis\":{\"gridcolor\":\"white\",\"linecolor\":\"white\",\"ticks\":\"\"}},\"coloraxis\":{\"colorbar\":{\"outlinewidth\":0,\"ticks\":\"\"}},\"colorscale\":{\"sequential\":[[0.0,\"#0d0887\"],[0.1111111111111111,\"#46039f\"],[0.2222222222222222,\"#7201a8\"],[0.3333333333333333,\"#9c179e\"],[0.4444444444444444,\"#bd3786\"],[0.5555555555555556,\"#d8576b\"],[0.6666666666666666,\"#ed7953\"],[0.7777777777777778,\"#fb9f3a\"],[0.8888888888888888,\"#fdca26\"],[1.0,\"#f0f921\"]],\"sequentialminus\":[[0.0,\"#0d0887\"],[0.1111111111111111,\"#46039f\"],[0.2222222222222222,\"#7201a8\"],[0.3333333333333333,\"#9c179e\"],[0.4444444444444444,\"#bd3786\"],[0.5555555555555556,\"#d8576b\"],[0.6666666666666666,\"#ed7953\"],[0.7777777777777778,\"#fb9f3a\"],[0.8888888888888888,\"#fdca26\"],[1.0,\"#f0f921\"]],\"diverging\":[[0,\"#8e0152\"],[0.1,\"#c51b7d\"],[0.2,\"#de77ae\"],[0.3,\"#f1b6da\"],[0.4,\"#fde0ef\"],[0.5,\"#f7f7f7\"],[0.6,\"#e6f5d0\"],[0.7,\"#b8e186\"],[0.8,\"#7fbc41\"],[0.9,\"#4d9221\"],[1,\"#276419\"]]},\"xaxis\":{\"gridcolor\":\"white\",\"linecolor\":\"white\",\"ticks\":\"\",\"title\":{\"standoff\":15},\"zerolinecolor\":\"white\",\"automargin\":true,\"zerolinewidth\":2},\"yaxis\":{\"gridcolor\":\"white\",\"linecolor\":\"white\",\"ticks\":\"\",\"title\":{\"standoff\":15},\"zerolinecolor\":\"white\",\"automargin\":true,\"zerolinewidth\":2},\"scene\":{\"xaxis\":{\"backgroundcolor\":\"#E5ECF6\",\"gridcolor\":\"white\",\"linecolor\":\"white\",\"showbackground\":true,\"ticks\":\"\",\"zerolinecolor\":\"white\",\"gridwidth\":2},\"yaxis\":{\"backgroundcolor\":\"#E5ECF6\",\"gridcolor\":\"white\",\"linecolor\":\"white\",\"showbackground\":true,\"ticks\":\"\",\"zerolinecolor\":\"white\",\"gridwidth\":2},\"zaxis\":{\"backgroundcolor\":\"#E5ECF6\",\"gridcolor\":\"white\",\"linecolor\":\"white\",\"showbackground\":true,\"ticks\":\"\",\"zerolinecolor\":\"white\",\"gridwidth\":2}},\"shapedefaults\":{\"line\":{\"color\":\"#2a3f5f\"}},\"annotationdefaults\":{\"arrowcolor\":\"#2a3f5f\",\"arrowhead\":0,\"arrowwidth\":1},\"geo\":{\"bgcolor\":\"white\",\"landcolor\":\"#E5ECF6\",\"subunitcolor\":\"white\",\"showland\":true,\"showlakes\":true,\"lakecolor\":\"white\"},\"title\":{\"x\":0.05},\"mapbox\":{\"style\":\"light\"}}},\"font\":{\"size\":18},\"title\":{\"text\":\"Real vs. Synthetic Data for column 'TMPRSS2'\"},\"plot_bgcolor\":\"#F5F5F8\"},                        {\"responsive\": true}                    ).then(function(){\n",
              "                            \n",
              "var gd = document.getElementById('f52d76fd-c46e-492f-9c0a-45187d0c526b');\n",
              "var x = new MutationObserver(function (mutations, observer) {{\n",
              "        var display = window.getComputedStyle(gd).display;\n",
              "        if (!display || display === 'none') {{\n",
              "            console.log([gd, 'removed!']);\n",
              "            Plotly.purge(gd);\n",
              "            observer.disconnect();\n",
              "        }}\n",
              "}});\n",
              "\n",
              "// Listen for the removal of the full notebook cells\n",
              "var notebookContainer = gd.closest('#notebook-container');\n",
              "if (notebookContainer) {{\n",
              "    x.observe(notebookContainer, {childList: true});\n",
              "}}\n",
              "\n",
              "// Listen for the clearing of the current output cell\n",
              "var outputEl = gd.closest('.output');\n",
              "if (outputEl) {{\n",
              "    x.observe(outputEl, {childList: true});\n",
              "}}\n",
              "\n",
              "                        })                };                            </script>        </div>\n",
              "</body>\n",
              "</html>"
            ]
          },
          "metadata": {}
        }
      ]
    }
  ]
}